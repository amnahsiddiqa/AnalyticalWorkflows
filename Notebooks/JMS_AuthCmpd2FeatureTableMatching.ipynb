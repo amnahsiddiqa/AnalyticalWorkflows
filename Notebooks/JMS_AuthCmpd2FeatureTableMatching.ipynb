{
 "cells": [
  {
   "cell_type": "markdown",
   "id": "44b6594c-c056-4631-ab8e-b3cce11ef984",
   "metadata": {},
   "source": [
    "## mz-rt matching from Authentic Compounds to Feature Table \n",
    "\n",
    "- Refcatoring old pieces of code \n",
    "- May not be the optimal solution but I was in hurry \n",
    "\n",
    "\n",
    "--- \n",
    "Notes for myself: \n",
    "- Dont forget the correct order of targets list or else change in function; Which is smpd name , mz rt and everything else e.g 'HMDB0042008', 220.1332, 88.95, ['Ritalinic acid']\n",
    "- no need of sorting FT;Taken care through indexing tree; \n",
    "- However - Use a subset version with three columns in following order ; mz\trtime\tid_number for FT \n",
    "\n",
    "AS; August-09-2022"
   ]
  },
  {
   "cell_type": "code",
   "execution_count": 1,
   "id": "1815f80f-f085-440b-b591-376ddb5eeb84",
   "metadata": {},
   "outputs": [],
   "source": [
    "import json \n",
    "import pandas as pd"
   ]
  },
  {
   "cell_type": "raw",
   "id": "5efb1b3d-bcd2-448d-9ee4-16270bdbd8ce",
   "metadata": {},
   "source": [
    "## Input Files:\n",
    "\n",
    "target list = https://github.com/shuzhao-li/JMS/tree/main/jms/data/staged/combn_1strnd_HILICpos_2022-04-19_Shujian Zheng|Minghao Gong.json\n",
    "\n",
    "featuretable = https://github.com/amnahsiddiqa/MyAwsomeLife/blob/main/TestData/HP_preferred_Feature_table_AS.tsv\n",
    "---\n",
    "- Each authentic compound can have multiple fetaures (mz-rt pairs; even that we are having single ion based data which is M+H or M-H ) because of contaminants etc.\n",
    "- Therefore, as first step i need to convert this file into a dataframe where I have list of all the fetaures with authentic compound names; this will be my targets list\n",
    "- Then step2 , I will proceed for matching mz-rt uing SL old code https://github.com/shuzhao-li/Notebooks-computational-metabolomics/blob/master/notebooks/Search_list_targets_in_featureTable.ipynb"
   ]
  },
  {
   "cell_type": "code",
   "execution_count": 2,
   "id": "0dcdd72e-de72-41d5-b223-693c19f01574",
   "metadata": {},
   "outputs": [],
   "source": [
    "#read json file of authentic stanfdard library prep\n",
    "auth_file=\"./json_MG_JMS/combn_1strnd_HILICpos_2022-04-19_Shujian Zheng|Minghao Gong.json\"\n",
    "list_compounds = json.load(open(auth_file))\n",
    "my_auth_list=list(list_compounds.values())[: 1][0]\n",
    "# first element is \"list_of_Empirical_Compounds\": therefore [: 1][0]th item"
   ]
  },
  {
   "cell_type": "code",
   "execution_count": 3,
   "id": "adab2992-c71d-436a-9ba7-b5903b1cd6b4",
   "metadata": {},
   "outputs": [],
   "source": [
    "#my_auth_list[:2]"
   ]
  },
  {
   "cell_type": "markdown",
   "id": "88e2e496-536a-4528-b712-448e38da8851",
   "metadata": {
    "tags": []
   },
   "source": [
    "## Functions \n",
    "- for Converting AuthenticLIbrary to CSV \n",
    "- Matching mz lists "
   ]
  },
  {
   "cell_type": "code",
   "execution_count": 4,
   "id": "66b2e18b-5dca-4e90-94bb-f169ead66f40",
   "metadata": {},
   "outputs": [],
   "source": [
    "def ConvertAuthLibrarytoCsv(my_auth_list): \n",
    "    mz =[]\n",
    "    rt= []\n",
    "    ion_relation= []\n",
    "    compounds=[]\n",
    "    names=[]\n",
    "    #iterate for every item (empcmpd) of dictonary \n",
    "    for i in my_auth_list:\n",
    "        #print(i)\n",
    "        mydb_i=i#\n",
    "        #list of features ; acquire mz and rt for each feature \n",
    "        mydb_i_list_features=mydb_i['list_features']\n",
    "        mz+=[mydb_i_list_features['mz'] for mydb_i_list_features in mydb_i_list_features if 'mz' in mydb_i_list_features]\n",
    "        rt+=[mydb_i_list_features['rtime'] for mydb_i_list_features in mydb_i_list_features if 'rtime' in mydb_i_list_features]\n",
    "        #list of compounds ; acquire compound name and db id \n",
    "        mydb_j_identity=mydb_i['identity'] \n",
    "\n",
    "        if len([mydb_i_list_features['mz'] for mydb_i_list_features in mydb_i_list_features if 'mz' in mydb_i_list_features]) > 0:\n",
    "            compounds+=[d['compounds'] for d in mydb_j_identity if 'compounds' in d]*len([mydb_i_list_features['mz'] for mydb_i_list_features in mydb_i_list_features if 'mz' in mydb_i_list_features])\n",
    "            names+=[d['names'] for d in mydb_j_identity if 'names' in d]*len([mydb_i_list_features['mz'] for mydb_i_list_features in mydb_i_list_features if 'mz' in mydb_i_list_features])\n",
    "    df = pd.DataFrame(list(zip(mz, rt,  compounds, names)), columns=['mz', \"rt\", \"compounds\", \"names\"])\n",
    "    return (df)\n"
   ]
  },
  {
   "cell_type": "code",
   "execution_count": 5,
   "id": "81c8725b-3551-4bde-a222-a8283586990e",
   "metadata": {},
   "outputs": [],
   "source": [
    "def find_targets(targetList, featuresTree, result_file):\n",
    "    # target format: name at col 0, m/z at col 1 and rt col 2\n",
    "    # feature format: row_number, m/z, rt, original line\n",
    "    matched = []\n",
    "    # filter targetList\n",
    "    new = []\n",
    "    min_mz, max_mz = min(featuresTree.keys()), max(featuresTree.keys())\n",
    "    for x in targetList:\n",
    "        if min_mz < x[1] < max_mz:\n",
    "            new.append(x)\n",
    "        else:\n",
    "            print(\"out of m/z range: \", x)\n",
    "    for x in new:\n",
    "        # mz -0.1 to + 0.1 as search range\n",
    "        neighbors = set([int(x[1]-0.1), int(x[1]+0.1)])\n",
    "        for ii in neighbors:\n",
    "            for F in featuresTree[ii]:\n",
    "                if match2( (x[1], x[2]), F[1:3] ):\n",
    "                    matched.append((x + F))\n",
    "                \n",
    "    if matched:\n",
    "        s = \"#Matched result\\n\"\n",
    "        for line in matched:\n",
    "            s += '\\t'.join([str(x) for x in line]) + '\\n'\n",
    "        with open(result_file, 'w') as file:\n",
    "            file.write(s)\n",
    "        print(\"Found %d matches, result written to %s\" %(len(matched), result_file))\n",
    "    else:\n",
    "        print(\"No match found\")\n",
    "        \n",
    "    return matched"
   ]
  },
  {
   "cell_type": "markdown",
   "id": "6fe567dd-a0e2-4d51-a5d0-e163a432b98e",
   "metadata": {},
   "source": [
    "## Step1;Convert Authentic Compounds Json file to csv "
   ]
  },
  {
   "cell_type": "code",
   "execution_count": 6,
   "id": "a4312ceb-d696-4c85-8651-0e33d087747b",
   "metadata": {},
   "outputs": [],
   "source": [
    "AuthCmpdData=ConvertAuthLibrarytoCsv(my_auth_list)\n",
    "AuthCmpdData['rt'] = [round(x,2) for x in AuthCmpdData['rt']]\n",
    "AuthCmpdData['mz'] = [round(x,4) for x in AuthCmpdData['mz']]"
   ]
  },
  {
   "cell_type": "code",
   "execution_count": 7,
   "id": "73ae0764-e137-4b0c-9127-43137d3e1403",
   "metadata": {},
   "outputs": [
    {
     "data": {
      "text/html": [
       "<div>\n",
       "<style scoped>\n",
       "    .dataframe tbody tr th:only-of-type {\n",
       "        vertical-align: middle;\n",
       "    }\n",
       "\n",
       "    .dataframe tbody tr th {\n",
       "        vertical-align: top;\n",
       "    }\n",
       "\n",
       "    .dataframe thead th {\n",
       "        text-align: right;\n",
       "    }\n",
       "</style>\n",
       "<table border=\"1\" class=\"dataframe\">\n",
       "  <thead>\n",
       "    <tr style=\"text-align: right;\">\n",
       "      <th></th>\n",
       "      <th>mz</th>\n",
       "      <th>rt</th>\n",
       "      <th>compounds</th>\n",
       "      <th>names</th>\n",
       "    </tr>\n",
       "  </thead>\n",
       "  <tbody>\n",
       "    <tr>\n",
       "      <th>0</th>\n",
       "      <td>220.1332</td>\n",
       "      <td>88.95</td>\n",
       "      <td>HMDB0042008</td>\n",
       "      <td>[Ritalinic acid]</td>\n",
       "    </tr>\n",
       "    <tr>\n",
       "      <th>1</th>\n",
       "      <td>120.0655</td>\n",
       "      <td>163.95</td>\n",
       "      <td>HMDB0000719</td>\n",
       "      <td>[L-Homoserine]</td>\n",
       "    </tr>\n",
       "    <tr>\n",
       "      <th>2</th>\n",
       "      <td>190.1186</td>\n",
       "      <td>171.51</td>\n",
       "      <td>HMDB0000679</td>\n",
       "      <td>[Homocitrulline]</td>\n",
       "    </tr>\n",
       "    <tr>\n",
       "      <th>3</th>\n",
       "      <td>106.0499</td>\n",
       "      <td>172.63</td>\n",
       "      <td>HMDB0000187</td>\n",
       "      <td>[L-Serine]</td>\n",
       "    </tr>\n",
       "    <tr>\n",
       "      <th>4</th>\n",
       "      <td>120.0655</td>\n",
       "      <td>161.51</td>\n",
       "      <td>HMDB0000167</td>\n",
       "      <td>[L-Threonine]</td>\n",
       "    </tr>\n",
       "    <tr>\n",
       "      <th>...</th>\n",
       "      <td>...</td>\n",
       "      <td>...</td>\n",
       "      <td>...</td>\n",
       "      <td>...</td>\n",
       "    </tr>\n",
       "    <tr>\n",
       "      <th>115</th>\n",
       "      <td>389.1627</td>\n",
       "      <td>21.60</td>\n",
       "      <td>HMDB0005032</td>\n",
       "      <td>Cetirizine</td>\n",
       "    </tr>\n",
       "    <tr>\n",
       "      <th>116</th>\n",
       "      <td>389.1627</td>\n",
       "      <td>50.40</td>\n",
       "      <td>HMDB0005032</td>\n",
       "      <td>Cetirizine</td>\n",
       "    </tr>\n",
       "    <tr>\n",
       "      <th>117</th>\n",
       "      <td>338.0522</td>\n",
       "      <td>21.60</td>\n",
       "      <td>HMDB0001919</td>\n",
       "      <td>Famotidine</td>\n",
       "    </tr>\n",
       "    <tr>\n",
       "      <th>118</th>\n",
       "      <td>338.0522</td>\n",
       "      <td>39.60</td>\n",
       "      <td>HMDB0001919</td>\n",
       "      <td>Famotidine</td>\n",
       "    </tr>\n",
       "    <tr>\n",
       "      <th>119</th>\n",
       "      <td>280.1696</td>\n",
       "      <td>21.00</td>\n",
       "      <td>HMDB0015273</td>\n",
       "      <td>Doxepin</td>\n",
       "    </tr>\n",
       "  </tbody>\n",
       "</table>\n",
       "<p>120 rows × 4 columns</p>\n",
       "</div>"
      ],
      "text/plain": [
       "           mz      rt    compounds             names\n",
       "0    220.1332   88.95  HMDB0042008  [Ritalinic acid]\n",
       "1    120.0655  163.95  HMDB0000719    [L-Homoserine]\n",
       "2    190.1186  171.51  HMDB0000679  [Homocitrulline]\n",
       "3    106.0499  172.63  HMDB0000187        [L-Serine]\n",
       "4    120.0655  161.51  HMDB0000167     [L-Threonine]\n",
       "..        ...     ...          ...               ...\n",
       "115  389.1627   21.60  HMDB0005032        Cetirizine\n",
       "116  389.1627   50.40  HMDB0005032        Cetirizine\n",
       "117  338.0522   21.60  HMDB0001919        Famotidine\n",
       "118  338.0522   39.60  HMDB0001919        Famotidine\n",
       "119  280.1696   21.00  HMDB0015273           Doxepin\n",
       "\n",
       "[120 rows x 4 columns]"
      ]
     },
     "execution_count": 7,
     "metadata": {},
     "output_type": "execute_result"
    }
   ],
   "source": [
    "AuthCmpdData"
   ]
  },
  {
   "cell_type": "code",
   "execution_count": 8,
   "id": "3c9b9277-822f-4632-8d27-6f85d8be82ec",
   "metadata": {},
   "outputs": [
    {
     "data": {
      "text/plain": [
       "(120, 4)"
      ]
     },
     "execution_count": 8,
     "metadata": {},
     "output_type": "execute_result"
    }
   ],
   "source": [
    "#sometimes i need to work in r ; export for that \n",
    "AuthCmpdData.to_csv(\"Combination_HILICPOS_AS.csv\", sep=',',index=False) \n",
    "AuthCmpdData.shape"
   ]
  },
  {
   "cell_type": "code",
   "execution_count": 9,
   "id": "875e350c-cc52-4fdb-a4c9-8277017703ae",
   "metadata": {},
   "outputs": [],
   "source": [
    "# I need compound name first , then mz and then rt as my atarget list; this is how its coded in my mz-rt match function the target list \n",
    "AuthCmpdData = AuthCmpdData[[\"compounds\", \"mz\",\"rt\",\"names\"]]"
   ]
  },
  {
   "cell_type": "code",
   "execution_count": 10,
   "id": "cae0828e-0eeb-4c02-be92-888193c5d863",
   "metadata": {},
   "outputs": [],
   "source": [
    "AuthCmpdData=AuthCmpdData.values.tolist()"
   ]
  },
  {
   "cell_type": "code",
   "execution_count": 11,
   "id": "10856ec7-c540-44bb-b2ec-7d581fc3909e",
   "metadata": {},
   "outputs": [
    {
     "data": {
      "text/plain": [
       "[['HMDB0042008', 220.1332, 88.95, ['Ritalinic acid']],\n",
       " ['HMDB0000719', 120.0655, 163.95, ['L-Homoserine']],\n",
       " ['HMDB0000679', 190.1186, 171.51, ['Homocitrulline']]]"
      ]
     },
     "execution_count": 11,
     "metadata": {},
     "output_type": "execute_result"
    }
   ],
   "source": [
    "AuthCmpdData[:3]"
   ]
  },
  {
   "cell_type": "markdown",
   "id": "68fa7443-79ed-46d0-befc-33e6738ddfe3",
   "metadata": {},
   "source": [
    "## Step2: Match with feature table  based on mz-rt"
   ]
  },
  {
   "cell_type": "code",
   "execution_count": 12,
   "id": "a7566a87-f695-47ec-9f7d-02a194002a36",
   "metadata": {},
   "outputs": [
    {
     "name": "stdout",
     "output_type": "stream",
     "text": [
      "[['row1', 80.7236, 239.58, '80.7236\\t239.58\\tF2\\n'], ['row2', 80.9482, 137.79, '80.9482\\t137.79\\tF3\\n'], ['row3', 80.9482, 157.75, '80.9482\\t157.75\\tF4\\n']]\n"
     ]
    }
   ],
   "source": [
    "# i am using a subset version with three columns in following order ; \n",
    "#mz\trtime\tid_number\n",
    "feature_table = \"HP_preferred_Feature_table_AS.tsv\"\n",
    "\n",
    "## Functions\n",
    "# m/z at col 1, rt at col 2\n",
    "\n",
    "row = 0\n",
    "features = []\n",
    "for line in open(feature_table).readlines()[1:]:\n",
    "    a = line.split('\\t')\n",
    "    row += 1\n",
    "    features.append([ 'row'+str(row), float(a[0]), float(a[1]), line ])\n",
    "    \n",
    "print (features[:3])\n",
    "\n"
   ]
  },
  {
   "cell_type": "code",
   "execution_count": 13,
   "id": "0145dcab-6d56-4a1a-a582-23ba15daaeff",
   "metadata": {},
   "outputs": [
    {
     "name": "stdout",
     "output_type": "stream",
     "text": [
      "min_mz, max_mz =  80.7236 999.657\n"
     ]
    }
   ],
   "source": [
    "tree = {}\n",
    "all_mzs = [x[1] for x in features]\n",
    "min_mz, max_mz = min(all_mzs), max(all_mzs)\n",
    "print(\"min_mz, max_mz = \", min_mz, max_mz)\n",
    "\n",
    "for ii in range(int(min_mz), int(max_mz)+1):\n",
    "    tree[ii] = []\n",
    "\n",
    "# building feature index so that the search isn't too slow.\n",
    "for f in features:\n",
    "    tree[int(f[1])].append(f)"
   ]
  },
  {
   "cell_type": "code",
   "execution_count": 14,
   "id": "c767ee75-66e0-4f18-a340-c8bd26767757",
   "metadata": {},
   "outputs": [
    {
     "name": "stdout",
     "output_type": "stream",
     "text": [
      "False\n",
      "True\n"
     ]
    }
   ],
   "source": [
    "# 0.000010 is 10 ppm\n",
    "PPM_tolerance = 0.000010\n",
    "# use a large number to include anything in RTime, small number to be specific\n",
    "RTime_tolerance = 10      \n",
    "             \n",
    "# F1 = (m/z, rt)\n",
    "def match2(F1, F2):\n",
    "    if abs(F1[0]-F2[0])/F1[0] < PPM_tolerance and abs(F1[1] - F2[1]) < RTime_tolerance:\n",
    "        return True\n",
    "    else:\n",
    "        return False\n",
    "    \n",
    "# test\n",
    "print(match2((129.1541, 55), (129.1533, 144)))\n",
    "print(match2((129.1541, 55), (129.1533, 61)))"
   ]
  },
  {
   "cell_type": "code",
   "execution_count": 15,
   "id": "27f2fd94-7eb0-48dd-b00f-0fe1febfb279",
   "metadata": {},
   "outputs": [
    {
     "name": "stdout",
     "output_type": "stream",
     "text": [
      "Found 30 matches, result written to search_result.tsv\n"
     ]
    }
   ],
   "source": [
    "result_file = \"search_result.tsv\"\n",
    "\n",
    "matched = find_targets( AuthCmpdData, tree, result_file )"
   ]
  }
 ],
 "metadata": {
  "kernelspec": {
   "display_name": "Python 3 (ipykernel)",
   "language": "python",
   "name": "python3"
  },
  "language_info": {
   "codemirror_mode": {
    "name": "ipython",
    "version": 3
   },
   "file_extension": ".py",
   "mimetype": "text/x-python",
   "name": "python",
   "nbconvert_exporter": "python",
   "pygments_lexer": "ipython3",
   "version": "3.10.5"
  }
 },
 "nbformat": 4,
 "nbformat_minor": 5
}
