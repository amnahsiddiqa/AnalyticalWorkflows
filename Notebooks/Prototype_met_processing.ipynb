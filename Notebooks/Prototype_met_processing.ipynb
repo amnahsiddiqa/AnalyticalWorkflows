{
 "cells": [
  {
   "cell_type": "markdown",
   "id": "b4fee160-3b46-458e-aa77-22ddcae802a1",
   "metadata": {},
   "source": [
    "# Prototype for funtions required for processing of data \n",
    "\n",
    "---\n",
    "\n",
    "Amnah Siddiqa\n",
    "\n",
    "November 02, 2022\n",
    "\n",
    "----\n"
   ]
  },
  {
   "cell_type": "code",
   "execution_count": 1,
   "id": "cd41c39c-45a4-4a9d-81d5-9e03b6f48c98",
   "metadata": {},
   "outputs": [],
   "source": [
    "shhh <- suppressPackageStartupMessages # It's a library, so shhh!\n",
    "shhh(library(tidyverse))\n",
    "library(dplyr)\n",
    "library(pheatmap)\n",
    "library(dplyr)\n",
    "shhh(library(RColorBrewer))\n",
    "shhh(library(data.table))\n",
    "shhh(library(FactoMineR))\n",
    "shhh(library(factoextra))\n",
    "shhh(library(tidyverse))\n",
    "library(repr)#jupyter notebook R ; image manipulation "
   ]
  },
  {
   "cell_type": "code",
   "execution_count": 2,
   "id": "69b43cce-6b43-4951-a00a-9b851dbb81d9",
   "metadata": {},
   "outputs": [],
   "source": [
    "#remove background peaks\n",
    "tagfeaturestoremoveBG<-function(bg_df, signal_df){\n",
    "  \n",
    "  #Input files bg_df and signal_df are of following shape  with zeros as returned by asari \n",
    "  # batch1_Blank_20221018_001 batch1_Blank_20221018_003 batch1_Blank_20221018_005 \n",
    "  # F7                          0                         0                         0                               \n",
    "  # F11                         0                         0                         0                       \n",
    "  # F15                    116514                    170992                     93020                         \n",
    "  \n",
    "  #step1\n",
    "  #select the features which are detected in least a blank sample\n",
    "  #if row sum of blank samples is greater than 0 ; \n",
    "  # cz asari has zeros as mising values ; have to first convert them to NAs for correct mean calculations \n",
    "  bg_df[bg_df==0 ]<-NA\n",
    "  bg_df<-bg_df[rowSums(bg_df, na.rm=TRUE)>0, ]\n",
    "  #dim(bg_df)\n",
    "  \n",
    "  #get the background samples mean values of features \n",
    "  bg_df<-data.frame(Fid=rownames(bg_df),bkgmean=rowMeans(bg_df, na.rm=TRUE))\n",
    " \n",
    "  #get the signal mean values \n",
    "  signal_df[signal_df==0]<-NA\n",
    "  signal_df<-data.frame(Fid=rownames(signal_df), signalmean=rowMeans(signal_df,na.rm=TRUE))\n",
    "  \n",
    "   #get the data combined for signal_df and bg_df means for all features \n",
    "  combined_df<-left_join(bg_df, signal_df, by=\"Fid\")\n",
    "  \n",
    "   #if signal mean is 3x greater than the background mean vakues keep that feature else remove that feature \n",
    "  combined_df<-combined_df%>%mutate(filterValue=ifelse(signalmean > (3*bkgmean), \"keep\", \"remove\"))\n",
    "  \n",
    "  \n",
    "  ## remove tag ;  signal mean value was lower \n",
    "  combined_df<-combined_df%>%filter(filterValue==\"remove\")\n",
    "  #head(combined_df)\n",
    "  #dim(combined_df)\n",
    "  \n",
    "  return(combined_df)\n",
    "}\n"
   ]
  },
  {
   "cell_type": "code",
   "execution_count": 23,
   "id": "0c3fbb29-08db-4b8b-8a18-6f3a2080e46e",
   "metadata": {},
   "outputs": [],
   "source": [
    "tagfeaturestokeepGroupwise<-function(metadata, ft, percentage, groupcol,fileNamecol){\n",
    "  \n",
    "  #Input file metadata should look like this and must have columns \n",
    "  # A data.frame: 6 × 5\n",
    "  # SampleType\tFileName\tSampleID\tbatch\tFileNameEdits\n",
    "  # <chr>\t<chr>\t<chr>\t<chr>\t<chr>\n",
    "  #   1\tSample\tMT_20221018_011\tLeu_M_02_01\tbatch1\tbatch1_MT_20221018_011\n",
    "  # 2\tSample\tMT_20221018_013\tDHEAS_L_03_01\tbatch1\tbatch1_MT_20221018_013\n",
    "  # 3\tSample\tMT_20221018_015\tPhe_H_01_01\tbatch1\tbatch1_MT_20221018_015  \n",
    "  #   \n",
    "  \n",
    "  \n",
    "  # percentage is any number between 0-1\n",
    "  \n",
    "  \n",
    "  #Input files bg_df and signal_df are of following shape  with zeros as returned by asari \n",
    "  # batch1_Blank_20221018_001 batch1_Blank_20221018_003 batch1_Blank_20221018_005 \n",
    "  # F7                          0                         0                         0                               \n",
    "  # F11                         0                         0                         0                       \n",
    "  # F15                    116514                    170992                     93020                         \n",
    "  \n",
    "  \n",
    "  #groupcol is the name of column in metadata you want to use for filtering \n",
    "  \n",
    "  # fileNamecol is name of file namessol\n",
    "  \n",
    "  #groupwise filtering \n",
    "  groups=unique(metadata_df[[groupcol]])\n",
    "  groups\n",
    "  #percentage=0.8\n",
    "  length(groups)\n",
    "  masterft<-data.frame()\n",
    "  for (agroup in 1:length(groups)){\n",
    "    #print(\"..\")\n",
    "    metadata_df2<-filter(metadata_df,metadata_df[[groupcol]]==groups[agroup])\n",
    "    ft_subset<-ft%>% select_if((names(.) %in% metadata_df2[[fileNamecol]]))\n",
    "    #Detection count is present values in features \n",
    "    ft_subset$DetectionCount<- rowSums(ft_subset != 0)\n",
    "    #keep the features which have at least X percent presence in group \n",
    "    ft_subset<-ft_subset%>%filter(DetectionCount >= (ncol(ft_subset)*percentage))\n",
    "    ft_subset<-data.frame(Fid=row.names(ft_subset))\n",
    "    masterft<-rbind(masterft, ft_subset)\n",
    "  }\n",
    "  \n",
    "  masterft<-unique(masterft)\n",
    "  return(masterft)\n",
    "}\n",
    "\n"
   ]
  },
  {
   "cell_type": "code",
   "execution_count": 24,
   "id": "3619a001-d132-41e3-9967-2d9d5c2efb5d",
   "metadata": {},
   "outputs": [
    {
     "data": {
      "text/html": [
       "'/home/jovyan/work/Documents/GitHub/MasterRepos/AnalyticalWorkflows/Notebooks'"
      ],
      "text/latex": [
       "'/home/jovyan/work/Documents/GitHub/MasterRepos/AnalyticalWorkflows/Notebooks'"
      ],
      "text/markdown": [
       "'/home/jovyan/work/Documents/GitHub/MasterRepos/AnalyticalWorkflows/Notebooks'"
      ],
      "text/plain": [
       "[1] \"/home/jovyan/work/Documents/GitHub/MasterRepos/AnalyticalWorkflows/Notebooks\""
      ]
     },
     "metadata": {},
     "output_type": "display_data"
    }
   ],
   "source": [
    "getwd()"
   ]
  },
  {
   "cell_type": "markdown",
   "id": "77941a85-7955-4872-95dc-d1f1f3e730d4",
   "metadata": {
    "tags": []
   },
   "source": [
    "## Data prep"
   ]
  },
  {
   "cell_type": "code",
   "execution_count": 4,
   "id": "594f550b-d745-4ee5-993e-86efa8f9f35c",
   "metadata": {},
   "outputs": [
    {
     "name": "stdout",
     "output_type": "stream",
     "text": [
      "[1] 31282   186\n"
     ]
    },
    {
     "data": {
      "text/html": [
       "<table class=\"dataframe\">\n",
       "<caption>A data.frame: 6 × 186</caption>\n",
       "<thead>\n",
       "\t<tr><th></th><th scope=col>id_number</th><th scope=col>mz</th><th scope=col>rtime</th><th scope=col>rtime_left_base</th><th scope=col>rtime_right_base</th><th scope=col>parent_masstrack_id</th><th scope=col>peak_area</th><th scope=col>cSelectivity</th><th scope=col>goodness_fitting</th><th scope=col>snr</th><th scope=col>⋯</th><th scope=col>batch2_MT_20221019_151</th><th scope=col>batch2_MT_20221019_153</th><th scope=col>batch2_MT_20221019_155</th><th scope=col>batch2_MT_20221019_157</th><th scope=col>batch2_MT_20221019_159</th><th scope=col>batch2_MT_20221019_161</th><th scope=col>batch2_MT_20221019_163</th><th scope=col>batch2_MT_20221019_165</th><th scope=col>batch2_MT_20221019_167</th><th scope=col>batch2_MT_20221019_169</th></tr>\n",
       "\t<tr><th></th><th scope=col>&lt;chr&gt;</th><th scope=col>&lt;dbl&gt;</th><th scope=col>&lt;dbl&gt;</th><th scope=col>&lt;dbl&gt;</th><th scope=col>&lt;dbl&gt;</th><th scope=col>&lt;int&gt;</th><th scope=col>&lt;dbl&gt;</th><th scope=col>&lt;dbl&gt;</th><th scope=col>&lt;dbl&gt;</th><th scope=col>&lt;int&gt;</th><th scope=col>⋯</th><th scope=col>&lt;dbl&gt;</th><th scope=col>&lt;dbl&gt;</th><th scope=col>&lt;dbl&gt;</th><th scope=col>&lt;dbl&gt;</th><th scope=col>&lt;dbl&gt;</th><th scope=col>&lt;dbl&gt;</th><th scope=col>&lt;dbl&gt;</th><th scope=col>&lt;dbl&gt;</th><th scope=col>&lt;dbl&gt;</th><th scope=col>&lt;dbl&gt;</th></tr>\n",
       "</thead>\n",
       "<tbody>\n",
       "\t<tr><th scope=row>F3</th><td>F3 </td><td>67.0548</td><td>224.28</td><td>219.61</td><td>251.63</td><td> 3</td><td> 41654322</td><td>1.00</td><td>0.81</td><td>  74</td><td>⋯</td><td>     0</td><td>284953</td><td>  311033</td><td>282488</td><td>289498</td><td>389188</td><td>     0</td><td>  350296</td><td>279933</td><td>257024</td></tr>\n",
       "\t<tr><th scope=row>F5</th><td>F5 </td><td>67.1903</td><td>189.70</td><td>188.65</td><td>190.74</td><td> 4</td><td>  1368410</td><td>1.00</td><td>0.74</td><td>  24</td><td>⋯</td><td>     0</td><td>     0</td><td>       0</td><td>     0</td><td>     0</td><td>     0</td><td>     0</td><td>       0</td><td>     0</td><td>     0</td></tr>\n",
       "\t<tr><th scope=row>F7</th><td>F7 </td><td>67.2507</td><td>141.60</td><td>138.74</td><td>144.29</td><td> 8</td><td>789870563</td><td>1.00</td><td>0.93</td><td>6970</td><td>⋯</td><td>     0</td><td>     0</td><td>13252984</td><td>     0</td><td>     0</td><td>     0</td><td>     0</td><td>13173610</td><td>     0</td><td>     0</td></tr>\n",
       "\t<tr><th scope=row>F11</th><td>F11</td><td>68.9939</td><td>  1.59</td><td>  1.03</td><td>  2.93</td><td>10</td><td> 22901904</td><td>1.00</td><td>0.91</td><td> 766</td><td>⋯</td><td>328122</td><td>157086</td><td>       0</td><td>     0</td><td>     0</td><td>     0</td><td>113512</td><td>       0</td><td>     0</td><td>     0</td></tr>\n",
       "\t<tr><th scope=row>F13</th><td>F13</td><td>69.0341</td><td>171.31</td><td>169.70</td><td>174.17</td><td>11</td><td>  4985349</td><td>0.92</td><td>0.85</td><td>  72</td><td>⋯</td><td>     0</td><td>     0</td><td>   13734</td><td>     0</td><td>     0</td><td>     0</td><td>     0</td><td>       0</td><td> 50653</td><td>312163</td></tr>\n",
       "\t<tr><th scope=row>F14</th><td>F14</td><td>69.0341</td><td>215.55</td><td>211.42</td><td>218.53</td><td>11</td><td>  4278112</td><td>0.96</td><td>0.82</td><td>  35</td><td>⋯</td><td>     0</td><td>     0</td><td>  128102</td><td>     0</td><td>     0</td><td>     0</td><td>187204</td><td>       0</td><td>123795</td><td>     0</td></tr>\n",
       "</tbody>\n",
       "</table>\n"
      ],
      "text/latex": [
       "A data.frame: 6 × 186\n",
       "\\begin{tabular}{r|lllllllllllllllllllll}\n",
       "  & id\\_number & mz & rtime & rtime\\_left\\_base & rtime\\_right\\_base & parent\\_masstrack\\_id & peak\\_area & cSelectivity & goodness\\_fitting & snr & ⋯ & batch2\\_MT\\_20221019\\_151 & batch2\\_MT\\_20221019\\_153 & batch2\\_MT\\_20221019\\_155 & batch2\\_MT\\_20221019\\_157 & batch2\\_MT\\_20221019\\_159 & batch2\\_MT\\_20221019\\_161 & batch2\\_MT\\_20221019\\_163 & batch2\\_MT\\_20221019\\_165 & batch2\\_MT\\_20221019\\_167 & batch2\\_MT\\_20221019\\_169\\\\\n",
       "  & <chr> & <dbl> & <dbl> & <dbl> & <dbl> & <int> & <dbl> & <dbl> & <dbl> & <int> & ⋯ & <dbl> & <dbl> & <dbl> & <dbl> & <dbl> & <dbl> & <dbl> & <dbl> & <dbl> & <dbl>\\\\\n",
       "\\hline\n",
       "\tF3 & F3  & 67.0548 & 224.28 & 219.61 & 251.63 &  3 &  41654322 & 1.00 & 0.81 &   74 & ⋯ &      0 & 284953 &   311033 & 282488 & 289498 & 389188 &      0 &   350296 & 279933 & 257024\\\\\n",
       "\tF5 & F5  & 67.1903 & 189.70 & 188.65 & 190.74 &  4 &   1368410 & 1.00 & 0.74 &   24 & ⋯ &      0 &      0 &        0 &      0 &      0 &      0 &      0 &        0 &      0 &      0\\\\\n",
       "\tF7 & F7  & 67.2507 & 141.60 & 138.74 & 144.29 &  8 & 789870563 & 1.00 & 0.93 & 6970 & ⋯ &      0 &      0 & 13252984 &      0 &      0 &      0 &      0 & 13173610 &      0 &      0\\\\\n",
       "\tF11 & F11 & 68.9939 &   1.59 &   1.03 &   2.93 & 10 &  22901904 & 1.00 & 0.91 &  766 & ⋯ & 328122 & 157086 &        0 &      0 &      0 &      0 & 113512 &        0 &      0 &      0\\\\\n",
       "\tF13 & F13 & 69.0341 & 171.31 & 169.70 & 174.17 & 11 &   4985349 & 0.92 & 0.85 &   72 & ⋯ &      0 &      0 &    13734 &      0 &      0 &      0 &      0 &        0 &  50653 & 312163\\\\\n",
       "\tF14 & F14 & 69.0341 & 215.55 & 211.42 & 218.53 & 11 &   4278112 & 0.96 & 0.82 &   35 & ⋯ &      0 &      0 &   128102 &      0 &      0 &      0 & 187204 &        0 & 123795 &      0\\\\\n",
       "\\end{tabular}\n"
      ],
      "text/markdown": [
       "\n",
       "A data.frame: 6 × 186\n",
       "\n",
       "| <!--/--> | id_number &lt;chr&gt; | mz &lt;dbl&gt; | rtime &lt;dbl&gt; | rtime_left_base &lt;dbl&gt; | rtime_right_base &lt;dbl&gt; | parent_masstrack_id &lt;int&gt; | peak_area &lt;dbl&gt; | cSelectivity &lt;dbl&gt; | goodness_fitting &lt;dbl&gt; | snr &lt;int&gt; | ⋯ ⋯ | batch2_MT_20221019_151 &lt;dbl&gt; | batch2_MT_20221019_153 &lt;dbl&gt; | batch2_MT_20221019_155 &lt;dbl&gt; | batch2_MT_20221019_157 &lt;dbl&gt; | batch2_MT_20221019_159 &lt;dbl&gt; | batch2_MT_20221019_161 &lt;dbl&gt; | batch2_MT_20221019_163 &lt;dbl&gt; | batch2_MT_20221019_165 &lt;dbl&gt; | batch2_MT_20221019_167 &lt;dbl&gt; | batch2_MT_20221019_169 &lt;dbl&gt; |\n",
       "|---|---|---|---|---|---|---|---|---|---|---|---|---|---|---|---|---|---|---|---|---|---|\n",
       "| F3 | F3  | 67.0548 | 224.28 | 219.61 | 251.63 |  3 |  41654322 | 1.00 | 0.81 |   74 | ⋯ |      0 | 284953 |   311033 | 282488 | 289498 | 389188 |      0 |   350296 | 279933 | 257024 |\n",
       "| F5 | F5  | 67.1903 | 189.70 | 188.65 | 190.74 |  4 |   1368410 | 1.00 | 0.74 |   24 | ⋯ |      0 |      0 |        0 |      0 |      0 |      0 |      0 |        0 |      0 |      0 |\n",
       "| F7 | F7  | 67.2507 | 141.60 | 138.74 | 144.29 |  8 | 789870563 | 1.00 | 0.93 | 6970 | ⋯ |      0 |      0 | 13252984 |      0 |      0 |      0 |      0 | 13173610 |      0 |      0 |\n",
       "| F11 | F11 | 68.9939 |   1.59 |   1.03 |   2.93 | 10 |  22901904 | 1.00 | 0.91 |  766 | ⋯ | 328122 | 157086 |        0 |      0 |      0 |      0 | 113512 |        0 |      0 |      0 |\n",
       "| F13 | F13 | 69.0341 | 171.31 | 169.70 | 174.17 | 11 |   4985349 | 0.92 | 0.85 |   72 | ⋯ |      0 |      0 |    13734 |      0 |      0 |      0 |      0 |        0 |  50653 | 312163 |\n",
       "| F14 | F14 | 69.0341 | 215.55 | 211.42 | 218.53 | 11 |   4278112 | 0.96 | 0.82 |   35 | ⋯ |      0 |      0 |   128102 |      0 |      0 |      0 | 187204 |        0 | 123795 |      0 |\n",
       "\n"
      ],
      "text/plain": [
       "    id_number mz      rtime  rtime_left_base rtime_right_base\n",
       "F3  F3        67.0548 224.28 219.61          251.63          \n",
       "F5  F5        67.1903 189.70 188.65          190.74          \n",
       "F7  F7        67.2507 141.60 138.74          144.29          \n",
       "F11 F11       68.9939   1.59   1.03            2.93          \n",
       "F13 F13       69.0341 171.31 169.70          174.17          \n",
       "F14 F14       69.0341 215.55 211.42          218.53          \n",
       "    parent_masstrack_id peak_area cSelectivity goodness_fitting snr  ⋯\n",
       "F3   3                   41654322 1.00         0.81               74 ⋯\n",
       "F5   4                    1368410 1.00         0.74               24 ⋯\n",
       "F7   8                  789870563 1.00         0.93             6970 ⋯\n",
       "F11 10                   22901904 1.00         0.91              766 ⋯\n",
       "F13 11                    4985349 0.92         0.85               72 ⋯\n",
       "F14 11                    4278112 0.96         0.82               35 ⋯\n",
       "    batch2_MT_20221019_151 batch2_MT_20221019_153 batch2_MT_20221019_155\n",
       "F3       0                 284953                   311033              \n",
       "F5       0                      0                        0              \n",
       "F7       0                      0                 13252984              \n",
       "F11 328122                 157086                        0              \n",
       "F13      0                      0                    13734              \n",
       "F14      0                      0                   128102              \n",
       "    batch2_MT_20221019_157 batch2_MT_20221019_159 batch2_MT_20221019_161\n",
       "F3  282488                 289498                 389188                \n",
       "F5       0                      0                      0                \n",
       "F7       0                      0                      0                \n",
       "F11      0                      0                      0                \n",
       "F13      0                      0                      0                \n",
       "F14      0                      0                      0                \n",
       "    batch2_MT_20221019_163 batch2_MT_20221019_165 batch2_MT_20221019_167\n",
       "F3       0                   350296               279933                \n",
       "F5       0                        0                    0                \n",
       "F7       0                 13173610                    0                \n",
       "F11 113512                        0                    0                \n",
       "F13      0                        0                50653                \n",
       "F14 187204                        0               123795                \n",
       "    batch2_MT_20221019_169\n",
       "F3  257024                \n",
       "F5       0                \n",
       "F7       0                \n",
       "F11      0                \n",
       "F13 312163                \n",
       "F14      0                "
      ]
     },
     "metadata": {},
     "output_type": "display_data"
    }
   ],
   "source": [
    "FT=\"../TestData/preferred_Feature_table.tsv\"\n",
    "#FT=\"../HILICPOS/asari_output/preferred_Feature_table.tsv\"\n",
    "## read feature data; this is asari table\n",
    "ft<-read.table(FT, \n",
    "               sep=\"\\t\", header = TRUE)\n",
    "print(dim(ft))\n",
    "#colnames(ft)[1:12]\n",
    "row.names(ft)<-ft$id_number\n",
    "head(ft)"
   ]
  },
  {
   "cell_type": "markdown",
   "id": "bb5b4357-c83e-43d3-aeb4-c9f7fefec5e9",
   "metadata": {},
   "source": [
    "## Filter features > snr 100\n",
    "\n",
    "signalto noise ratio is defined as : the non signal data points than peaks (all peaks present) in a masstrack; "
   ]
  },
  {
   "cell_type": "code",
   "execution_count": 5,
   "id": "fa85a99a-233a-4bee-962a-9767c56f728f",
   "metadata": {},
   "outputs": [
    {
     "data": {
      "application/pdf": "[encoded data removed]",
      "image/jpeg": "[encoded data removed]",
      "image/png": "[encoded data removed]",
      "image/svg+xml": [
       "<?xml version=\"1.0\" encoding=\"UTF-8\"?>\n",
       "<svg xmlns=\"http://www.w3.org/2000/svg\" xmlns:xlink=\"http://www.w3.org/1999/xlink\" width=\"360pt\" height=\"288pt\" viewBox=\"0 0 360 288\" version=\"1.1\">\n",
       "<defs>\n",
       "<g>\n",
       "<symbol overflow=\"visible\" id=\"glyph0-0\">\n",
       "<path style=\"stroke:none;\" d=\"M 0.40625 0 L 0.40625 -8 L 3.59375 -8 L 3.59375 0 Z M 0.796875 -0.40625 L 3.1875 -0.40625 L 3.1875 -7.59375 L 0.796875 -7.59375 Z M 0.796875 -0.40625 \"/>\n",
       "</symbol>\n",
       "<symbol overflow=\"visible\" id=\"glyph0-1\">\n",
       "<path style=\"stroke:none;\" d=\"M 6.171875 -2.6875 C 6.171875 -2.269531 6.109375 -1.890625 5.984375 -1.546875 C 5.859375 -1.203125 5.671875 -0.90625 5.421875 -0.65625 C 5.179688 -0.414062 4.878906 -0.222656 4.515625 -0.078125 C 4.148438 0.0546875 3.722656 0.125 3.234375 0.125 C 2.804688 0.125 2.429688 0.0703125 2.109375 -0.03125 C 1.785156 -0.132812 1.507812 -0.273438 1.28125 -0.453125 C 1.0625 -0.628906 0.882812 -0.835938 0.75 -1.078125 C 0.625 -1.316406 0.535156 -1.570312 0.484375 -1.84375 L 1.546875 -1.96875 C 1.585938 -1.8125 1.644531 -1.660156 1.71875 -1.515625 C 1.800781 -1.367188 1.910156 -1.238281 2.046875 -1.125 C 2.179688 -1.007812 2.347656 -0.914062 2.546875 -0.84375 C 2.742188 -0.78125 2.984375 -0.75 3.265625 -0.75 C 3.535156 -0.75 3.78125 -0.789062 4 -0.875 C 4.226562 -0.957031 4.421875 -1.078125 4.578125 -1.234375 C 4.734375 -1.398438 4.851562 -1.601562 4.9375 -1.84375 C 5.03125 -2.082031 5.078125 -2.359375 5.078125 -2.671875 C 5.078125 -2.921875 5.035156 -3.148438 4.953125 -3.359375 C 4.867188 -3.578125 4.75 -3.765625 4.59375 -3.921875 C 4.445312 -4.078125 4.257812 -4.195312 4.03125 -4.28125 C 3.8125 -4.363281 3.5625 -4.40625 3.28125 -4.40625 C 3.113281 -4.40625 2.953125 -4.390625 2.796875 -4.359375 C 2.648438 -4.328125 2.515625 -4.285156 2.390625 -4.234375 C 2.265625 -4.179688 2.148438 -4.117188 2.046875 -4.046875 C 1.941406 -3.972656 1.84375 -3.894531 1.75 -3.8125 L 0.71875 -3.8125 L 1 -8.25 L 5.6875 -8.25 L 5.6875 -7.359375 L 1.953125 -7.359375 L 1.796875 -4.734375 C 1.984375 -4.878906 2.21875 -5.003906 2.5 -5.109375 C 2.78125 -5.210938 3.113281 -5.265625 3.5 -5.265625 C 3.914062 -5.265625 4.285156 -5.203125 4.609375 -5.078125 C 4.941406 -4.953125 5.222656 -4.773438 5.453125 -4.546875 C 5.679688 -4.316406 5.859375 -4.046875 5.984375 -3.734375 C 6.109375 -3.421875 6.171875 -3.070312 6.171875 -2.6875 Z M 6.171875 -2.6875 \"/>\n",
       "</symbol>\n",
       "<symbol overflow=\"visible\" id=\"glyph0-2\">\n",
       "<path style=\"stroke:none;\" d=\"M 0.921875 0 L 0.921875 -0.890625 L 3.015625 -0.890625 L 3.015625 -7.25 L 1.15625 -5.921875 L 1.15625 -6.921875 L 3.109375 -8.25 L 4.078125 -8.25 L 4.078125 -0.890625 L 6.09375 -0.890625 L 6.09375 0 Z M 0.921875 0 \"/>\n",
       "</symbol>\n",
       "<symbol overflow=\"visible\" id=\"glyph0-3\">\n",
       "<path style=\"stroke:none;\" d=\"M 6.203125 -4.125 C 6.203125 -3.332031 6.125 -2.664062 5.96875 -2.125 C 5.820312 -1.582031 5.617188 -1.144531 5.359375 -0.8125 C 5.097656 -0.476562 4.789062 -0.238281 4.4375 -0.09375 C 4.09375 0.0507812 3.722656 0.125 3.328125 0.125 C 2.921875 0.125 2.539062 0.0507812 2.1875 -0.09375 C 1.84375 -0.238281 1.539062 -0.476562 1.28125 -0.8125 C 1.03125 -1.144531 0.832031 -1.582031 0.6875 -2.125 C 0.539062 -2.664062 0.46875 -3.332031 0.46875 -4.125 C 0.46875 -4.957031 0.539062 -5.644531 0.6875 -6.1875 C 0.832031 -6.738281 1.035156 -7.175781 1.296875 -7.5 C 1.554688 -7.820312 1.859375 -8.046875 2.203125 -8.171875 C 2.554688 -8.304688 2.941406 -8.375 3.359375 -8.375 C 3.753906 -8.375 4.125 -8.304688 4.46875 -8.171875 C 4.8125 -8.046875 5.113281 -7.820312 5.375 -7.5 C 5.632812 -7.175781 5.835938 -6.738281 5.984375 -6.1875 C 6.128906 -5.644531 6.203125 -4.957031 6.203125 -4.125 Z M 5.140625 -4.125 C 5.140625 -4.78125 5.097656 -5.328125 5.015625 -5.765625 C 4.941406 -6.203125 4.828125 -6.550781 4.671875 -6.8125 C 4.515625 -7.070312 4.328125 -7.253906 4.109375 -7.359375 C 3.890625 -7.472656 3.640625 -7.53125 3.359375 -7.53125 C 3.054688 -7.53125 2.789062 -7.472656 2.5625 -7.359375 C 2.34375 -7.253906 2.15625 -7.070312 2 -6.8125 C 1.84375 -6.550781 1.722656 -6.203125 1.640625 -5.765625 C 1.566406 -5.328125 1.53125 -4.78125 1.53125 -4.125 C 1.53125 -3.5 1.570312 -2.96875 1.65625 -2.53125 C 1.738281 -2.09375 1.851562 -1.742188 2 -1.484375 C 2.15625 -1.222656 2.34375 -1.035156 2.5625 -0.921875 C 2.789062 -0.804688 3.046875 -0.75 3.328125 -0.75 C 3.609375 -0.75 3.859375 -0.804688 4.078125 -0.921875 C 4.304688 -1.035156 4.492188 -1.222656 4.640625 -1.484375 C 4.796875 -1.742188 4.914062 -2.09375 5 -2.53125 C 5.09375 -2.96875 5.140625 -3.5 5.140625 -4.125 Z M 5.140625 -4.125 \"/>\n",
       "</symbol>\n",
       "<symbol overflow=\"visible\" id=\"glyph0-4\">\n",
       "<path style=\"stroke:none;\" d=\"M 0.609375 0 L 0.609375 -0.75 C 0.804688 -1.207031 1.046875 -1.609375 1.328125 -1.953125 C 1.617188 -2.304688 1.921875 -2.625 2.234375 -2.90625 C 2.554688 -3.1875 2.867188 -3.445312 3.171875 -3.6875 C 3.484375 -3.9375 3.765625 -4.179688 4.015625 -4.421875 C 4.265625 -4.660156 4.46875 -4.910156 4.625 -5.171875 C 4.78125 -5.441406 4.859375 -5.742188 4.859375 -6.078125 C 4.859375 -6.316406 4.820312 -6.523438 4.75 -6.703125 C 4.675781 -6.878906 4.570312 -7.023438 4.4375 -7.140625 C 4.3125 -7.265625 4.15625 -7.359375 3.96875 -7.421875 C 3.78125 -7.484375 3.578125 -7.515625 3.359375 -7.515625 C 3.140625 -7.515625 2.9375 -7.484375 2.75 -7.421875 C 2.570312 -7.367188 2.410156 -7.28125 2.265625 -7.15625 C 2.117188 -7.039062 2 -6.894531 1.90625 -6.71875 C 1.8125 -6.550781 1.753906 -6.351562 1.734375 -6.125 L 0.65625 -6.21875 C 0.6875 -6.507812 0.765625 -6.785156 0.890625 -7.046875 C 1.023438 -7.316406 1.203125 -7.550781 1.421875 -7.75 C 1.648438 -7.945312 1.921875 -8.097656 2.234375 -8.203125 C 2.554688 -8.316406 2.929688 -8.375 3.359375 -8.375 C 3.765625 -8.375 4.125 -8.328125 4.4375 -8.234375 C 4.757812 -8.140625 5.03125 -7.992188 5.25 -7.796875 C 5.476562 -7.609375 5.648438 -7.375 5.765625 -7.09375 C 5.878906 -6.8125 5.9375 -6.488281 5.9375 -6.125 C 5.9375 -5.84375 5.882812 -5.578125 5.78125 -5.328125 C 5.6875 -5.078125 5.554688 -4.835938 5.390625 -4.609375 C 5.222656 -4.378906 5.03125 -4.160156 4.8125 -3.953125 C 4.59375 -3.742188 4.363281 -3.535156 4.125 -3.328125 C 3.894531 -3.128906 3.65625 -2.929688 3.40625 -2.734375 C 3.164062 -2.535156 2.9375 -2.335938 2.71875 -2.140625 C 2.507812 -1.941406 2.320312 -1.738281 2.15625 -1.53125 C 1.988281 -1.332031 1.859375 -1.117188 1.765625 -0.890625 L 6.078125 -0.890625 L 6.078125 0 Z M 0.609375 0 \"/>\n",
       "</symbol>\n",
       "<symbol overflow=\"visible\" id=\"glyph0-5\">\n",
       "<path style=\"stroke:none;\" d=\"M 6.34375 0 L 1.921875 -7.03125 C 1.929688 -6.84375 1.941406 -6.65625 1.953125 -6.46875 C 1.960938 -6.300781 1.96875 -6.128906 1.96875 -5.953125 C 1.976562 -5.773438 1.984375 -5.617188 1.984375 -5.484375 L 1.984375 0 L 0.984375 0 L 0.984375 -8.25 L 2.28125 -8.25 L 6.75 -1.171875 C 6.738281 -1.367188 6.726562 -1.5625 6.71875 -1.75 C 6.707031 -1.914062 6.695312 -2.09375 6.6875 -2.28125 C 6.6875 -2.476562 6.6875 -2.664062 6.6875 -2.84375 L 6.6875 -8.25 L 7.6875 -8.25 L 7.6875 0 Z M 6.34375 0 \"/>\n",
       "</symbol>\n",
       "<symbol overflow=\"visible\" id=\"glyph0-6\">\n",
       "<path style=\"stroke:none;\" d=\"\"/>\n",
       "</symbol>\n",
       "<symbol overflow=\"visible\" id=\"glyph0-7\">\n",
       "<path style=\"stroke:none;\" d=\"M 0.59375 -5.015625 L 0.59375 -5.890625 L 6.421875 -5.890625 L 6.421875 -5.015625 Z M 0.59375 -2.015625 L 0.59375 -2.890625 L 6.421875 -2.890625 L 6.421875 -2.015625 Z M 0.59375 -2.015625 \"/>\n",
       "</symbol>\n",
       "<symbol overflow=\"visible\" id=\"glyph0-8\">\n",
       "<path style=\"stroke:none;\" d=\"M 6.140625 -2.28125 C 6.140625 -1.90625 6.078125 -1.566406 5.953125 -1.265625 C 5.835938 -0.972656 5.660156 -0.722656 5.421875 -0.515625 C 5.179688 -0.304688 4.882812 -0.144531 4.53125 -0.03125 C 4.1875 0.0703125 3.789062 0.125 3.34375 0.125 C 2.832031 0.125 2.398438 0.0625 2.046875 -0.0625 C 1.703125 -0.195312 1.414062 -0.367188 1.1875 -0.578125 C 0.957031 -0.785156 0.785156 -1.019531 0.671875 -1.28125 C 0.566406 -1.550781 0.492188 -1.832031 0.453125 -2.125 L 1.546875 -2.21875 C 1.578125 -2 1.632812 -1.800781 1.71875 -1.625 C 1.800781 -1.445312 1.914062 -1.289062 2.0625 -1.15625 C 2.207031 -1.03125 2.382812 -0.929688 2.59375 -0.859375 C 2.800781 -0.785156 3.050781 -0.75 3.34375 -0.75 C 3.875 -0.75 4.289062 -0.878906 4.59375 -1.140625 C 4.894531 -1.410156 5.046875 -1.800781 5.046875 -2.3125 C 5.046875 -2.613281 4.976562 -2.859375 4.84375 -3.046875 C 4.707031 -3.234375 4.539062 -3.378906 4.34375 -3.484375 C 4.144531 -3.585938 3.925781 -3.65625 3.6875 -3.6875 C 3.445312 -3.726562 3.226562 -3.75 3.03125 -3.75 L 2.4375 -3.75 L 2.4375 -4.65625 L 3.015625 -4.65625 C 3.210938 -4.65625 3.414062 -4.675781 3.625 -4.71875 C 3.84375 -4.757812 4.039062 -4.832031 4.21875 -4.9375 C 4.394531 -5.050781 4.539062 -5.195312 4.65625 -5.375 C 4.769531 -5.5625 4.828125 -5.796875 4.828125 -6.078125 C 4.828125 -6.523438 4.695312 -6.875 4.4375 -7.125 C 4.1875 -7.382812 3.800781 -7.515625 3.28125 -7.515625 C 2.820312 -7.515625 2.445312 -7.394531 2.15625 -7.15625 C 1.875 -6.914062 1.707031 -6.578125 1.65625 -6.140625 L 0.59375 -6.234375 C 0.632812 -6.597656 0.734375 -6.910156 0.890625 -7.171875 C 1.046875 -7.441406 1.242188 -7.664062 1.484375 -7.84375 C 1.734375 -8.019531 2.007812 -8.148438 2.3125 -8.234375 C 2.625 -8.328125 2.953125 -8.375 3.296875 -8.375 C 3.753906 -8.375 4.148438 -8.316406 4.484375 -8.203125 C 4.816406 -8.085938 5.085938 -7.929688 5.296875 -7.734375 C 5.515625 -7.535156 5.671875 -7.300781 5.765625 -7.03125 C 5.867188 -6.769531 5.921875 -6.488281 5.921875 -6.1875 C 5.921875 -5.945312 5.882812 -5.722656 5.8125 -5.515625 C 5.75 -5.304688 5.644531 -5.113281 5.5 -4.9375 C 5.363281 -4.769531 5.1875 -4.625 4.96875 -4.5 C 4.75 -4.382812 4.488281 -4.296875 4.1875 -4.234375 L 4.1875 -4.21875 C 4.519531 -4.175781 4.804688 -4.097656 5.046875 -3.984375 C 5.296875 -3.867188 5.5 -3.722656 5.65625 -3.546875 C 5.820312 -3.378906 5.941406 -3.1875 6.015625 -2.96875 C 6.097656 -2.75 6.140625 -2.519531 6.140625 -2.28125 Z M 6.140625 -2.28125 \"/>\n",
       "</symbol>\n",
       "<symbol overflow=\"visible\" id=\"glyph0-9\">\n",
       "<path style=\"stroke:none;\" d=\"M 6.15625 -2.296875 C 6.15625 -1.953125 6.097656 -1.628906 5.984375 -1.328125 C 5.867188 -1.035156 5.695312 -0.78125 5.46875 -0.5625 C 5.25 -0.351562 4.957031 -0.1875 4.59375 -0.0625 C 4.238281 0.0625 3.820312 0.125 3.34375 0.125 C 2.851562 0.125 2.429688 0.0625 2.078125 -0.0625 C 1.722656 -0.1875 1.429688 -0.351562 1.203125 -0.5625 C 0.972656 -0.78125 0.800781 -1.035156 0.6875 -1.328125 C 0.570312 -1.617188 0.515625 -1.941406 0.515625 -2.296875 C 0.515625 -2.597656 0.5625 -2.863281 0.65625 -3.09375 C 0.75 -3.332031 0.875 -3.535156 1.03125 -3.703125 C 1.1875 -3.867188 1.363281 -4.003906 1.5625 -4.109375 C 1.757812 -4.210938 1.960938 -4.28125 2.171875 -4.3125 L 2.171875 -4.34375 C 1.941406 -4.394531 1.734375 -4.476562 1.546875 -4.59375 C 1.367188 -4.71875 1.21875 -4.863281 1.09375 -5.03125 C 0.96875 -5.207031 0.875 -5.398438 0.8125 -5.609375 C 0.75 -5.816406 0.71875 -6.035156 0.71875 -6.265625 C 0.71875 -6.554688 0.769531 -6.828125 0.875 -7.078125 C 0.988281 -7.335938 1.15625 -7.5625 1.375 -7.75 C 1.59375 -7.945312 1.863281 -8.097656 2.1875 -8.203125 C 2.507812 -8.316406 2.882812 -8.375 3.3125 -8.375 C 3.757812 -8.375 4.148438 -8.316406 4.484375 -8.203125 C 4.816406 -8.097656 5.085938 -7.945312 5.296875 -7.75 C 5.515625 -7.550781 5.675781 -7.320312 5.78125 -7.0625 C 5.894531 -6.8125 5.953125 -6.539062 5.953125 -6.25 C 5.953125 -6.019531 5.914062 -5.800781 5.84375 -5.59375 C 5.78125 -5.394531 5.6875 -5.207031 5.5625 -5.03125 C 5.445312 -4.863281 5.296875 -4.71875 5.109375 -4.59375 C 4.929688 -4.476562 4.722656 -4.398438 4.484375 -4.359375 L 4.484375 -4.328125 C 4.722656 -4.285156 4.941406 -4.210938 5.140625 -4.109375 C 5.347656 -4.015625 5.523438 -3.878906 5.671875 -3.703125 C 5.816406 -3.535156 5.929688 -3.332031 6.015625 -3.09375 C 6.109375 -2.863281 6.15625 -2.597656 6.15625 -2.296875 Z M 4.859375 -6.1875 C 4.859375 -6.394531 4.828125 -6.582031 4.765625 -6.75 C 4.710938 -6.925781 4.625 -7.078125 4.5 -7.203125 C 4.382812 -7.328125 4.226562 -7.421875 4.03125 -7.484375 C 3.84375 -7.554688 3.601562 -7.59375 3.3125 -7.59375 C 3.039062 -7.59375 2.804688 -7.554688 2.609375 -7.484375 C 2.421875 -7.421875 2.265625 -7.328125 2.140625 -7.203125 C 2.015625 -7.078125 1.925781 -6.925781 1.875 -6.75 C 1.820312 -6.582031 1.796875 -6.394531 1.796875 -6.1875 C 1.796875 -6.03125 1.816406 -5.863281 1.859375 -5.6875 C 1.898438 -5.519531 1.976562 -5.363281 2.09375 -5.21875 C 2.207031 -5.082031 2.363281 -4.96875 2.5625 -4.875 C 2.757812 -4.78125 3.015625 -4.734375 3.328125 -4.734375 C 3.660156 -4.734375 3.925781 -4.78125 4.125 -4.875 C 4.332031 -4.96875 4.488281 -5.082031 4.59375 -5.21875 C 4.695312 -5.363281 4.765625 -5.519531 4.796875 -5.6875 C 4.835938 -5.863281 4.859375 -6.03125 4.859375 -6.1875 Z M 5.0625 -2.40625 C 5.0625 -2.601562 5.03125 -2.796875 4.96875 -2.984375 C 4.914062 -3.171875 4.820312 -3.332031 4.6875 -3.46875 C 4.5625 -3.613281 4.382812 -3.726562 4.15625 -3.8125 C 3.9375 -3.90625 3.65625 -3.953125 3.3125 -3.953125 C 3.007812 -3.953125 2.75 -3.90625 2.53125 -3.8125 C 2.3125 -3.726562 2.132812 -3.613281 2 -3.46875 C 1.863281 -3.320312 1.765625 -3.15625 1.703125 -2.96875 C 1.640625 -2.78125 1.609375 -2.582031 1.609375 -2.375 C 1.609375 -2.125 1.640625 -1.894531 1.703125 -1.6875 C 1.765625 -1.476562 1.863281 -1.296875 2 -1.140625 C 2.132812 -0.992188 2.3125 -0.878906 2.53125 -0.796875 C 2.757812 -0.710938 3.035156 -0.671875 3.359375 -0.671875 C 3.671875 -0.671875 3.9375 -0.710938 4.15625 -0.796875 C 4.375 -0.878906 4.550781 -0.992188 4.6875 -1.140625 C 4.820312 -1.296875 4.914062 -1.476562 4.96875 -1.6875 C 5.03125 -1.90625 5.0625 -2.144531 5.0625 -2.40625 Z M 5.0625 -2.40625 \"/>\n",
       "</symbol>\n",
       "<symbol overflow=\"visible\" id=\"glyph0-10\">\n",
       "<path style=\"stroke:none;\" d=\"M 7.375 -2.328125 C 7.375 -1.910156 7.289062 -1.550781 7.125 -1.25 C 6.957031 -0.957031 6.734375 -0.71875 6.453125 -0.53125 C 6.179688 -0.351562 5.863281 -0.21875 5.5 -0.125 C 5.132812 -0.0390625 4.75 0 4.34375 0 L 0.984375 0 L 0.984375 -8.25 L 3.984375 -8.25 C 4.441406 -8.25 4.847656 -8.210938 5.203125 -8.140625 C 5.566406 -8.066406 5.875 -7.945312 6.125 -7.78125 C 6.375 -7.613281 6.5625 -7.40625 6.6875 -7.15625 C 6.820312 -6.90625 6.890625 -6.601562 6.890625 -6.25 C 6.890625 -6.019531 6.859375 -5.800781 6.796875 -5.59375 C 6.734375 -5.394531 6.632812 -5.210938 6.5 -5.046875 C 6.375 -4.878906 6.210938 -4.734375 6.015625 -4.609375 C 5.816406 -4.492188 5.585938 -4.410156 5.328125 -4.359375 C 5.648438 -4.316406 5.941406 -4.238281 6.203125 -4.125 C 6.460938 -4.007812 6.675781 -3.863281 6.84375 -3.6875 C 7.019531 -3.507812 7.148438 -3.304688 7.234375 -3.078125 C 7.328125 -2.847656 7.375 -2.597656 7.375 -2.328125 Z M 5.765625 -6.125 C 5.765625 -6.5625 5.613281 -6.875 5.3125 -7.0625 C 5.007812 -7.257812 4.566406 -7.359375 3.984375 -7.359375 L 2.109375 -7.359375 L 2.109375 -4.75 L 3.984375 -4.75 C 4.316406 -4.75 4.59375 -4.78125 4.8125 -4.84375 C 5.039062 -4.90625 5.222656 -4.992188 5.359375 -5.109375 C 5.503906 -5.234375 5.609375 -5.378906 5.671875 -5.546875 C 5.734375 -5.710938 5.765625 -5.90625 5.765625 -6.125 Z M 6.234375 -2.421875 C 6.234375 -2.679688 6.1875 -2.898438 6.09375 -3.078125 C 6 -3.265625 5.863281 -3.414062 5.6875 -3.53125 C 5.507812 -3.644531 5.289062 -3.726562 5.03125 -3.78125 C 4.78125 -3.84375 4.5 -3.875 4.1875 -3.875 L 2.109375 -3.875 L 2.109375 -0.890625 L 4.28125 -0.890625 C 4.5625 -0.890625 4.820312 -0.910156 5.0625 -0.953125 C 5.300781 -1.003906 5.507812 -1.085938 5.6875 -1.203125 C 5.863281 -1.328125 6 -1.484375 6.09375 -1.671875 C 6.1875 -1.867188 6.234375 -2.117188 6.234375 -2.421875 Z M 6.234375 -2.421875 \"/>\n",
       "</symbol>\n",
       "<symbol overflow=\"visible\" id=\"glyph0-11\">\n",
       "<path style=\"stroke:none;\" d=\"M 2.421875 0.125 C 1.785156 0.125 1.304688 -0.0390625 0.984375 -0.375 C 0.671875 -0.71875 0.515625 -1.179688 0.515625 -1.765625 C 0.515625 -2.179688 0.59375 -2.523438 0.75 -2.796875 C 0.90625 -3.066406 1.109375 -3.273438 1.359375 -3.421875 C 1.617188 -3.578125 1.910156 -3.679688 2.234375 -3.734375 C 2.566406 -3.796875 2.90625 -3.832031 3.25 -3.84375 L 4.671875 -3.875 L 4.671875 -4.21875 C 4.671875 -4.476562 4.640625 -4.695312 4.578125 -4.875 C 4.523438 -5.0625 4.441406 -5.210938 4.328125 -5.328125 C 4.222656 -5.441406 4.082031 -5.523438 3.90625 -5.578125 C 3.738281 -5.628906 3.539062 -5.65625 3.3125 -5.65625 C 3.101562 -5.65625 2.914062 -5.640625 2.75 -5.609375 C 2.59375 -5.578125 2.453125 -5.523438 2.328125 -5.453125 C 2.210938 -5.378906 2.113281 -5.273438 2.03125 -5.140625 C 1.957031 -5.015625 1.910156 -4.847656 1.890625 -4.640625 L 0.796875 -4.75 C 0.828125 -5 0.894531 -5.226562 1 -5.4375 C 1.113281 -5.644531 1.269531 -5.820312 1.46875 -5.96875 C 1.675781 -6.125 1.929688 -6.242188 2.234375 -6.328125 C 2.535156 -6.410156 2.898438 -6.453125 3.328125 -6.453125 C 4.128906 -6.453125 4.726562 -6.269531 5.125 -5.90625 C 5.53125 -5.539062 5.734375 -5.015625 5.734375 -4.328125 L 5.734375 -1.59375 C 5.734375 -1.28125 5.773438 -1.046875 5.859375 -0.890625 C 5.941406 -0.734375 6.097656 -0.65625 6.328125 -0.65625 C 6.390625 -0.65625 6.445312 -0.65625 6.5 -0.65625 C 6.5625 -0.664062 6.617188 -0.675781 6.671875 -0.6875 L 6.671875 -0.03125 C 6.535156 0 6.398438 0.0195312 6.265625 0.03125 C 6.140625 0.0507812 6.003906 0.0625 5.859375 0.0625 C 5.660156 0.0625 5.488281 0.0351562 5.34375 -0.015625 C 5.207031 -0.0664062 5.09375 -0.144531 5 -0.25 C 4.90625 -0.363281 4.832031 -0.5 4.78125 -0.65625 C 4.738281 -0.8125 4.710938 -1 4.703125 -1.21875 L 4.671875 -1.21875 C 4.554688 -1.007812 4.429688 -0.820312 4.296875 -0.65625 C 4.160156 -0.5 4.003906 -0.363281 3.828125 -0.25 C 3.648438 -0.132812 3.445312 -0.046875 3.21875 0.015625 C 2.988281 0.0859375 2.722656 0.125 2.421875 0.125 Z M 2.671875 -0.671875 C 3.003906 -0.671875 3.296875 -0.734375 3.546875 -0.859375 C 3.796875 -0.984375 4.003906 -1.140625 4.171875 -1.328125 C 4.335938 -1.523438 4.460938 -1.734375 4.546875 -1.953125 C 4.628906 -2.179688 4.671875 -2.398438 4.671875 -2.609375 L 4.671875 -3.125 L 3.515625 -3.109375 C 3.253906 -3.097656 3.007812 -3.078125 2.78125 -3.046875 C 2.550781 -3.015625 2.347656 -2.945312 2.171875 -2.84375 C 1.992188 -2.75 1.851562 -2.613281 1.75 -2.4375 C 1.644531 -2.269531 1.59375 -2.039062 1.59375 -1.75 C 1.59375 -1.40625 1.6875 -1.140625 1.875 -0.953125 C 2.0625 -0.765625 2.328125 -0.671875 2.671875 -0.671875 Z M 2.671875 -0.671875 \"/>\n",
       "</symbol>\n",
       "<symbol overflow=\"visible\" id=\"glyph0-12\">\n",
       "<path style=\"stroke:none;\" d=\"M 4.828125 0 L 4.828125 -4.015625 C 4.828125 -4.328125 4.804688 -4.585938 4.765625 -4.796875 C 4.722656 -5.003906 4.648438 -5.171875 4.546875 -5.296875 C 4.441406 -5.421875 4.304688 -5.507812 4.140625 -5.5625 C 3.972656 -5.613281 3.769531 -5.640625 3.53125 -5.640625 C 3.28125 -5.640625 3.050781 -5.59375 2.84375 -5.5 C 2.644531 -5.414062 2.472656 -5.289062 2.328125 -5.125 C 2.191406 -4.957031 2.082031 -4.753906 2 -4.515625 C 1.925781 -4.273438 1.890625 -3.992188 1.890625 -3.671875 L 1.890625 0 L 0.828125 0 L 0.828125 -4.984375 C 0.828125 -5.117188 0.828125 -5.257812 0.828125 -5.40625 C 0.828125 -5.550781 0.820312 -5.6875 0.8125 -5.8125 C 0.8125 -5.945312 0.804688 -6.0625 0.796875 -6.15625 C 0.796875 -6.25 0.796875 -6.3125 0.796875 -6.34375 L 1.796875 -6.34375 C 1.796875 -6.320312 1.796875 -6.265625 1.796875 -6.171875 C 1.804688 -6.085938 1.8125 -5.988281 1.8125 -5.875 C 1.820312 -5.769531 1.828125 -5.660156 1.828125 -5.546875 C 1.835938 -5.429688 1.84375 -5.332031 1.84375 -5.25 L 1.859375 -5.25 C 1.960938 -5.4375 2.070312 -5.601562 2.1875 -5.75 C 2.3125 -5.90625 2.453125 -6.03125 2.609375 -6.125 C 2.773438 -6.226562 2.957031 -6.304688 3.15625 -6.359375 C 3.363281 -6.421875 3.609375 -6.453125 3.890625 -6.453125 C 4.234375 -6.453125 4.53125 -6.410156 4.78125 -6.328125 C 5.039062 -6.242188 5.253906 -6.109375 5.421875 -5.921875 C 5.585938 -5.742188 5.707031 -5.515625 5.78125 -5.234375 C 5.851562 -4.953125 5.890625 -4.613281 5.890625 -4.21875 L 5.890625 0 Z M 4.828125 0 \"/>\n",
       "</symbol>\n",
       "<symbol overflow=\"visible\" id=\"glyph0-13\">\n",
       "<path style=\"stroke:none;\" d=\"M 4.8125 -1.015625 C 4.613281 -0.609375 4.351562 -0.316406 4.03125 -0.140625 C 3.707031 0.0351562 3.3125 0.125 2.84375 0.125 C 2.039062 0.125 1.445312 -0.144531 1.0625 -0.6875 C 0.6875 -1.226562 0.5 -2.046875 0.5 -3.140625 C 0.5 -5.347656 1.28125 -6.453125 2.84375 -6.453125 C 3.320312 -6.453125 3.71875 -6.363281 4.03125 -6.1875 C 4.351562 -6.019531 4.613281 -5.742188 4.8125 -5.359375 L 4.828125 -5.359375 C 4.828125 -5.398438 4.820312 -5.460938 4.8125 -5.546875 C 4.8125 -5.628906 4.8125 -5.710938 4.8125 -5.796875 C 4.8125 -5.890625 4.8125 -5.976562 4.8125 -6.0625 C 4.8125 -6.144531 4.8125 -6.203125 4.8125 -6.234375 L 4.8125 -8.703125 L 5.859375 -8.703125 L 5.859375 -1.3125 C 5.859375 -1.15625 5.859375 -1.003906 5.859375 -0.859375 C 5.867188 -0.722656 5.875 -0.597656 5.875 -0.484375 C 5.882812 -0.367188 5.890625 -0.265625 5.890625 -0.171875 C 5.890625 -0.0859375 5.894531 -0.03125 5.90625 0 L 4.890625 0 C 4.878906 -0.0390625 4.867188 -0.0976562 4.859375 -0.171875 C 4.859375 -0.242188 4.851562 -0.328125 4.84375 -0.421875 C 4.84375 -0.515625 4.835938 -0.613281 4.828125 -0.71875 C 4.828125 -0.820312 4.828125 -0.921875 4.828125 -1.015625 Z M 1.609375 -3.171875 C 1.609375 -2.734375 1.632812 -2.359375 1.6875 -2.046875 C 1.75 -1.734375 1.835938 -1.476562 1.953125 -1.28125 C 2.078125 -1.082031 2.234375 -0.9375 2.421875 -0.84375 C 2.609375 -0.75 2.835938 -0.703125 3.109375 -0.703125 C 3.378906 -0.703125 3.617188 -0.742188 3.828125 -0.828125 C 4.046875 -0.921875 4.226562 -1.066406 4.375 -1.265625 C 4.519531 -1.472656 4.628906 -1.738281 4.703125 -2.0625 C 4.773438 -2.382812 4.8125 -2.78125 4.8125 -3.25 C 4.8125 -3.695312 4.773438 -4.078125 4.703125 -4.390625 C 4.628906 -4.703125 4.519531 -4.953125 4.375 -5.140625 C 4.226562 -5.328125 4.050781 -5.460938 3.84375 -5.546875 C 3.632812 -5.628906 3.394531 -5.671875 3.125 -5.671875 C 2.863281 -5.671875 2.640625 -5.625 2.453125 -5.53125 C 2.265625 -5.445312 2.109375 -5.304688 1.984375 -5.109375 C 1.859375 -4.910156 1.765625 -4.648438 1.703125 -4.328125 C 1.640625 -4.015625 1.609375 -3.628906 1.609375 -3.171875 Z M 1.609375 -3.171875 \"/>\n",
       "</symbol>\n",
       "<symbol overflow=\"visible\" id=\"glyph0-14\">\n",
       "<path style=\"stroke:none;\" d=\"M 6.875 0 L 5.65625 0 L 4.640625 -4.09375 C 4.609375 -4.195312 4.578125 -4.328125 4.546875 -4.484375 C 4.515625 -4.640625 4.484375 -4.789062 4.453125 -4.9375 C 4.410156 -5.113281 4.375 -5.289062 4.34375 -5.46875 C 4.300781 -5.289062 4.257812 -5.117188 4.21875 -4.953125 C 4.1875 -4.804688 4.148438 -4.648438 4.109375 -4.484375 C 4.078125 -4.328125 4.046875 -4.1875 4.015625 -4.0625 L 2.984375 0 L 1.765625 0 L -0.015625 -6.34375 L 1.03125 -6.34375 L 2.09375 -2.03125 C 2.125 -1.945312 2.148438 -1.835938 2.171875 -1.703125 C 2.203125 -1.566406 2.234375 -1.4375 2.265625 -1.3125 C 2.285156 -1.175781 2.3125 -1.03125 2.34375 -0.875 C 2.375 -1.019531 2.410156 -1.164062 2.453125 -1.3125 C 2.484375 -1.425781 2.515625 -1.546875 2.546875 -1.671875 C 2.578125 -1.796875 2.601562 -1.898438 2.625 -1.984375 L 3.78125 -6.34375 L 4.90625 -6.34375 L 6.015625 -1.984375 C 6.035156 -1.878906 6.0625 -1.765625 6.09375 -1.640625 C 6.125 -1.515625 6.15625 -1.394531 6.1875 -1.28125 C 6.21875 -1.144531 6.25 -1.007812 6.28125 -0.875 C 6.3125 -1.019531 6.34375 -1.164062 6.375 -1.3125 C 6.40625 -1.425781 6.429688 -1.546875 6.453125 -1.671875 C 6.484375 -1.804688 6.515625 -1.925781 6.546875 -2.03125 L 7.671875 -6.34375 L 8.703125 -6.34375 Z M 6.875 0 \"/>\n",
       "</symbol>\n",
       "<symbol overflow=\"visible\" id=\"glyph0-15\">\n",
       "<path style=\"stroke:none;\" d=\"M 0.796875 -7.6875 L 0.796875 -8.703125 L 1.859375 -8.703125 L 1.859375 -7.6875 Z M 0.796875 0 L 0.796875 -6.34375 L 1.859375 -6.34375 L 1.859375 0 Z M 0.796875 0 \"/>\n",
       "</symbol>\n",
       "<symbol overflow=\"visible\" id=\"glyph0-16\">\n",
       "<path style=\"stroke:none;\" d=\"M 3.25 -0.046875 C 3.082031 -0.00390625 2.914062 0.0234375 2.75 0.046875 C 2.59375 0.078125 2.40625 0.09375 2.1875 0.09375 C 1.34375 0.09375 0.921875 -0.382812 0.921875 -1.34375 L 0.921875 -5.578125 L 0.1875 -5.578125 L 0.1875 -6.34375 L 0.953125 -6.34375 L 1.265625 -7.765625 L 1.96875 -7.765625 L 1.96875 -6.34375 L 3.140625 -6.34375 L 3.140625 -5.578125 L 1.96875 -5.578125 L 1.96875 -1.578125 C 1.96875 -1.265625 2.015625 -1.046875 2.109375 -0.921875 C 2.210938 -0.804688 2.390625 -0.75 2.640625 -0.75 C 2.742188 -0.75 2.84375 -0.753906 2.9375 -0.765625 C 3.03125 -0.785156 3.132812 -0.804688 3.25 -0.828125 Z M 3.25 -0.046875 \"/>\n",
       "</symbol>\n",
       "<symbol overflow=\"visible\" id=\"glyph0-17\">\n",
       "<path style=\"stroke:none;\" d=\"M 1.859375 -5.25 C 1.972656 -5.46875 2.097656 -5.648438 2.234375 -5.796875 C 2.367188 -5.953125 2.519531 -6.078125 2.6875 -6.171875 C 2.851562 -6.273438 3.03125 -6.347656 3.21875 -6.390625 C 3.414062 -6.429688 3.640625 -6.453125 3.890625 -6.453125 C 4.296875 -6.453125 4.628906 -6.394531 4.890625 -6.28125 C 5.148438 -6.175781 5.351562 -6.023438 5.5 -5.828125 C 5.644531 -5.628906 5.742188 -5.394531 5.796875 -5.125 C 5.859375 -4.851562 5.890625 -4.550781 5.890625 -4.21875 L 5.890625 0 L 4.828125 0 L 4.828125 -4.015625 C 4.828125 -4.285156 4.8125 -4.519531 4.78125 -4.71875 C 4.75 -4.925781 4.6875 -5.097656 4.59375 -5.234375 C 4.5 -5.367188 4.363281 -5.46875 4.1875 -5.53125 C 4.019531 -5.601562 3.800781 -5.640625 3.53125 -5.640625 C 3.28125 -5.640625 3.050781 -5.59375 2.84375 -5.5 C 2.644531 -5.414062 2.472656 -5.289062 2.328125 -5.125 C 2.191406 -4.957031 2.082031 -4.753906 2 -4.515625 C 1.925781 -4.285156 1.890625 -4.023438 1.890625 -3.734375 L 1.890625 0 L 0.828125 0 L 0.828125 -8.703125 L 1.890625 -8.703125 L 1.890625 -6.4375 C 1.890625 -6.300781 1.882812 -6.171875 1.875 -6.046875 C 1.875 -5.921875 1.867188 -5.800781 1.859375 -5.6875 C 1.859375 -5.582031 1.851562 -5.488281 1.84375 -5.40625 C 1.84375 -5.332031 1.84375 -5.28125 1.84375 -5.25 Z M 1.859375 -5.25 \"/>\n",
       "</symbol>\n",
       "<symbol overflow=\"visible\" id=\"glyph0-18\">\n",
       "<path style=\"stroke:none;\" d=\"M 1.09375 0 L 1.09375 -1.28125 L 2.234375 -1.28125 L 2.234375 0 Z M 1.09375 0 \"/>\n",
       "</symbol>\n",
       "<symbol overflow=\"visible\" id=\"glyph0-19\">\n",
       "<path style=\"stroke:none;\" d=\"M 6.140625 -2.703125 C 6.140625 -2.285156 6.082031 -1.90625 5.96875 -1.5625 C 5.851562 -1.21875 5.679688 -0.921875 5.453125 -0.671875 C 5.234375 -0.421875 4.957031 -0.222656 4.625 -0.078125 C 4.289062 0.0546875 3.910156 0.125 3.484375 0.125 C 3.003906 0.125 2.582031 0.03125 2.21875 -0.15625 C 1.863281 -0.34375 1.566406 -0.609375 1.328125 -0.953125 C 1.085938 -1.296875 0.90625 -1.71875 0.78125 -2.21875 C 0.664062 -2.726562 0.609375 -3.300781 0.609375 -3.9375 C 0.609375 -4.675781 0.675781 -5.320312 0.8125 -5.875 C 0.945312 -6.425781 1.140625 -6.882812 1.390625 -7.25 C 1.648438 -7.625 1.960938 -7.90625 2.328125 -8.09375 C 2.691406 -8.28125 3.101562 -8.375 3.5625 -8.375 C 3.84375 -8.375 4.101562 -8.34375 4.34375 -8.28125 C 4.59375 -8.226562 4.816406 -8.132812 5.015625 -8 C 5.222656 -7.875 5.398438 -7.703125 5.546875 -7.484375 C 5.703125 -7.273438 5.828125 -7.015625 5.921875 -6.703125 L 4.90625 -6.515625 C 4.800781 -6.867188 4.628906 -7.125 4.390625 -7.28125 C 4.148438 -7.445312 3.867188 -7.53125 3.546875 -7.53125 C 3.265625 -7.53125 3.003906 -7.457031 2.765625 -7.3125 C 2.535156 -7.175781 2.335938 -6.972656 2.171875 -6.703125 C 2.003906 -6.429688 1.875 -6.085938 1.78125 -5.671875 C 1.695312 -5.265625 1.65625 -4.789062 1.65625 -4.25 C 1.851562 -4.601562 2.125 -4.875 2.46875 -5.0625 C 2.8125 -5.25 3.207031 -5.34375 3.65625 -5.34375 C 4.03125 -5.34375 4.367188 -5.28125 4.671875 -5.15625 C 4.984375 -5.03125 5.25 -4.851562 5.46875 -4.625 C 5.6875 -4.40625 5.851562 -4.128906 5.96875 -3.796875 C 6.082031 -3.472656 6.140625 -3.109375 6.140625 -2.703125 Z M 5.078125 -2.65625 C 5.078125 -2.9375 5.039062 -3.191406 4.96875 -3.421875 C 4.894531 -3.660156 4.785156 -3.859375 4.640625 -4.015625 C 4.503906 -4.179688 4.332031 -4.304688 4.125 -4.390625 C 3.925781 -4.484375 3.6875 -4.53125 3.40625 -4.53125 C 3.21875 -4.53125 3.023438 -4.5 2.828125 -4.4375 C 2.628906 -4.382812 2.453125 -4.289062 2.296875 -4.15625 C 2.140625 -4.03125 2.007812 -3.863281 1.90625 -3.65625 C 1.8125 -3.457031 1.765625 -3.207031 1.765625 -2.90625 C 1.765625 -2.601562 1.800781 -2.316406 1.875 -2.046875 C 1.957031 -1.785156 2.070312 -1.554688 2.21875 -1.359375 C 2.363281 -1.171875 2.539062 -1.019531 2.75 -0.90625 C 2.957031 -0.789062 3.191406 -0.734375 3.453125 -0.734375 C 3.703125 -0.734375 3.925781 -0.773438 4.125 -0.859375 C 4.332031 -0.953125 4.503906 -1.082031 4.640625 -1.25 C 4.785156 -1.414062 4.894531 -1.613281 4.96875 -1.84375 C 5.039062 -2.082031 5.078125 -2.351562 5.078125 -2.65625 Z M 5.078125 -2.65625 \"/>\n",
       "</symbol>\n",
       "<symbol overflow=\"visible\" id=\"glyph1-0\">\n",
       "<path style=\"stroke:none;\" d=\"M 0 -0.40625 L -8 -0.40625 L -8 -3.59375 L 0 -3.59375 Z M -0.40625 -0.796875 L -0.40625 -3.1875 L -7.59375 -3.1875 L -7.59375 -0.796875 Z M -0.40625 -0.796875 \"/>\n",
       "</symbol>\n",
       "<symbol overflow=\"visible\" id=\"glyph1-1\">\n",
       "<path style=\"stroke:none;\" d=\"M -4.125 -6.203125 C -3.332031 -6.203125 -2.664062 -6.125 -2.125 -5.96875 C -1.582031 -5.820312 -1.144531 -5.617188 -0.8125 -5.359375 C -0.476562 -5.097656 -0.238281 -4.789062 -0.09375 -4.4375 C 0.0507812 -4.09375 0.125 -3.722656 0.125 -3.328125 C 0.125 -2.921875 0.0507812 -2.539062 -0.09375 -2.1875 C -0.238281 -1.84375 -0.476562 -1.539062 -0.8125 -1.28125 C -1.144531 -1.03125 -1.582031 -0.832031 -2.125 -0.6875 C -2.664062 -0.539062 -3.332031 -0.46875 -4.125 -0.46875 C -4.957031 -0.46875 -5.644531 -0.539062 -6.1875 -0.6875 C -6.738281 -0.832031 -7.175781 -1.035156 -7.5 -1.296875 C -7.820312 -1.554688 -8.046875 -1.859375 -8.171875 -2.203125 C -8.304688 -2.554688 -8.375 -2.941406 -8.375 -3.359375 C -8.375 -3.753906 -8.304688 -4.125 -8.171875 -4.46875 C -8.046875 -4.8125 -7.820312 -5.113281 -7.5 -5.375 C -7.175781 -5.632812 -6.738281 -5.835938 -6.1875 -5.984375 C -5.644531 -6.128906 -4.957031 -6.203125 -4.125 -6.203125 Z M -4.125 -5.140625 C -4.78125 -5.140625 -5.328125 -5.097656 -5.765625 -5.015625 C -6.203125 -4.941406 -6.550781 -4.828125 -6.8125 -4.671875 C -7.070312 -4.515625 -7.253906 -4.328125 -7.359375 -4.109375 C -7.472656 -3.890625 -7.53125 -3.640625 -7.53125 -3.359375 C -7.53125 -3.054688 -7.472656 -2.789062 -7.359375 -2.5625 C -7.253906 -2.34375 -7.070312 -2.15625 -6.8125 -2 C -6.550781 -1.84375 -6.203125 -1.722656 -5.765625 -1.640625 C -5.328125 -1.566406 -4.78125 -1.53125 -4.125 -1.53125 C -3.5 -1.53125 -2.96875 -1.570312 -2.53125 -1.65625 C -2.09375 -1.738281 -1.742188 -1.851562 -1.484375 -2 C -1.222656 -2.15625 -1.035156 -2.34375 -0.921875 -2.5625 C -0.804688 -2.789062 -0.75 -3.046875 -0.75 -3.328125 C -0.75 -3.609375 -0.804688 -3.859375 -0.921875 -4.078125 C -1.035156 -4.304688 -1.222656 -4.492188 -1.484375 -4.640625 C -1.742188 -4.796875 -2.09375 -4.914062 -2.53125 -5 C -2.96875 -5.09375 -3.5 -5.140625 -4.125 -5.140625 Z M -4.125 -5.140625 \"/>\n",
       "</symbol>\n",
       "<symbol overflow=\"visible\" id=\"glyph1-2\">\n",
       "<path style=\"stroke:none;\" d=\"M 0 -1.09375 L -1.28125 -1.09375 L -1.28125 -2.234375 L 0 -2.234375 Z M 0 -1.09375 \"/>\n",
       "</symbol>\n",
       "<symbol overflow=\"visible\" id=\"glyph1-3\">\n",
       "<path style=\"stroke:none;\" d=\"M -2.6875 -6.171875 C -2.269531 -6.171875 -1.890625 -6.109375 -1.546875 -5.984375 C -1.203125 -5.859375 -0.90625 -5.671875 -0.65625 -5.421875 C -0.414062 -5.179688 -0.222656 -4.878906 -0.078125 -4.515625 C 0.0546875 -4.148438 0.125 -3.722656 0.125 -3.234375 C 0.125 -2.804688 0.0703125 -2.429688 -0.03125 -2.109375 C -0.132812 -1.785156 -0.273438 -1.507812 -0.453125 -1.28125 C -0.628906 -1.0625 -0.835938 -0.882812 -1.078125 -0.75 C -1.316406 -0.625 -1.570312 -0.535156 -1.84375 -0.484375 L -1.96875 -1.546875 C -1.8125 -1.585938 -1.660156 -1.644531 -1.515625 -1.71875 C -1.367188 -1.800781 -1.238281 -1.910156 -1.125 -2.046875 C -1.007812 -2.179688 -0.914062 -2.347656 -0.84375 -2.546875 C -0.78125 -2.742188 -0.75 -2.984375 -0.75 -3.265625 C -0.75 -3.535156 -0.789062 -3.78125 -0.875 -4 C -0.957031 -4.226562 -1.078125 -4.421875 -1.234375 -4.578125 C -1.398438 -4.734375 -1.601562 -4.851562 -1.84375 -4.9375 C -2.082031 -5.03125 -2.359375 -5.078125 -2.671875 -5.078125 C -2.921875 -5.078125 -3.148438 -5.035156 -3.359375 -4.953125 C -3.578125 -4.867188 -3.765625 -4.75 -3.921875 -4.59375 C -4.078125 -4.445312 -4.195312 -4.257812 -4.28125 -4.03125 C -4.363281 -3.8125 -4.40625 -3.5625 -4.40625 -3.28125 C -4.40625 -3.113281 -4.390625 -2.953125 -4.359375 -2.796875 C -4.328125 -2.648438 -4.285156 -2.515625 -4.234375 -2.390625 C -4.179688 -2.265625 -4.117188 -2.148438 -4.046875 -2.046875 C -3.972656 -1.941406 -3.894531 -1.84375 -3.8125 -1.75 L -3.8125 -0.71875 L -8.25 -1 L -8.25 -5.6875 L -7.359375 -5.6875 L -7.359375 -1.953125 L -4.734375 -1.796875 C -4.878906 -1.984375 -5.003906 -2.21875 -5.109375 -2.5 C -5.210938 -2.78125 -5.265625 -3.113281 -5.265625 -3.5 C -5.265625 -3.914062 -5.203125 -4.285156 -5.078125 -4.609375 C -4.953125 -4.941406 -4.773438 -5.222656 -4.546875 -5.453125 C -4.316406 -5.679688 -4.046875 -5.859375 -3.734375 -5.984375 C -3.421875 -6.109375 -3.070312 -6.171875 -2.6875 -6.171875 Z M -2.6875 -6.171875 \"/>\n",
       "</symbol>\n",
       "<symbol overflow=\"visible\" id=\"glyph1-4\">\n",
       "<path style=\"stroke:none;\" d=\"M 0 -0.921875 L -0.890625 -0.921875 L -0.890625 -3.015625 L -7.25 -3.015625 L -5.921875 -1.15625 L -6.921875 -1.15625 L -8.25 -3.109375 L -8.25 -4.078125 L -0.890625 -4.078125 L -0.890625 -6.09375 L 0 -6.09375 Z M 0 -0.921875 \"/>\n",
       "</symbol>\n",
       "<symbol overflow=\"visible\" id=\"glyph1-5\">\n",
       "<path style=\"stroke:none;\" d=\"M -4.21875 -8.09375 C -3.53125 -8.09375 -2.921875 -7.988281 -2.390625 -7.78125 C -1.867188 -7.570312 -1.429688 -7.285156 -1.078125 -6.921875 C -0.722656 -6.566406 -0.453125 -6.144531 -0.265625 -5.65625 C -0.0859375 -5.164062 0 -4.640625 0 -4.078125 L 0 -0.984375 L -8.25 -0.984375 L -8.25 -3.71875 C -8.25 -4.351562 -8.171875 -4.9375 -8.015625 -5.46875 C -7.859375 -6.007812 -7.613281 -6.472656 -7.28125 -6.859375 C -6.957031 -7.242188 -6.539062 -7.546875 -6.03125 -7.765625 C -5.519531 -7.984375 -4.914062 -8.09375 -4.21875 -8.09375 Z M -4.21875 -6.96875 C -4.769531 -6.96875 -5.242188 -6.882812 -5.640625 -6.71875 C -6.035156 -6.5625 -6.359375 -6.335938 -6.609375 -6.046875 C -6.867188 -5.765625 -7.054688 -5.421875 -7.171875 -5.015625 C -7.296875 -4.609375 -7.359375 -4.164062 -7.359375 -3.6875 L -7.359375 -2.109375 L -0.890625 -2.109375 L -0.890625 -3.9375 C -0.890625 -4.375 -0.957031 -4.773438 -1.09375 -5.140625 C -1.238281 -5.515625 -1.453125 -5.835938 -1.734375 -6.109375 C -2.015625 -6.378906 -2.359375 -6.585938 -2.765625 -6.734375 C -3.179688 -6.890625 -3.664062 -6.96875 -4.21875 -6.96875 Z M -4.21875 -6.96875 \"/>\n",
       "</symbol>\n",
       "<symbol overflow=\"visible\" id=\"glyph1-6\">\n",
       "<path style=\"stroke:none;\" d=\"M -2.953125 -1.625 C -2.617188 -1.625 -2.3125 -1.65625 -2.03125 -1.71875 C -1.75 -1.789062 -1.507812 -1.894531 -1.3125 -2.03125 C -1.113281 -2.175781 -0.957031 -2.359375 -0.84375 -2.578125 C -0.726562 -2.804688 -0.671875 -3.078125 -0.671875 -3.390625 C -0.671875 -3.847656 -0.757812 -4.210938 -0.9375 -4.484375 C -1.125 -4.765625 -1.359375 -4.953125 -1.640625 -5.046875 L -1.390625 -5.96875 C -1.210938 -5.90625 -1.035156 -5.8125 -0.859375 -5.6875 C -0.679688 -5.570312 -0.519531 -5.414062 -0.375 -5.21875 C -0.226562 -5.019531 -0.109375 -4.769531 -0.015625 -4.46875 C 0.078125 -4.164062 0.125 -3.804688 0.125 -3.390625 C 0.125 -2.453125 -0.15625 -1.738281 -0.71875 -1.25 C -1.28125 -0.757812 -2.113281 -0.515625 -3.21875 -0.515625 C -3.8125 -0.515625 -4.3125 -0.585938 -4.71875 -0.734375 C -5.132812 -0.878906 -5.46875 -1.082031 -5.71875 -1.34375 C -5.976562 -1.601562 -6.164062 -1.90625 -6.28125 -2.25 C -6.394531 -2.59375 -6.453125 -2.957031 -6.453125 -3.34375 C -6.453125 -3.875 -6.363281 -4.316406 -6.1875 -4.671875 C -6.019531 -5.035156 -5.785156 -5.320312 -5.484375 -5.53125 C -5.179688 -5.75 -4.820312 -5.90625 -4.40625 -6 C -4 -6.09375 -3.5625 -6.140625 -3.09375 -6.140625 L -2.953125 -6.140625 Z M -3.75 -5.046875 C -4.425781 -4.992188 -4.914062 -4.828125 -5.21875 -4.546875 C -5.519531 -4.265625 -5.671875 -3.859375 -5.671875 -3.328125 C -5.671875 -3.148438 -5.644531 -2.960938 -5.59375 -2.765625 C -5.539062 -2.578125 -5.441406 -2.398438 -5.296875 -2.234375 C -5.148438 -2.078125 -4.953125 -1.941406 -4.703125 -1.828125 C -4.453125 -1.710938 -4.132812 -1.644531 -3.75 -1.625 Z M -3.75 -5.046875 \"/>\n",
       "</symbol>\n",
       "<symbol overflow=\"visible\" id=\"glyph1-7\">\n",
       "<path style=\"stroke:none;\" d=\"M 0 -4.828125 L -4.015625 -4.828125 C -4.328125 -4.828125 -4.585938 -4.804688 -4.796875 -4.765625 C -5.003906 -4.722656 -5.171875 -4.648438 -5.296875 -4.546875 C -5.421875 -4.441406 -5.507812 -4.304688 -5.5625 -4.140625 C -5.613281 -3.972656 -5.640625 -3.769531 -5.640625 -3.53125 C -5.640625 -3.28125 -5.59375 -3.050781 -5.5 -2.84375 C -5.414062 -2.644531 -5.289062 -2.472656 -5.125 -2.328125 C -4.957031 -2.191406 -4.753906 -2.082031 -4.515625 -2 C -4.273438 -1.925781 -3.992188 -1.890625 -3.671875 -1.890625 L 0 -1.890625 L 0 -0.828125 L -4.984375 -0.828125 C -5.117188 -0.828125 -5.257812 -0.828125 -5.40625 -0.828125 C -5.550781 -0.828125 -5.6875 -0.820312 -5.8125 -0.8125 C -5.945312 -0.8125 -6.0625 -0.804688 -6.15625 -0.796875 C -6.25 -0.796875 -6.3125 -0.796875 -6.34375 -0.796875 L -6.34375 -1.796875 C -6.320312 -1.796875 -6.265625 -1.796875 -6.171875 -1.796875 C -6.085938 -1.804688 -5.988281 -1.8125 -5.875 -1.8125 C -5.769531 -1.820312 -5.660156 -1.828125 -5.546875 -1.828125 C -5.429688 -1.835938 -5.332031 -1.84375 -5.25 -1.84375 L -5.25 -1.859375 C -5.4375 -1.960938 -5.601562 -2.070312 -5.75 -2.1875 C -5.90625 -2.3125 -6.03125 -2.453125 -6.125 -2.609375 C -6.226562 -2.773438 -6.304688 -2.957031 -6.359375 -3.15625 C -6.421875 -3.363281 -6.453125 -3.609375 -6.453125 -3.890625 C -6.453125 -4.234375 -6.410156 -4.53125 -6.328125 -4.78125 C -6.242188 -5.039062 -6.109375 -5.253906 -5.921875 -5.421875 C -5.742188 -5.585938 -5.515625 -5.707031 -5.234375 -5.78125 C -4.953125 -5.851562 -4.613281 -5.890625 -4.21875 -5.890625 L 0 -5.890625 Z M 0 -4.828125 \"/>\n",
       "</symbol>\n",
       "<symbol overflow=\"visible\" id=\"glyph1-8\">\n",
       "<path style=\"stroke:none;\" d=\"M -1.75 -5.5625 C -1.457031 -5.5625 -1.191406 -5.503906 -0.953125 -5.390625 C -0.722656 -5.273438 -0.53125 -5.109375 -0.375 -4.890625 C -0.21875 -4.671875 -0.09375 -4.398438 0 -4.078125 C 0.0820312 -3.765625 0.125 -3.40625 0.125 -3 C 0.125 -2.625 0.09375 -2.289062 0.03125 -2 C -0.0195312 -1.707031 -0.109375 -1.445312 -0.234375 -1.21875 C -0.359375 -1 -0.523438 -0.8125 -0.734375 -0.65625 C -0.941406 -0.507812 -1.191406 -0.398438 -1.484375 -0.328125 L -1.671875 -1.265625 C -1.328125 -1.359375 -1.078125 -1.546875 -0.921875 -1.828125 C -0.765625 -2.109375 -0.6875 -2.5 -0.6875 -3 C -0.6875 -3.21875 -0.703125 -3.421875 -0.734375 -3.609375 C -0.765625 -3.804688 -0.816406 -3.972656 -0.890625 -4.109375 C -0.972656 -4.242188 -1.078125 -4.347656 -1.203125 -4.421875 C -1.328125 -4.503906 -1.484375 -4.546875 -1.671875 -4.546875 C -1.859375 -4.546875 -2.015625 -4.5 -2.140625 -4.40625 C -2.265625 -4.3125 -2.367188 -4.1875 -2.453125 -4.03125 C -2.535156 -3.875 -2.601562 -3.679688 -2.65625 -3.453125 C -2.71875 -3.222656 -2.785156 -2.972656 -2.859375 -2.703125 C -2.929688 -2.441406 -3.007812 -2.1875 -3.09375 -1.9375 C -3.175781 -1.6875 -3.28125 -1.460938 -3.40625 -1.265625 C -3.539062 -1.066406 -3.707031 -0.90625 -3.90625 -0.78125 C -4.113281 -0.65625 -4.367188 -0.59375 -4.671875 -0.59375 C -5.242188 -0.59375 -5.679688 -0.796875 -5.984375 -1.203125 C -6.285156 -1.617188 -6.4375 -2.21875 -6.4375 -3 C -6.4375 -3.707031 -6.3125 -4.265625 -6.0625 -4.671875 C -5.820312 -5.085938 -5.429688 -5.347656 -4.890625 -5.453125 L -4.765625 -4.5 C -4.929688 -4.46875 -5.066406 -4.40625 -5.171875 -4.3125 C -5.285156 -4.21875 -5.378906 -4.101562 -5.453125 -3.96875 C -5.523438 -3.84375 -5.570312 -3.695312 -5.59375 -3.53125 C -5.625 -3.363281 -5.640625 -3.1875 -5.640625 -3 C -5.640625 -2.53125 -5.566406 -2.179688 -5.421875 -1.953125 C -5.273438 -1.722656 -5.054688 -1.609375 -4.765625 -1.609375 C -4.597656 -1.609375 -4.457031 -1.648438 -4.34375 -1.734375 C -4.226562 -1.816406 -4.132812 -1.929688 -4.0625 -2.078125 C -3.988281 -2.234375 -3.921875 -2.414062 -3.859375 -2.625 C -3.804688 -2.84375 -3.75 -3.078125 -3.6875 -3.328125 C -3.644531 -3.492188 -3.597656 -3.664062 -3.546875 -3.84375 C -3.492188 -4.019531 -3.429688 -4.191406 -3.359375 -4.359375 C -3.296875 -4.523438 -3.21875 -4.679688 -3.125 -4.828125 C -3.039062 -4.972656 -2.929688 -5.097656 -2.796875 -5.203125 C -2.671875 -5.316406 -2.519531 -5.40625 -2.34375 -5.46875 C -2.175781 -5.53125 -1.976562 -5.5625 -1.75 -5.5625 Z M -1.75 -5.5625 \"/>\n",
       "</symbol>\n",
       "<symbol overflow=\"visible\" id=\"glyph1-9\">\n",
       "<path style=\"stroke:none;\" d=\"M -7.6875 -0.796875 L -8.703125 -0.796875 L -8.703125 -1.859375 L -7.6875 -1.859375 Z M 0 -0.796875 L -6.34375 -0.796875 L -6.34375 -1.859375 L 0 -1.859375 Z M 0 -0.796875 \"/>\n",
       "</symbol>\n",
       "<symbol overflow=\"visible\" id=\"glyph1-10\">\n",
       "<path style=\"stroke:none;\" d=\"M -0.046875 -3.25 C -0.00390625 -3.082031 0.0234375 -2.914062 0.046875 -2.75 C 0.078125 -2.59375 0.09375 -2.40625 0.09375 -2.1875 C 0.09375 -1.34375 -0.382812 -0.921875 -1.34375 -0.921875 L -5.578125 -0.921875 L -5.578125 -0.1875 L -6.34375 -0.1875 L -6.34375 -0.953125 L -7.765625 -1.265625 L -7.765625 -1.96875 L -6.34375 -1.96875 L -6.34375 -3.140625 L -5.578125 -3.140625 L -5.578125 -1.96875 L -1.578125 -1.96875 C -1.265625 -1.96875 -1.046875 -2.015625 -0.921875 -2.109375 C -0.804688 -2.210938 -0.75 -2.390625 -0.75 -2.640625 C -0.75 -2.742188 -0.753906 -2.84375 -0.765625 -2.9375 C -0.785156 -3.03125 -0.804688 -3.132812 -0.828125 -3.25 Z M -0.046875 -3.25 \"/>\n",
       "</symbol>\n",
       "<symbol overflow=\"visible\" id=\"glyph1-11\">\n",
       "<path style=\"stroke:none;\" d=\"M 0 -3.546875 C 0.382812 -3.390625 0.726562 -3.234375 1.03125 -3.078125 C 1.34375 -2.929688 1.601562 -2.757812 1.8125 -2.5625 C 2.03125 -2.375 2.195312 -2.160156 2.3125 -1.921875 C 2.425781 -1.691406 2.484375 -1.425781 2.484375 -1.125 C 2.484375 -0.988281 2.476562 -0.863281 2.46875 -0.75 C 2.46875 -0.632812 2.453125 -0.515625 2.421875 -0.390625 L 1.640625 -0.390625 C 1.648438 -0.460938 1.65625 -0.546875 1.65625 -0.640625 C 1.664062 -0.734375 1.671875 -0.816406 1.671875 -0.890625 C 1.671875 -1.191406 1.554688 -1.472656 1.328125 -1.734375 C 1.097656 -2.003906 0.726562 -2.238281 0.21875 -2.4375 L -0.03125 -2.546875 L -6.34375 -0.03125 L -6.34375 -1.15625 L -2.84375 -2.484375 C -2.726562 -2.523438 -2.582031 -2.578125 -2.40625 -2.640625 C -2.238281 -2.703125 -2.066406 -2.757812 -1.890625 -2.8125 C -1.710938 -2.875 -1.550781 -2.925781 -1.40625 -2.96875 C -1.269531 -3.019531 -1.1875 -3.050781 -1.15625 -3.0625 C -1.195312 -3.070312 -1.28125 -3.097656 -1.40625 -3.140625 C -1.53125 -3.191406 -1.671875 -3.242188 -1.828125 -3.296875 C -1.984375 -3.359375 -2.140625 -3.414062 -2.296875 -3.46875 C -2.460938 -3.53125 -2.601562 -3.582031 -2.71875 -3.625 L -6.34375 -4.859375 L -6.34375 -5.984375 Z M 0 -3.546875 \"/>\n",
       "</symbol>\n",
       "<symbol overflow=\"visible\" id=\"glyph2-0\">\n",
       "<path style=\"stroke:none;\" d=\"M 0.484375 0 L 0.484375 -9.609375 L 4.3125 -9.609375 L 4.3125 0 Z M 0.953125 -0.484375 L 3.828125 -0.484375 L 3.828125 -9.125 L 0.953125 -9.125 Z M 0.953125 -0.484375 \"/>\n",
       "</symbol>\n",
       "<symbol overflow=\"visible\" id=\"glyph2-1\">\n",
       "<path style=\"stroke:none;\" d=\"M 5.9375 0 C 5.925781 -0.0390625 5.914062 -0.109375 5.90625 -0.203125 C 5.894531 -0.296875 5.882812 -0.398438 5.875 -0.515625 C 5.863281 -0.640625 5.851562 -0.765625 5.84375 -0.890625 C 5.832031 -1.023438 5.828125 -1.140625 5.828125 -1.234375 L 5.796875 -1.234375 C 5.566406 -0.742188 5.25 -0.390625 4.84375 -0.171875 C 4.4375 0.0351562 3.945312 0.140625 3.375 0.140625 C 2.894531 0.140625 2.476562 0.0390625 2.125 -0.15625 C 1.78125 -0.351562 1.492188 -0.625 1.265625 -0.96875 C 1.035156 -1.320312 0.863281 -1.738281 0.75 -2.21875 C 0.644531 -2.707031 0.59375 -3.234375 0.59375 -3.796875 C 0.59375 -4.367188 0.648438 -4.894531 0.765625 -5.375 C 0.878906 -5.863281 1.054688 -6.28125 1.296875 -6.625 C 1.535156 -6.976562 1.835938 -7.253906 2.203125 -7.453125 C 2.566406 -7.648438 3.003906 -7.75 3.515625 -7.75 C 3.765625 -7.75 4.003906 -7.722656 4.234375 -7.671875 C 4.460938 -7.617188 4.675781 -7.539062 4.875 -7.4375 C 5.070312 -7.332031 5.25 -7.191406 5.40625 -7.015625 C 5.570312 -6.847656 5.707031 -6.644531 5.8125 -6.40625 L 5.828125 -6.40625 C 5.828125 -6.457031 5.828125 -6.523438 5.828125 -6.609375 C 5.828125 -6.703125 5.828125 -6.804688 5.828125 -6.921875 C 5.828125 -7.046875 5.820312 -7.171875 5.8125 -7.296875 C 5.8125 -7.421875 5.8125 -7.539062 5.8125 -7.65625 L 5.8125 -10.4375 L 7.796875 -10.4375 L 7.796875 -1.65625 C 7.796875 -1.289062 7.800781 -0.960938 7.8125 -0.671875 C 7.832031 -0.378906 7.84375 -0.15625 7.84375 0 Z M 5.84375 -3.84375 C 5.84375 -4.34375 5.796875 -4.757812 5.703125 -5.09375 C 5.609375 -5.425781 5.484375 -5.6875 5.328125 -5.875 C 5.179688 -6.070312 5.007812 -6.207031 4.8125 -6.28125 C 4.613281 -6.363281 4.414062 -6.40625 4.21875 -6.40625 C 3.96875 -6.40625 3.742188 -6.351562 3.546875 -6.25 C 3.347656 -6.15625 3.179688 -6.003906 3.046875 -5.796875 C 2.921875 -5.585938 2.820312 -5.316406 2.75 -4.984375 C 2.6875 -4.660156 2.65625 -4.265625 2.65625 -3.796875 C 2.65625 -2.066406 3.171875 -1.203125 4.203125 -1.203125 C 4.398438 -1.203125 4.597656 -1.242188 4.796875 -1.328125 C 4.992188 -1.421875 5.171875 -1.566406 5.328125 -1.765625 C 5.484375 -1.960938 5.609375 -2.234375 5.703125 -2.578125 C 5.796875 -2.921875 5.84375 -3.34375 5.84375 -3.84375 Z M 5.84375 -3.84375 \"/>\n",
       "</symbol>\n",
       "<symbol overflow=\"visible\" id=\"glyph2-2\">\n",
       "<path style=\"stroke:none;\" d=\"M 4.125 0.140625 C 3.570312 0.140625 3.078125 0.0625 2.640625 -0.09375 C 2.203125 -0.257812 1.828125 -0.507812 1.515625 -0.84375 C 1.210938 -1.175781 0.976562 -1.585938 0.8125 -2.078125 C 0.644531 -2.578125 0.5625 -3.164062 0.5625 -3.84375 C 0.5625 -4.570312 0.65625 -5.179688 0.84375 -5.671875 C 1.039062 -6.171875 1.304688 -6.570312 1.640625 -6.875 C 1.972656 -7.1875 2.351562 -7.410156 2.78125 -7.546875 C 3.21875 -7.679688 3.675781 -7.75 4.15625 -7.75 C 4.75 -7.75 5.257812 -7.644531 5.6875 -7.4375 C 6.113281 -7.226562 6.460938 -6.9375 6.734375 -6.5625 C 7.003906 -6.1875 7.203125 -5.738281 7.328125 -5.21875 C 7.453125 -4.695312 7.515625 -4.117188 7.515625 -3.484375 L 7.515625 -3.421875 L 2.640625 -3.421875 C 2.640625 -3.109375 2.664062 -2.8125 2.71875 -2.53125 C 2.78125 -2.257812 2.875 -2.023438 3 -1.828125 C 3.125 -1.628906 3.285156 -1.472656 3.484375 -1.359375 C 3.691406 -1.242188 3.9375 -1.1875 4.21875 -1.1875 C 4.5625 -1.1875 4.84375 -1.257812 5.0625 -1.40625 C 5.289062 -1.550781 5.453125 -1.78125 5.546875 -2.09375 L 7.40625 -1.921875 C 7.320312 -1.710938 7.203125 -1.484375 7.046875 -1.234375 C 6.898438 -0.992188 6.695312 -0.769531 6.4375 -0.5625 C 6.1875 -0.363281 5.875 -0.195312 5.5 -0.0625 C 5.125 0.0703125 4.664062 0.140625 4.125 0.140625 Z M 4.125 -6.5 C 3.914062 -6.5 3.722656 -6.460938 3.546875 -6.390625 C 3.378906 -6.328125 3.226562 -6.222656 3.09375 -6.078125 C 2.96875 -5.929688 2.863281 -5.738281 2.78125 -5.5 C 2.707031 -5.269531 2.664062 -4.988281 2.65625 -4.65625 L 5.609375 -4.65625 C 5.566406 -5.269531 5.414062 -5.726562 5.15625 -6.03125 C 4.90625 -6.34375 4.5625 -6.5 4.125 -6.5 Z M 4.125 -6.5 \"/>\n",
       "</symbol>\n",
       "<symbol overflow=\"visible\" id=\"glyph2-3\">\n",
       "<path style=\"stroke:none;\" d=\"M 5.9375 0 L 5.9375 -4.265625 C 5.9375 -4.566406 5.910156 -4.835938 5.859375 -5.078125 C 5.816406 -5.328125 5.738281 -5.539062 5.625 -5.71875 C 5.519531 -5.894531 5.378906 -6.03125 5.203125 -6.125 C 5.035156 -6.226562 4.828125 -6.28125 4.578125 -6.28125 C 4.335938 -6.28125 4.117188 -6.222656 3.921875 -6.109375 C 3.734375 -6.003906 3.566406 -5.851562 3.421875 -5.65625 C 3.285156 -5.46875 3.175781 -5.238281 3.09375 -4.96875 C 3.019531 -4.695312 2.984375 -4.398438 2.984375 -4.078125 L 2.984375 0 L 1 0 L 1 -5.90625 C 1 -6.070312 1 -6.238281 1 -6.40625 C 1 -6.582031 0.992188 -6.75 0.984375 -6.90625 C 0.984375 -7.0625 0.976562 -7.203125 0.96875 -7.328125 C 0.96875 -7.453125 0.960938 -7.546875 0.953125 -7.609375 L 2.828125 -7.609375 C 2.835938 -7.554688 2.847656 -7.46875 2.859375 -7.34375 C 2.867188 -7.21875 2.878906 -7.078125 2.890625 -6.921875 C 2.898438 -6.773438 2.90625 -6.625 2.90625 -6.46875 C 2.914062 -6.320312 2.921875 -6.195312 2.921875 -6.09375 L 2.953125 -6.09375 C 3.222656 -6.675781 3.554688 -7.097656 3.953125 -7.359375 C 4.359375 -7.628906 4.84375 -7.765625 5.40625 -7.765625 C 5.863281 -7.765625 6.25 -7.6875 6.5625 -7.53125 C 6.882812 -7.382812 7.144531 -7.175781 7.34375 -6.90625 C 7.539062 -6.644531 7.679688 -6.335938 7.765625 -5.984375 C 7.859375 -5.628906 7.90625 -5.242188 7.90625 -4.828125 L 7.90625 0 Z M 5.9375 0 \"/>\n",
       "</symbol>\n",
       "<symbol overflow=\"visible\" id=\"glyph2-4\">\n",
       "<path style=\"stroke:none;\" d=\"M 7.421875 -2.21875 C 7.421875 -1.851562 7.34375 -1.523438 7.1875 -1.234375 C 7.039062 -0.941406 6.820312 -0.691406 6.53125 -0.484375 C 6.238281 -0.285156 5.878906 -0.128906 5.453125 -0.015625 C 5.035156 0.0859375 4.554688 0.140625 4.015625 0.140625 C 3.535156 0.140625 3.097656 0.101562 2.703125 0.03125 C 2.316406 -0.0390625 1.976562 -0.15625 1.6875 -0.3125 C 1.394531 -0.476562 1.148438 -0.6875 0.953125 -0.9375 C 0.753906 -1.195312 0.601562 -1.519531 0.5 -1.90625 L 2.25 -2.15625 C 2.300781 -1.945312 2.375 -1.773438 2.46875 -1.640625 C 2.570312 -1.515625 2.695312 -1.414062 2.84375 -1.34375 C 2.988281 -1.269531 3.15625 -1.222656 3.34375 -1.203125 C 3.539062 -1.179688 3.765625 -1.171875 4.015625 -1.171875 C 4.242188 -1.171875 4.453125 -1.179688 4.640625 -1.203125 C 4.835938 -1.234375 5.003906 -1.28125 5.140625 -1.34375 C 5.285156 -1.40625 5.398438 -1.492188 5.484375 -1.609375 C 5.566406 -1.722656 5.609375 -1.867188 5.609375 -2.046875 C 5.609375 -2.234375 5.550781 -2.382812 5.4375 -2.5 C 5.320312 -2.625 5.160156 -2.71875 4.953125 -2.78125 C 4.753906 -2.851562 4.519531 -2.914062 4.25 -2.96875 C 3.988281 -3.03125 3.703125 -3.097656 3.390625 -3.171875 C 3.078125 -3.234375 2.765625 -3.3125 2.453125 -3.40625 C 2.140625 -3.507812 1.863281 -3.644531 1.625 -3.8125 C 1.382812 -3.988281 1.1875 -4.207031 1.03125 -4.46875 C 0.882812 -4.726562 0.8125 -5.054688 0.8125 -5.453125 C 0.8125 -5.816406 0.878906 -6.140625 1.015625 -6.421875 C 1.160156 -6.703125 1.367188 -6.941406 1.640625 -7.140625 C 1.910156 -7.335938 2.242188 -7.488281 2.640625 -7.59375 C 3.046875 -7.707031 3.507812 -7.765625 4.03125 -7.765625 C 4.445312 -7.765625 4.832031 -7.722656 5.1875 -7.640625 C 5.539062 -7.566406 5.859375 -7.445312 6.140625 -7.28125 C 6.421875 -7.113281 6.65625 -6.898438 6.84375 -6.640625 C 7.03125 -6.378906 7.164062 -6.066406 7.25 -5.703125 L 5.5 -5.515625 C 5.457031 -5.703125 5.394531 -5.851562 5.3125 -5.96875 C 5.226562 -6.09375 5.125 -6.1875 5 -6.25 C 4.875 -6.320312 4.726562 -6.367188 4.5625 -6.390625 C 4.40625 -6.421875 4.226562 -6.4375 4.03125 -6.4375 C 3.5625 -6.4375 3.207031 -6.375 2.96875 -6.25 C 2.738281 -6.132812 2.625 -5.9375 2.625 -5.65625 C 2.625 -5.488281 2.671875 -5.351562 2.765625 -5.25 C 2.859375 -5.144531 2.992188 -5.054688 3.171875 -4.984375 C 3.347656 -4.921875 3.554688 -4.863281 3.796875 -4.8125 C 4.046875 -4.757812 4.3125 -4.703125 4.59375 -4.640625 C 4.945312 -4.554688 5.289062 -4.460938 5.625 -4.359375 C 5.96875 -4.265625 6.269531 -4.128906 6.53125 -3.953125 C 6.800781 -3.773438 7.015625 -3.546875 7.171875 -3.265625 C 7.335938 -2.992188 7.421875 -2.644531 7.421875 -2.21875 Z M 7.421875 -2.21875 \"/>\n",
       "</symbol>\n",
       "<symbol overflow=\"visible\" id=\"glyph2-5\">\n",
       "<path style=\"stroke:none;\" d=\"M 1 -8.984375 L 1 -10.4375 L 2.984375 -10.4375 L 2.984375 -8.984375 Z M 1 0 L 1 -7.609375 L 2.984375 -7.609375 L 2.984375 0 Z M 1 0 \"/>\n",
       "</symbol>\n",
       "<symbol overflow=\"visible\" id=\"glyph2-6\">\n",
       "<path style=\"stroke:none;\" d=\"M 2.953125 0.125 C 2.367188 0.125 1.921875 -0.03125 1.609375 -0.34375 C 1.296875 -0.664062 1.140625 -1.144531 1.140625 -1.78125 L 1.140625 -6.28125 L 0.171875 -6.28125 L 0.171875 -7.609375 L 1.234375 -7.609375 L 1.859375 -9.390625 L 3.09375 -9.390625 L 3.09375 -7.609375 L 4.53125 -7.609375 L 4.53125 -6.28125 L 3.09375 -6.28125 L 3.09375 -2.328125 C 3.09375 -1.953125 3.160156 -1.675781 3.296875 -1.5 C 3.441406 -1.320312 3.660156 -1.234375 3.953125 -1.234375 C 4.078125 -1.234375 4.1875 -1.242188 4.28125 -1.265625 C 4.382812 -1.285156 4.5 -1.3125 4.625 -1.34375 L 4.625 -0.109375 C 4.375 -0.0351562 4.113281 0.0195312 3.84375 0.0625 C 3.570312 0.101562 3.273438 0.125 2.953125 0.125 Z M 2.953125 0.125 \"/>\n",
       "</symbol>\n",
       "<symbol overflow=\"visible\" id=\"glyph2-7\">\n",
       "<path style=\"stroke:none;\" d=\"M 4.109375 -1.6875 L 5.859375 -7.609375 L 7.9375 -7.609375 L 4.921875 0.40625 C 4.546875 1.320312 4.15625 1.972656 3.75 2.359375 C 3.300781 2.773438 2.710938 2.984375 1.984375 2.984375 C 1.515625 2.984375 1.101562 2.953125 0.75 2.890625 L 0.75 1.484375 C 1 1.523438 1.222656 1.546875 1.421875 1.546875 C 1.617188 1.546875 1.789062 1.523438 1.9375 1.484375 C 2.09375 1.441406 2.226562 1.367188 2.34375 1.265625 C 2.582031 1.078125 2.800781 0.742188 3 0.265625 L 3.125 -0.078125 L 0.109375 -7.609375 L 2.203125 -7.609375 Z M 4.109375 -1.6875 \"/>\n",
       "</symbol>\n",
       "<symbol overflow=\"visible\" id=\"glyph2-8\">\n",
       "<path style=\"stroke:none;\" d=\"M 0.984375 0 L 0.984375 -2.140625 L 3.015625 -2.140625 L 3.015625 0 Z M 0.984375 0 \"/>\n",
       "</symbol>\n",
       "<symbol overflow=\"visible\" id=\"glyph2-9\">\n",
       "<path style=\"stroke:none;\" d=\"M 3.328125 -6.28125 L 3.328125 0 L 1.359375 0 L 1.359375 -6.28125 L 0.25 -6.28125 L 0.25 -7.609375 L 1.359375 -7.609375 L 1.359375 -8.40625 C 1.359375 -8.695312 1.390625 -8.960938 1.453125 -9.203125 C 1.523438 -9.453125 1.644531 -9.664062 1.8125 -9.84375 C 1.988281 -10.03125 2.21875 -10.175781 2.5 -10.28125 C 2.789062 -10.382812 3.148438 -10.4375 3.578125 -10.4375 C 3.796875 -10.4375 4.015625 -10.425781 4.234375 -10.40625 C 4.453125 -10.382812 4.648438 -10.359375 4.828125 -10.328125 L 4.828125 -9.046875 C 4.742188 -9.066406 4.644531 -9.082031 4.53125 -9.09375 C 4.425781 -9.101562 4.332031 -9.109375 4.25 -9.109375 C 4.0625 -9.109375 3.90625 -9.085938 3.78125 -9.046875 C 3.664062 -9.015625 3.570312 -8.960938 3.5 -8.890625 C 3.4375 -8.816406 3.390625 -8.722656 3.359375 -8.609375 C 3.335938 -8.492188 3.328125 -8.359375 3.328125 -8.203125 L 3.328125 -7.609375 L 4.828125 -7.609375 L 4.828125 -6.28125 Z M 3.328125 -6.28125 \"/>\n",
       "</symbol>\n",
       "<symbol overflow=\"visible\" id=\"glyph2-10\">\n",
       "<path style=\"stroke:none;\" d=\"M 2.765625 0.140625 C 2.398438 0.140625 2.070312 0.09375 1.78125 0 C 1.488281 -0.101562 1.242188 -0.253906 1.046875 -0.453125 C 0.847656 -0.648438 0.691406 -0.890625 0.578125 -1.171875 C 0.472656 -1.460938 0.421875 -1.789062 0.421875 -2.15625 C 0.421875 -2.601562 0.5 -2.976562 0.65625 -3.28125 C 0.8125 -3.59375 1.023438 -3.84375 1.296875 -4.03125 C 1.566406 -4.21875 1.882812 -4.351562 2.25 -4.4375 C 2.625 -4.53125 3.015625 -4.582031 3.421875 -4.59375 L 5.0625 -4.609375 L 5.0625 -5 C 5.0625 -5.28125 5.035156 -5.507812 4.984375 -5.6875 C 4.941406 -5.875 4.875 -6.023438 4.78125 -6.140625 C 4.6875 -6.265625 4.566406 -6.347656 4.421875 -6.390625 C 4.285156 -6.441406 4.128906 -6.46875 3.953125 -6.46875 C 3.785156 -6.46875 3.632812 -6.453125 3.5 -6.421875 C 3.375 -6.390625 3.265625 -6.332031 3.171875 -6.25 C 3.078125 -6.164062 3 -6.054688 2.9375 -5.921875 C 2.882812 -5.785156 2.847656 -5.609375 2.828125 -5.390625 L 0.765625 -5.5 C 0.816406 -5.832031 0.914062 -6.132812 1.0625 -6.40625 C 1.21875 -6.675781 1.425781 -6.910156 1.6875 -7.109375 C 1.957031 -7.316406 2.285156 -7.472656 2.671875 -7.578125 C 3.054688 -7.691406 3.507812 -7.75 4.03125 -7.75 C 4.507812 -7.75 4.929688 -7.691406 5.296875 -7.578125 C 5.671875 -7.460938 5.988281 -7.285156 6.25 -7.046875 C 6.507812 -6.816406 6.707031 -6.53125 6.84375 -6.1875 C 6.976562 -5.851562 7.046875 -5.460938 7.046875 -5.015625 L 7.046875 -2.25 C 7.046875 -2.070312 7.050781 -1.910156 7.0625 -1.765625 C 7.082031 -1.628906 7.113281 -1.507812 7.15625 -1.40625 C 7.195312 -1.3125 7.257812 -1.238281 7.34375 -1.1875 C 7.425781 -1.144531 7.535156 -1.125 7.671875 -1.125 C 7.816406 -1.125 7.960938 -1.140625 8.109375 -1.171875 L 8.109375 -0.09375 C 7.984375 -0.0703125 7.875 -0.046875 7.78125 -0.015625 C 7.6875 0.00390625 7.59375 0.0195312 7.5 0.03125 C 7.40625 0.0507812 7.304688 0.0625 7.203125 0.0625 C 7.097656 0.0703125 6.976562 0.078125 6.84375 0.078125 C 6.34375 0.078125 5.972656 -0.0390625 5.734375 -0.28125 C 5.492188 -0.519531 5.351562 -0.878906 5.3125 -1.359375 L 5.265625 -1.359375 C 5.003906 -0.878906 4.664062 -0.507812 4.25 -0.25 C 3.84375 0.0078125 3.347656 0.140625 2.765625 0.140625 Z M 5.0625 -3.53125 L 4.046875 -3.515625 C 3.835938 -3.503906 3.640625 -3.484375 3.453125 -3.453125 C 3.265625 -3.429688 3.097656 -3.378906 2.953125 -3.296875 C 2.804688 -3.210938 2.691406 -3.09375 2.609375 -2.9375 C 2.523438 -2.78125 2.484375 -2.570312 2.484375 -2.3125 C 2.484375 -1.945312 2.566406 -1.675781 2.734375 -1.5 C 2.898438 -1.320312 3.117188 -1.234375 3.390625 -1.234375 C 3.648438 -1.234375 3.878906 -1.285156 4.078125 -1.390625 C 4.285156 -1.503906 4.460938 -1.648438 4.609375 -1.828125 C 4.753906 -2.003906 4.863281 -2.207031 4.9375 -2.4375 C 5.019531 -2.664062 5.0625 -2.898438 5.0625 -3.140625 Z M 5.0625 -3.53125 \"/>\n",
       "</symbol>\n",
       "<symbol overflow=\"visible\" id=\"glyph2-11\">\n",
       "<path style=\"stroke:none;\" d=\"M 2.875 -7.609375 L 2.875 -3.34375 C 2.875 -3.039062 2.894531 -2.765625 2.9375 -2.515625 C 2.988281 -2.273438 3.066406 -2.066406 3.171875 -1.890625 C 3.273438 -1.710938 3.410156 -1.578125 3.578125 -1.484375 C 3.753906 -1.390625 3.96875 -1.34375 4.21875 -1.34375 C 4.457031 -1.34375 4.671875 -1.394531 4.859375 -1.5 C 5.054688 -1.601562 5.222656 -1.75 5.359375 -1.9375 C 5.503906 -2.132812 5.613281 -2.367188 5.6875 -2.640625 C 5.769531 -2.910156 5.8125 -3.207031 5.8125 -3.53125 L 5.8125 -7.609375 L 7.796875 -7.609375 L 7.796875 -1.703125 C 7.796875 -1.546875 7.796875 -1.378906 7.796875 -1.203125 C 7.796875 -1.023438 7.800781 -0.859375 7.8125 -0.703125 C 7.820312 -0.546875 7.828125 -0.40625 7.828125 -0.28125 C 7.835938 -0.15625 7.84375 -0.0625 7.84375 0 L 5.96875 0 C 5.957031 -0.0507812 5.945312 -0.140625 5.9375 -0.265625 C 5.925781 -0.390625 5.914062 -0.523438 5.90625 -0.671875 C 5.90625 -0.828125 5.898438 -0.976562 5.890625 -1.125 C 5.878906 -1.28125 5.875 -1.410156 5.875 -1.515625 L 5.84375 -1.515625 C 5.582031 -0.929688 5.25 -0.507812 4.84375 -0.25 C 4.4375 0.0078125 3.953125 0.140625 3.390625 0.140625 C 2.941406 0.140625 2.554688 0.0664062 2.234375 -0.078125 C 1.921875 -0.234375 1.660156 -0.441406 1.453125 -0.703125 C 1.253906 -0.960938 1.109375 -1.269531 1.015625 -1.625 C 0.929688 -1.976562 0.890625 -2.363281 0.890625 -2.78125 L 0.890625 -7.609375 Z M 2.875 -7.609375 \"/>\n",
       "</symbol>\n",
       "<symbol overflow=\"visible\" id=\"glyph2-12\">\n",
       "<path style=\"stroke:none;\" d=\"M 1 0 L 1 -10.4375 L 2.984375 -10.4375 L 2.984375 0 Z M 1 0 \"/>\n",
       "</symbol>\n",
       "<symbol overflow=\"visible\" id=\"glyph2-13\">\n",
       "<path style=\"stroke:none;\" d=\"M 2.8125 2.984375 C 2.445312 2.460938 2.132812 1.941406 1.875 1.421875 C 1.613281 0.910156 1.394531 0.382812 1.21875 -0.15625 C 1.050781 -0.695312 0.925781 -1.257812 0.84375 -1.84375 C 0.757812 -2.4375 0.71875 -3.066406 0.71875 -3.734375 C 0.71875 -4.398438 0.757812 -5.023438 0.84375 -5.609375 C 0.925781 -6.203125 1.050781 -6.769531 1.21875 -7.3125 C 1.394531 -7.851562 1.613281 -8.378906 1.875 -8.890625 C 2.132812 -9.398438 2.445312 -9.914062 2.8125 -10.4375 L 4.78125 -10.4375 C 4.40625 -9.894531 4.082031 -9.359375 3.8125 -8.828125 C 3.550781 -8.296875 3.332031 -7.757812 3.15625 -7.21875 C 2.988281 -6.675781 2.863281 -6.113281 2.78125 -5.53125 C 2.707031 -4.957031 2.671875 -4.359375 2.671875 -3.734375 C 2.671875 -3.085938 2.707031 -2.476562 2.78125 -1.90625 C 2.863281 -1.332031 2.988281 -0.773438 3.15625 -0.234375 C 3.332031 0.304688 3.550781 0.84375 3.8125 1.375 C 4.082031 1.90625 4.40625 2.441406 4.78125 2.984375 Z M 2.8125 2.984375 \"/>\n",
       "</symbol>\n",
       "<symbol overflow=\"visible\" id=\"glyph2-14\">\n",
       "<path style=\"stroke:none;\" d=\"M 5.765625 0 L 3.984375 -2.75 L 2.203125 0 L 0.09375 0 L 2.890625 -3.9375 L 0.234375 -7.609375 L 2.359375 -7.609375 L 3.984375 -5.125 L 5.609375 -7.609375 L 7.75 -7.609375 L 5.09375 -3.953125 L 7.90625 0 Z M 5.765625 0 \"/>\n",
       "</symbol>\n",
       "<symbol overflow=\"visible\" id=\"glyph2-15\">\n",
       "<path style=\"stroke:none;\" d=\"\"/>\n",
       "</symbol>\n",
       "<symbol overflow=\"visible\" id=\"glyph2-16\">\n",
       "<path style=\"stroke:none;\" d=\"M 0.59375 -5.921875 L 0.59375 -7.484375 L 7.828125 -7.484375 L 7.828125 -5.921875 Z M 0.59375 -2.046875 L 0.59375 -3.609375 L 7.828125 -3.609375 L 7.828125 -2.046875 Z M 0.59375 -2.046875 \"/>\n",
       "</symbol>\n",
       "<symbol overflow=\"visible\" id=\"glyph2-17\">\n",
       "<path style=\"stroke:none;\" d=\"M 8.234375 -3.8125 C 8.234375 -3.226562 8.148438 -2.691406 7.984375 -2.203125 C 7.828125 -1.722656 7.585938 -1.304688 7.265625 -0.953125 C 6.941406 -0.609375 6.535156 -0.335938 6.046875 -0.140625 C 5.566406 0.046875 5.007812 0.140625 4.375 0.140625 C 3.75 0.140625 3.195312 0.046875 2.71875 -0.140625 C 2.25 -0.335938 1.851562 -0.609375 1.53125 -0.953125 C 1.21875 -1.304688 0.976562 -1.722656 0.8125 -2.203125 C 0.644531 -2.691406 0.5625 -3.226562 0.5625 -3.8125 C 0.5625 -4.375 0.640625 -4.894531 0.796875 -5.375 C 0.953125 -5.863281 1.1875 -6.28125 1.5 -6.625 C 1.820312 -6.976562 2.222656 -7.253906 2.703125 -7.453125 C 3.191406 -7.648438 3.757812 -7.75 4.40625 -7.75 C 5.09375 -7.75 5.675781 -7.648438 6.15625 -7.453125 C 6.644531 -7.253906 7.039062 -6.976562 7.34375 -6.625 C 7.65625 -6.28125 7.878906 -5.867188 8.015625 -5.390625 C 8.160156 -4.910156 8.234375 -4.382812 8.234375 -3.8125 Z M 6.171875 -3.8125 C 6.171875 -4.71875 6.019531 -5.375 5.71875 -5.78125 C 5.425781 -6.1875 5 -6.390625 4.4375 -6.390625 C 3.851562 -6.390625 3.40625 -6.179688 3.09375 -5.765625 C 2.789062 -5.359375 2.640625 -4.707031 2.640625 -3.8125 C 2.640625 -3.351562 2.679688 -2.957031 2.765625 -2.625 C 2.847656 -2.300781 2.960938 -2.035156 3.109375 -1.828125 C 3.253906 -1.617188 3.429688 -1.460938 3.640625 -1.359375 C 3.859375 -1.253906 4.09375 -1.203125 4.34375 -1.203125 C 4.632812 -1.203125 4.894531 -1.253906 5.125 -1.359375 C 5.351562 -1.460938 5.546875 -1.617188 5.703125 -1.828125 C 5.859375 -2.035156 5.972656 -2.300781 6.046875 -2.625 C 6.128906 -2.957031 6.171875 -3.351562 6.171875 -3.8125 Z M 6.171875 -3.8125 \"/>\n",
       "</symbol>\n",
       "<symbol overflow=\"visible\" id=\"glyph2-18\">\n",
       "<path style=\"stroke:none;\" d=\"M 4.1875 3.046875 C 3.6875 3.046875 3.242188 2.992188 2.859375 2.890625 C 2.484375 2.796875 2.160156 2.65625 1.890625 2.46875 C 1.617188 2.289062 1.398438 2.078125 1.234375 1.828125 C 1.078125 1.578125 0.96875 1.300781 0.90625 1 L 2.890625 0.78125 C 2.953125 1.082031 3.097656 1.316406 3.328125 1.484375 C 3.566406 1.660156 3.875 1.75 4.25 1.75 C 4.476562 1.75 4.691406 1.710938 4.890625 1.640625 C 5.085938 1.578125 5.253906 1.46875 5.390625 1.3125 C 5.523438 1.15625 5.628906 0.945312 5.703125 0.6875 C 5.785156 0.4375 5.828125 0.117188 5.828125 -0.265625 C 5.828125 -0.390625 5.828125 -0.519531 5.828125 -0.65625 C 5.828125 -0.789062 5.832031 -0.914062 5.84375 -1.03125 C 5.84375 -1.164062 5.84375 -1.289062 5.84375 -1.40625 L 5.828125 -1.40625 C 5.597656 -0.914062 5.273438 -0.5625 4.859375 -0.34375 C 4.441406 -0.125 3.953125 -0.015625 3.390625 -0.015625 C 2.898438 -0.015625 2.476562 -0.109375 2.125 -0.296875 C 1.78125 -0.484375 1.492188 -0.75 1.265625 -1.09375 C 1.035156 -1.4375 0.863281 -1.84375 0.75 -2.3125 C 0.644531 -2.78125 0.59375 -3.300781 0.59375 -3.875 C 0.59375 -4.457031 0.648438 -4.984375 0.765625 -5.453125 C 0.878906 -5.929688 1.054688 -6.34375 1.296875 -6.6875 C 1.546875 -7.03125 1.851562 -7.296875 2.21875 -7.484375 C 2.582031 -7.671875 3.019531 -7.765625 3.53125 -7.765625 C 4.039062 -7.765625 4.492188 -7.65625 4.890625 -7.4375 C 5.296875 -7.21875 5.609375 -6.867188 5.828125 -6.390625 L 5.859375 -6.390625 C 5.859375 -6.484375 5.863281 -6.59375 5.875 -6.71875 C 5.882812 -6.851562 5.894531 -6.976562 5.90625 -7.09375 C 5.914062 -7.21875 5.925781 -7.328125 5.9375 -7.421875 C 5.945312 -7.515625 5.957031 -7.578125 5.96875 -7.609375 L 7.84375 -7.609375 C 7.832031 -7.441406 7.820312 -7.203125 7.8125 -6.890625 C 7.800781 -6.585938 7.796875 -6.242188 7.796875 -5.859375 L 7.796875 -0.234375 C 7.796875 0.316406 7.710938 0.796875 7.546875 1.203125 C 7.390625 1.617188 7.15625 1.960938 6.84375 2.234375 C 6.539062 2.503906 6.164062 2.707031 5.71875 2.84375 C 5.269531 2.976562 4.757812 3.046875 4.1875 3.046875 Z M 5.84375 -3.90625 C 5.84375 -4.382812 5.796875 -4.78125 5.703125 -5.09375 C 5.609375 -5.414062 5.484375 -5.671875 5.328125 -5.859375 C 5.179688 -6.054688 5.007812 -6.195312 4.8125 -6.28125 C 4.625 -6.363281 4.429688 -6.40625 4.234375 -6.40625 C 3.984375 -6.40625 3.757812 -6.351562 3.5625 -6.25 C 3.363281 -6.15625 3.195312 -6.003906 3.0625 -5.796875 C 2.925781 -5.585938 2.820312 -5.320312 2.75 -5 C 2.6875 -4.6875 2.65625 -4.3125 2.65625 -3.875 C 2.65625 -3.050781 2.785156 -2.429688 3.046875 -2.015625 C 3.304688 -1.597656 3.695312 -1.390625 4.21875 -1.390625 C 4.414062 -1.390625 4.609375 -1.425781 4.796875 -1.5 C 4.992188 -1.582031 5.171875 -1.71875 5.328125 -1.90625 C 5.484375 -2.101562 5.609375 -2.363281 5.703125 -2.6875 C 5.796875 -3.007812 5.84375 -3.414062 5.84375 -3.90625 Z M 5.84375 -3.90625 \"/>\n",
       "</symbol>\n",
       "<symbol overflow=\"visible\" id=\"glyph2-19\">\n",
       "<path style=\"stroke:none;\" d=\"M 0.5 0 L 0.5 -1.375 C 0.726562 -1.863281 1.003906 -2.304688 1.328125 -2.703125 C 1.648438 -3.097656 1.988281 -3.460938 2.34375 -3.796875 C 2.695312 -4.128906 3.046875 -4.4375 3.390625 -4.71875 C 3.742188 -5 4.054688 -5.269531 4.328125 -5.53125 C 4.609375 -5.800781 4.835938 -6.066406 5.015625 -6.328125 C 5.191406 -6.597656 5.28125 -6.882812 5.28125 -7.1875 C 5.28125 -7.625 5.164062 -7.945312 4.9375 -8.15625 C 4.71875 -8.375 4.394531 -8.484375 3.96875 -8.484375 C 3.550781 -8.484375 3.226562 -8.367188 3 -8.140625 C 2.78125 -7.910156 2.640625 -7.570312 2.578125 -7.125 L 0.578125 -7.234375 C 0.628906 -7.617188 0.726562 -7.984375 0.875 -8.328125 C 1.019531 -8.671875 1.226562 -8.96875 1.5 -9.21875 C 1.769531 -9.476562 2.101562 -9.679688 2.5 -9.828125 C 2.90625 -9.984375 3.390625 -10.0625 3.953125 -10.0625 C 4.492188 -10.0625 4.96875 -10 5.375 -9.875 C 5.789062 -9.75 6.140625 -9.566406 6.421875 -9.328125 C 6.703125 -9.085938 6.914062 -8.796875 7.0625 -8.453125 C 7.207031 -8.109375 7.28125 -7.71875 7.28125 -7.28125 C 7.28125 -6.8125 7.1875 -6.390625 7 -6.015625 C 6.820312 -5.640625 6.585938 -5.289062 6.296875 -4.96875 C 6.015625 -4.65625 5.695312 -4.359375 5.34375 -4.078125 C 5 -3.804688 4.660156 -3.539062 4.328125 -3.28125 C 4.003906 -3.019531 3.707031 -2.753906 3.4375 -2.484375 C 3.164062 -2.210938 2.960938 -1.925781 2.828125 -1.625 L 7.4375 -1.625 L 7.4375 0 Z M 0.5 0 \"/>\n",
       "</symbol>\n",
       "<symbol overflow=\"visible\" id=\"glyph2-20\">\n",
       "<path style=\"stroke:none;\" d=\"M 7.8125 -2.890625 C 7.8125 -2.492188 7.742188 -2.132812 7.609375 -1.8125 C 7.484375 -1.488281 7.28125 -1.207031 7 -0.96875 C 6.726562 -0.726562 6.378906 -0.539062 5.953125 -0.40625 C 5.523438 -0.269531 5.015625 -0.1875 4.421875 -0.15625 L 4.421875 1.0625 L 3.65625 1.0625 L 3.65625 -0.140625 C 3.125 -0.160156 2.660156 -0.234375 2.265625 -0.359375 C 1.867188 -0.484375 1.53125 -0.660156 1.25 -0.890625 C 0.96875 -1.117188 0.738281 -1.398438 0.5625 -1.734375 C 0.394531 -2.066406 0.269531 -2.445312 0.1875 -2.875 L 1.984375 -3.203125 C 2.023438 -2.972656 2.082031 -2.765625 2.15625 -2.578125 C 2.226562 -2.398438 2.328125 -2.242188 2.453125 -2.109375 C 2.578125 -1.972656 2.738281 -1.859375 2.9375 -1.765625 C 3.132812 -1.679688 3.375 -1.625 3.65625 -1.59375 L 3.65625 -4.34375 C 3.644531 -4.351562 3.609375 -4.363281 3.546875 -4.375 C 3.492188 -4.382812 3.457031 -4.390625 3.4375 -4.390625 C 3.070312 -4.472656 2.710938 -4.578125 2.359375 -4.703125 C 2.015625 -4.828125 1.703125 -4.992188 1.421875 -5.203125 C 1.148438 -5.421875 0.925781 -5.691406 0.75 -6.015625 C 0.582031 -6.347656 0.5 -6.757812 0.5 -7.25 C 0.5 -7.675781 0.578125 -8.039062 0.734375 -8.34375 C 0.890625 -8.65625 1.109375 -8.910156 1.390625 -9.109375 C 1.671875 -9.304688 2.003906 -9.457031 2.390625 -9.5625 C 2.773438 -9.664062 3.195312 -9.726562 3.65625 -9.75 L 3.65625 -10.6875 L 4.421875 -10.6875 L 4.421875 -9.75 C 4.921875 -9.726562 5.347656 -9.660156 5.703125 -9.546875 C 6.054688 -9.441406 6.351562 -9.285156 6.59375 -9.078125 C 6.84375 -8.867188 7.039062 -8.613281 7.1875 -8.3125 C 7.34375 -8.019531 7.46875 -7.675781 7.5625 -7.28125 L 5.703125 -7.015625 C 5.628906 -7.421875 5.488281 -7.734375 5.28125 -7.953125 C 5.082031 -8.179688 4.796875 -8.320312 4.421875 -8.375 L 4.421875 -5.890625 C 4.441406 -5.878906 4.460938 -5.875 4.484375 -5.875 C 4.515625 -5.875 4.546875 -5.867188 4.578125 -5.859375 C 4.984375 -5.765625 5.378906 -5.65625 5.765625 -5.53125 C 6.148438 -5.40625 6.492188 -5.234375 6.796875 -5.015625 C 7.097656 -4.804688 7.34375 -4.53125 7.53125 -4.1875 C 7.71875 -3.84375 7.8125 -3.410156 7.8125 -2.890625 Z M 3.65625 -8.40625 C 3.40625 -8.382812 3.195312 -8.335938 3.03125 -8.265625 C 2.863281 -8.203125 2.726562 -8.117188 2.625 -8.015625 C 2.519531 -7.921875 2.445312 -7.804688 2.40625 -7.671875 C 2.363281 -7.546875 2.34375 -7.414062 2.34375 -7.28125 C 2.34375 -7.070312 2.375 -6.898438 2.4375 -6.765625 C 2.507812 -6.640625 2.601562 -6.535156 2.71875 -6.453125 C 2.832031 -6.367188 2.96875 -6.296875 3.125 -6.234375 C 3.289062 -6.179688 3.46875 -6.125 3.65625 -6.0625 Z M 5.984375 -2.875 C 5.984375 -3.101562 5.941406 -3.285156 5.859375 -3.421875 C 5.773438 -3.566406 5.660156 -3.679688 5.515625 -3.765625 C 5.378906 -3.859375 5.21875 -3.9375 5.03125 -4 C 4.84375 -4.0625 4.640625 -4.117188 4.421875 -4.171875 L 4.421875 -1.59375 C 4.921875 -1.625 5.304688 -1.738281 5.578125 -1.9375 C 5.847656 -2.144531 5.984375 -2.457031 5.984375 -2.875 Z M 5.984375 -2.875 \"/>\n",
       "</symbol>\n",
       "<symbol overflow=\"visible\" id=\"glyph2-21\">\n",
       "<path style=\"stroke:none;\" d=\"M 1 0 L 1 -5.828125 C 1 -5.992188 1 -6.164062 1 -6.34375 C 1 -6.53125 0.992188 -6.707031 0.984375 -6.875 C 0.984375 -7.039062 0.976562 -7.1875 0.96875 -7.3125 C 0.96875 -7.445312 0.960938 -7.546875 0.953125 -7.609375 L 2.828125 -7.609375 C 2.835938 -7.554688 2.847656 -7.457031 2.859375 -7.3125 C 2.867188 -7.175781 2.878906 -7.023438 2.890625 -6.859375 C 2.898438 -6.703125 2.90625 -6.539062 2.90625 -6.375 C 2.914062 -6.21875 2.921875 -6.085938 2.921875 -5.984375 L 2.953125 -5.984375 C 3.054688 -6.265625 3.15625 -6.515625 3.25 -6.734375 C 3.34375 -6.953125 3.457031 -7.132812 3.59375 -7.28125 C 3.726562 -7.4375 3.890625 -7.554688 4.078125 -7.640625 C 4.265625 -7.722656 4.5 -7.765625 4.78125 -7.765625 C 4.894531 -7.765625 5.007812 -7.753906 5.125 -7.734375 C 5.238281 -7.710938 5.328125 -7.6875 5.390625 -7.65625 L 5.390625 -6 C 5.265625 -6.03125 5.132812 -6.054688 5 -6.078125 C 4.875 -6.097656 4.722656 -6.109375 4.546875 -6.109375 C 4.054688 -6.109375 3.671875 -5.90625 3.390625 -5.5 C 3.117188 -5.101562 2.984375 -4.515625 2.984375 -3.734375 L 2.984375 0 Z M 1 0 \"/>\n",
       "</symbol>\n",
       "<symbol overflow=\"visible\" id=\"glyph2-22\">\n",
       "<path style=\"stroke:none;\" d=\"M 0.015625 2.984375 C 0.390625 2.441406 0.707031 1.90625 0.96875 1.375 C 1.238281 0.84375 1.457031 0.304688 1.625 -0.234375 C 1.800781 -0.773438 1.925781 -1.332031 2 -1.90625 C 2.082031 -2.476562 2.125 -3.085938 2.125 -3.734375 C 2.125 -4.359375 2.082031 -4.957031 2 -5.53125 C 1.925781 -6.113281 1.800781 -6.675781 1.625 -7.21875 C 1.457031 -7.757812 1.238281 -8.296875 0.96875 -8.828125 C 0.707031 -9.359375 0.390625 -9.894531 0.015625 -10.4375 L 1.984375 -10.4375 C 2.347656 -9.914062 2.660156 -9.398438 2.921875 -8.890625 C 3.179688 -8.378906 3.394531 -7.851562 3.5625 -7.3125 C 3.738281 -6.769531 3.867188 -6.203125 3.953125 -5.609375 C 4.035156 -5.023438 4.078125 -4.398438 4.078125 -3.734375 C 4.078125 -3.066406 4.035156 -2.4375 3.953125 -1.84375 C 3.867188 -1.257812 3.738281 -0.695312 3.5625 -0.15625 C 3.394531 0.382812 3.179688 0.910156 2.921875 1.421875 C 2.660156 1.941406 2.347656 2.460938 1.984375 2.984375 Z M 0.015625 2.984375 \"/>\n",
       "</symbol>\n",
       "</g>\n",
       "<clipPath id=\"clip1\">\n",
       "  <path d=\"M 59.039062 208 L 329.757812 208 L 329.757812 209 L 59.039062 209 Z M 59.039062 208 \"/>\n",
       "</clipPath>\n",
       "</defs>\n",
       "<g id=\"surface150\">\n",
       "<rect x=\"0\" y=\"0\" width=\"360\" height=\"288\" style=\"fill:rgb(100%,100%,100%);fill-opacity:1;stroke:none;\"/>\n",
       "<path style=\"fill:none;stroke-width:0.75;stroke-linecap:round;stroke-linejoin:round;stroke:rgb(0%,0%,0%);stroke-opacity:1;stroke-miterlimit:10;\" d=\"M 69.066406 208.59375 L 69.558594 208.503906 L 70.046875 208.386719 L 70.539062 208.222656 L 71.027344 208.011719 L 71.519531 207.734375 L 72.011719 207.378906 L 72.5 206.921875 L 72.992188 206.332031 L 73.480469 205.597656 L 73.972656 204.691406 L 74.460938 203.597656 L 74.953125 202.289062 L 75.445312 200.742188 L 75.933594 198.9375 L 76.425781 196.855469 L 76.914062 194.445312 L 77.40625 191.722656 L 77.894531 188.691406 L 78.386719 185.359375 L 78.878906 181.742188 L 79.367188 177.851562 L 79.859375 173.71875 L 80.347656 169.371094 L 80.839844 164.835938 L 81.332031 160.164062 L 81.820312 155.417969 L 82.3125 150.640625 L 82.800781 145.875 L 83.292969 141.167969 L 83.78125 136.558594 L 84.273438 132.082031 L 84.765625 127.769531 L 85.253906 123.675781 L 85.746094 119.796875 L 86.234375 116.140625 L 86.726562 112.710938 L 87.214844 109.511719 L 87.707031 106.539062 L 88.199219 103.785156 L 88.6875 101.238281 L 89.179688 98.90625 L 89.667969 96.753906 L 90.160156 94.753906 L 90.652344 92.890625 L 91.140625 91.148438 L 91.632812 89.507812 L 92.121094 87.953125 L 92.613281 86.472656 L 93.101562 85.054688 L 93.59375 83.6875 L 94.085938 82.355469 L 94.574219 81.058594 L 95.066406 79.785156 L 95.554688 78.542969 L 96.046875 77.328125 L 96.535156 76.144531 L 97.027344 74.992188 L 97.519531 73.886719 L 98.007812 72.824219 L 98.5 71.8125 L 98.988281 70.855469 L 99.480469 69.960938 L 99.972656 69.128906 L 100.460938 68.371094 L 100.953125 67.679688 L 101.441406 67.078125 L 101.933594 66.550781 L 102.421875 66.097656 L 102.914062 65.714844 L 103.40625 65.402344 L 103.894531 65.160156 L 104.386719 64.980469 L 104.875 64.863281 L 105.367188 64.804688 L 105.855469 64.800781 L 106.347656 64.839844 L 106.839844 64.917969 L 107.328125 65.035156 L 107.820312 65.183594 L 108.308594 65.359375 L 108.800781 65.566406 L 109.292969 65.796875 L 109.78125 66.050781 L 110.273438 66.328125 L 110.761719 66.625 L 111.253906 66.941406 L 111.742188 67.277344 L 112.234375 67.632812 L 112.726562 68.003906 L 113.214844 68.398438 L 113.707031 68.816406 L 114.195312 69.25 L 114.6875 69.703125 L 115.175781 70.175781 L 115.667969 70.667969 L 116.160156 71.171875 L 116.648438 71.695312 L 117.140625 72.230469 L 117.628906 72.78125 L 118.121094 73.335938 L 118.613281 73.898438 L 119.101562 74.464844 L 119.59375 75.03125 L 120.082031 75.597656 L 120.574219 76.15625 L 121.0625 76.710938 L 121.554688 77.253906 L 122.046875 77.785156 L 122.535156 78.304688 L 123.027344 78.816406 L 123.515625 79.3125 L 124.007812 79.796875 L 124.496094 80.273438 L 124.988281 80.734375 L 125.480469 81.191406 L 125.96875 81.640625 L 126.460938 82.082031 L 126.949219 82.519531 L 127.441406 82.960938 L 127.929688 83.398438 L 128.421875 83.839844 L 128.914062 84.285156 L 129.402344 84.738281 L 129.894531 85.199219 L 130.382812 85.671875 L 130.875 86.152344 L 131.367188 86.644531 L 131.855469 87.144531 L 132.347656 87.65625 L 132.835938 88.175781 L 133.328125 88.707031 L 133.816406 89.242188 L 134.308594 89.78125 L 134.800781 90.324219 L 135.289062 90.863281 L 135.78125 91.402344 L 136.269531 91.9375 L 136.761719 92.46875 L 137.25 92.992188 L 137.742188 93.503906 L 138.234375 94.011719 L 138.722656 94.507812 L 139.214844 94.996094 L 139.703125 95.480469 L 140.195312 95.960938 L 140.6875 96.4375 L 141.175781 96.914062 L 141.667969 97.390625 L 142.15625 97.878906 L 142.648438 98.375 L 143.136719 98.882812 L 143.628906 99.410156 L 144.121094 99.953125 L 144.609375 100.515625 L 145.101562 101.105469 L 145.589844 101.722656 L 146.082031 102.371094 L 146.570312 103.046875 L 147.0625 103.753906 L 147.554688 104.492188 L 148.042969 105.253906 L 148.535156 106.046875 L 149.023438 106.859375 L 149.515625 107.695312 L 150.007812 108.550781 L 150.496094 109.417969 L 150.988281 110.292969 L 151.476562 111.171875 L 151.96875 112.046875 L 152.457031 112.914062 L 152.949219 113.765625 L 153.441406 114.605469 L 153.929688 115.417969 L 154.421875 116.199219 L 154.910156 116.953125 L 155.402344 117.671875 L 155.890625 118.351562 L 156.382812 118.996094 L 156.875 119.605469 L 157.363281 120.175781 L 157.855469 120.710938 L 158.34375 121.210938 L 158.835938 121.683594 L 159.328125 122.136719 L 159.816406 122.578125 L 160.308594 123.007812 L 160.796875 123.4375 L 161.289062 123.875 L 161.777344 124.324219 L 162.269531 124.796875 L 162.761719 125.296875 L 163.25 125.828125 L 163.742188 126.390625 L 164.230469 126.992188 L 164.722656 127.628906 L 165.210938 128.304688 L 165.703125 129.011719 L 166.195312 129.753906 L 166.683594 130.53125 L 167.175781 131.328125 L 167.664062 132.152344 L 168.15625 132.996094 L 168.648438 133.855469 L 169.136719 134.726562 L 169.628906 135.613281 L 170.117188 136.507812 L 170.609375 137.414062 L 171.097656 138.328125 L 171.589844 139.25 L 172.082031 140.175781 L 172.570312 141.105469 L 173.0625 142.035156 L 173.550781 142.964844 L 174.042969 143.890625 L 174.53125 144.808594 L 175.023438 145.71875 L 175.515625 146.613281 L 176.003906 147.496094 L 176.496094 148.355469 L 176.984375 149.199219 L 177.476562 150.019531 L 177.96875 150.820312 L 178.457031 151.597656 L 178.949219 152.355469 L 179.4375 153.09375 L 179.929688 153.816406 L 180.417969 154.527344 L 180.910156 155.230469 L 181.402344 155.925781 L 181.890625 156.613281 L 182.382812 157.300781 L 182.871094 157.988281 L 183.363281 158.675781 L 183.851562 159.359375 L 184.34375 160.042969 L 184.835938 160.722656 L 185.324219 161.398438 L 185.816406 162.066406 L 186.304688 162.722656 L 186.796875 163.363281 L 187.289062 163.988281 L 187.777344 164.59375 L 188.269531 165.179688 L 188.757812 165.746094 L 189.25 166.292969 L 189.738281 166.824219 L 190.230469 167.335938 L 190.722656 167.835938 L 191.210938 168.324219 L 191.703125 168.808594 L 192.191406 169.292969 L 192.683594 169.777344 L 193.171875 170.273438 L 193.664062 170.773438 L 194.15625 171.292969 L 194.644531 171.828125 L 195.136719 172.378906 L 195.625 172.953125 L 196.117188 173.542969 L 196.609375 174.152344 L 197.097656 174.777344 L 197.589844 175.414062 L 198.078125 176.0625 L 198.570312 176.71875 L 199.058594 177.378906 L 199.550781 178.035156 L 200.042969 178.683594 L 200.53125 179.324219 L 201.023438 179.953125 L 201.511719 180.566406 L 202.003906 181.15625 L 202.492188 181.726562 L 202.984375 182.269531 L 203.476562 182.785156 L 203.964844 183.273438 L 204.457031 183.734375 L 204.945312 184.167969 L 205.4375 184.570312 L 205.925781 184.949219 L 206.417969 185.300781 L 206.910156 185.625 L 207.398438 185.925781 L 207.890625 186.207031 L 208.378906 186.476562 L 208.871094 186.730469 L 209.363281 186.972656 L 209.851562 187.210938 L 210.34375 187.445312 L 210.832031 187.683594 L 211.324219 187.921875 L 211.8125 188.167969 L 212.304688 188.421875 L 212.796875 188.6875 L 213.285156 188.960938 L 213.777344 189.242188 L 214.265625 189.535156 L 214.757812 189.835938 L 215.246094 190.144531 L 215.738281 190.460938 L 216.230469 190.773438 L 216.71875 191.089844 L 217.210938 191.402344 L 217.699219 191.707031 L 218.191406 192.007812 L 218.683594 192.300781 L 219.171875 192.582031 L 219.664062 192.851562 L 220.152344 193.109375 L 220.644531 193.355469 L 221.132812 193.589844 L 221.625 193.8125 L 222.117188 194.027344 L 222.605469 194.230469 L 223.097656 194.425781 L 223.585938 194.613281 L 224.078125 194.792969 L 224.566406 194.96875 L 225.058594 195.140625 L 225.550781 195.308594 L 226.039062 195.476562 L 226.53125 195.640625 L 227.019531 195.804688 L 228.003906 196.132812 L 228.492188 196.300781 L 228.984375 196.472656 L 229.472656 196.648438 L 229.964844 196.832031 L 230.453125 197.019531 L 230.945312 197.210938 L 231.4375 197.414062 L 231.925781 197.621094 L 232.417969 197.835938 L 232.90625 198.058594 L 233.398438 198.285156 L 233.886719 198.515625 L 234.871094 198.984375 L 235.359375 199.21875 L 235.851562 199.449219 L 236.339844 199.679688 L 236.832031 199.898438 L 237.324219 200.113281 L 237.8125 200.316406 L 238.304688 200.507812 L 238.792969 200.6875 L 239.285156 200.855469 L 239.773438 201.011719 L 240.265625 201.15625 L 240.757812 201.292969 L 241.246094 201.417969 L 241.738281 201.535156 L 242.226562 201.648438 L 242.71875 201.757812 L 243.207031 201.863281 L 243.699219 201.964844 L 244.191406 202.070312 L 244.679688 202.175781 L 245.171875 202.28125 L 245.660156 202.390625 L 246.152344 202.5 L 246.644531 202.613281 L 247.132812 202.722656 L 247.625 202.835938 L 248.113281 202.949219 L 248.605469 203.058594 L 249.09375 203.167969 L 250.078125 203.378906 L 250.566406 203.484375 L 251.058594 203.585938 L 251.546875 203.6875 L 252.039062 203.785156 L 252.527344 203.882812 L 253.019531 203.984375 L 253.511719 204.082031 L 254 204.179688 L 254.492188 204.277344 L 254.980469 204.378906 L 255.964844 204.582031 L 256.453125 204.683594 L 256.945312 204.785156 L 257.433594 204.890625 L 257.925781 204.996094 L 258.414062 205.101562 L 258.90625 205.203125 L 259.398438 205.308594 L 259.886719 205.414062 L 260.378906 205.519531 L 260.867188 205.625 L 261.359375 205.726562 L 261.847656 205.828125 L 262.832031 206.023438 L 263.320312 206.113281 L 263.8125 206.203125 L 264.300781 206.285156 L 264.792969 206.363281 L 265.285156 206.4375 L 265.773438 206.507812 L 266.265625 206.570312 L 266.753906 206.628906 L 267.246094 206.679688 L 267.734375 206.730469 L 268.226562 206.773438 L 268.71875 206.8125 L 269.207031 206.851562 L 269.699219 206.886719 L 270.1875 206.917969 L 270.679688 206.949219 L 271.167969 206.980469 L 272.152344 207.035156 L 272.640625 207.0625 L 273.132812 207.089844 L 273.621094 207.117188 L 274.113281 207.144531 L 274.605469 207.175781 L 275.09375 207.207031 L 275.585938 207.238281 L 276.074219 207.273438 L 276.566406 207.308594 L 277.054688 207.34375 L 278.039062 207.414062 L 278.527344 207.449219 L 279.019531 207.484375 L 279.507812 207.515625 L 280 207.546875 L 280.488281 207.570312 L 280.980469 207.59375 L 281.472656 207.613281 L 281.960938 207.625 L 282.453125 207.636719 L 282.941406 207.640625 L 283.433594 207.644531 L 283.921875 207.640625 L 284.414062 207.636719 L 284.90625 207.628906 L 285.394531 207.617188 L 285.886719 207.605469 L 286.375 207.59375 L 287.359375 207.570312 L 287.847656 207.558594 L 288.339844 207.546875 L 288.828125 207.542969 L 289.320312 207.535156 L 289.808594 207.535156 L 290.792969 207.542969 L 291.28125 207.554688 L 291.773438 207.566406 L 292.261719 207.585938 L 292.753906 207.609375 L 293.242188 207.632812 L 294.226562 207.695312 L 294.714844 207.730469 L 295.207031 207.765625 L 295.695312 207.804688 L 296.679688 207.882812 L 297.167969 207.921875 L 297.660156 207.964844 L 298.148438 208.003906 L 298.640625 208.042969 L 299.128906 208.082031 L 300.113281 208.160156 L 300.601562 208.199219 L 301.09375 208.234375 L 301.582031 208.269531 L 302.074219 208.304688 L 302.5625 208.339844 L 303.546875 208.402344 L 304.035156 208.433594 L 304.527344 208.460938 L 305.015625 208.492188 L 305.507812 208.515625 L 306 208.542969 L 306.488281 208.566406 L 306.980469 208.589844 L 307.46875 208.609375 L 307.960938 208.628906 L 308.449219 208.648438 L 308.941406 208.667969 L 309.433594 208.683594 L 309.921875 208.695312 L 310.414062 208.710938 L 310.902344 208.722656 L 311.394531 208.734375 L 311.882812 208.746094 L 312.867188 208.761719 L 313.355469 208.769531 L 313.847656 208.773438 L 314.335938 208.78125 L 315.320312 208.789062 L 315.808594 208.789062 L 316.300781 208.792969 L 316.789062 208.792969 L 317.28125 208.796875 L 318.261719 208.796875 L 318.753906 208.800781 L 319.734375 208.800781 \"/>\n",
       "<path style=\"fill:none;stroke-width:0.75;stroke-linecap:round;stroke-linejoin:round;stroke:rgb(0%,0%,0%);stroke-opacity:1;stroke-miterlimit:10;\" d=\"M 104.011719 214.558594 L 318.625 214.558594 \"/>\n",
       "<path style=\"fill:none;stroke-width:0.75;stroke-linecap:round;stroke-linejoin:round;stroke:rgb(0%,0%,0%);stroke-opacity:1;stroke-miterlimit:10;\" d=\"M 104.011719 214.558594 L 104.011719 221.761719 \"/>\n",
       "<path style=\"fill:none;stroke-width:0.75;stroke-linecap:round;stroke-linejoin:round;stroke:rgb(0%,0%,0%);stroke-opacity:1;stroke-miterlimit:10;\" d=\"M 175.550781 214.558594 L 175.550781 221.761719 \"/>\n",
       "<path style=\"fill:none;stroke-width:0.75;stroke-linecap:round;stroke-linejoin:round;stroke:rgb(0%,0%,0%);stroke-opacity:1;stroke-miterlimit:10;\" d=\"M 247.089844 214.558594 L 247.089844 221.761719 \"/>\n",
       "<path style=\"fill:none;stroke-width:0.75;stroke-linecap:round;stroke-linejoin:round;stroke:rgb(0%,0%,0%);stroke-opacity:1;stroke-miterlimit:10;\" d=\"M 318.625 214.558594 L 318.625 221.761719 \"/>\n",
       "<g style=\"fill:rgb(0%,0%,0%);fill-opacity:1;\">\n",
       "  <use xlink:href=\"#glyph0-1\" x=\"100.511719\" y=\"240.34375\"/>\n",
       "</g>\n",
       "<g style=\"fill:rgb(0%,0%,0%);fill-opacity:1;\">\n",
       "  <use xlink:href=\"#glyph0-2\" x=\"168.550781\" y=\"240.34375\"/>\n",
       "  <use xlink:href=\"#glyph0-3\" x=\"175.550781\" y=\"240.34375\"/>\n",
       "</g>\n",
       "<g style=\"fill:rgb(0%,0%,0%);fill-opacity:1;\">\n",
       "  <use xlink:href=\"#glyph0-2\" x=\"240.089844\" y=\"240.34375\"/>\n",
       "  <use xlink:href=\"#glyph0-1\" x=\"247.089844\" y=\"240.34375\"/>\n",
       "</g>\n",
       "<g style=\"fill:rgb(0%,0%,0%);fill-opacity:1;\">\n",
       "  <use xlink:href=\"#glyph0-4\" x=\"311.625\" y=\"240.34375\"/>\n",
       "  <use xlink:href=\"#glyph0-3\" x=\"318.625\" y=\"240.34375\"/>\n",
       "</g>\n",
       "<path style=\"fill:none;stroke-width:0.75;stroke-linecap:round;stroke-linejoin:round;stroke:rgb(0%,0%,0%);stroke-opacity:1;stroke-miterlimit:10;\" d=\"M 59.039062 208.800781 L 59.039062 76.902344 \"/>\n",
       "<path style=\"fill:none;stroke-width:0.75;stroke-linecap:round;stroke-linejoin:round;stroke:rgb(0%,0%,0%);stroke-opacity:1;stroke-miterlimit:10;\" d=\"M 59.039062 208.800781 L 51.839844 208.800781 \"/>\n",
       "<path style=\"fill:none;stroke-width:0.75;stroke-linecap:round;stroke-linejoin:round;stroke:rgb(0%,0%,0%);stroke-opacity:1;stroke-miterlimit:10;\" d=\"M 59.039062 164.835938 L 51.839844 164.835938 \"/>\n",
       "<path style=\"fill:none;stroke-width:0.75;stroke-linecap:round;stroke-linejoin:round;stroke:rgb(0%,0%,0%);stroke-opacity:1;stroke-miterlimit:10;\" d=\"M 59.039062 120.871094 L 51.839844 120.871094 \"/>\n",
       "<path style=\"fill:none;stroke-width:0.75;stroke-linecap:round;stroke-linejoin:round;stroke:rgb(0%,0%,0%);stroke-opacity:1;stroke-miterlimit:10;\" d=\"M 59.039062 76.902344 L 51.839844 76.902344 \"/>\n",
       "<g style=\"fill:rgb(0%,0%,0%);fill-opacity:1;\">\n",
       "  <use xlink:href=\"#glyph1-1\" x=\"41.625\" y=\"220.800781\"/>\n",
       "  <use xlink:href=\"#glyph1-2\" x=\"41.625\" y=\"213.800781\"/>\n",
       "  <use xlink:href=\"#glyph1-1\" x=\"41.625\" y=\"210.800781\"/>\n",
       "  <use xlink:href=\"#glyph1-1\" x=\"41.625\" y=\"203.800781\"/>\n",
       "</g>\n",
       "<g style=\"fill:rgb(0%,0%,0%);fill-opacity:1;\">\n",
       "  <use xlink:href=\"#glyph1-1\" x=\"41.625\" y=\"176.835938\"/>\n",
       "  <use xlink:href=\"#glyph1-2\" x=\"41.625\" y=\"169.835938\"/>\n",
       "  <use xlink:href=\"#glyph1-1\" x=\"41.625\" y=\"166.835938\"/>\n",
       "  <use xlink:href=\"#glyph1-3\" x=\"41.625\" y=\"159.835938\"/>\n",
       "</g>\n",
       "<g style=\"fill:rgb(0%,0%,0%);fill-opacity:1;\">\n",
       "  <use xlink:href=\"#glyph1-1\" x=\"41.625\" y=\"132.871094\"/>\n",
       "  <use xlink:href=\"#glyph1-2\" x=\"41.625\" y=\"125.871094\"/>\n",
       "  <use xlink:href=\"#glyph1-4\" x=\"41.625\" y=\"122.871094\"/>\n",
       "  <use xlink:href=\"#glyph1-1\" x=\"41.625\" y=\"115.871094\"/>\n",
       "</g>\n",
       "<g style=\"fill:rgb(0%,0%,0%);fill-opacity:1;\">\n",
       "  <use xlink:href=\"#glyph1-1\" x=\"41.625\" y=\"88.902344\"/>\n",
       "  <use xlink:href=\"#glyph1-2\" x=\"41.625\" y=\"81.902344\"/>\n",
       "  <use xlink:href=\"#glyph1-4\" x=\"41.625\" y=\"78.902344\"/>\n",
       "  <use xlink:href=\"#glyph1-3\" x=\"41.625\" y=\"71.902344\"/>\n",
       "</g>\n",
       "<path style=\"fill:none;stroke-width:0.75;stroke-linecap:round;stroke-linejoin:round;stroke:rgb(0%,0%,0%);stroke-opacity:1;stroke-miterlimit:10;\" d=\"M 59.039062 214.558594 L 329.761719 214.558594 L 329.761719 59.039062 L 59.039062 59.039062 Z M 59.039062 214.558594 \"/>\n",
       "<g style=\"fill:rgb(0%,0%,0%);fill-opacity:1;\">\n",
       "  <use xlink:href=\"#glyph2-1\" x=\"85.898438\" y=\"33.554688\"/>\n",
       "  <use xlink:href=\"#glyph2-2\" x=\"94.898438\" y=\"33.554688\"/>\n",
       "  <use xlink:href=\"#glyph2-3\" x=\"102.898438\" y=\"33.554688\"/>\n",
       "  <use xlink:href=\"#glyph2-4\" x=\"111.898438\" y=\"33.554688\"/>\n",
       "  <use xlink:href=\"#glyph2-5\" x=\"119.898438\" y=\"33.554688\"/>\n",
       "  <use xlink:href=\"#glyph2-6\" x=\"123.898438\" y=\"33.554688\"/>\n",
       "  <use xlink:href=\"#glyph2-7\" x=\"128.898438\" y=\"33.554688\"/>\n",
       "  <use xlink:href=\"#glyph2-8\" x=\"135.898438\" y=\"33.554688\"/>\n",
       "  <use xlink:href=\"#glyph2-1\" x=\"139.898438\" y=\"33.554688\"/>\n",
       "  <use xlink:href=\"#glyph2-2\" x=\"148.898438\" y=\"33.554688\"/>\n",
       "  <use xlink:href=\"#glyph2-9\" x=\"156.898438\" y=\"33.554688\"/>\n",
       "  <use xlink:href=\"#glyph2-10\" x=\"161.898438\" y=\"33.554688\"/>\n",
       "  <use xlink:href=\"#glyph2-11\" x=\"169.898438\" y=\"33.554688\"/>\n",
       "  <use xlink:href=\"#glyph2-12\" x=\"178.898438\" y=\"33.554688\"/>\n",
       "  <use xlink:href=\"#glyph2-6\" x=\"182.898438\" y=\"33.554688\"/>\n",
       "  <use xlink:href=\"#glyph2-13\" x=\"187.898438\" y=\"33.554688\"/>\n",
       "  <use xlink:href=\"#glyph2-14\" x=\"192.898438\" y=\"33.554688\"/>\n",
       "  <use xlink:href=\"#glyph2-15\" x=\"200.898438\" y=\"33.554688\"/>\n",
       "  <use xlink:href=\"#glyph2-16\" x=\"204.898438\" y=\"33.554688\"/>\n",
       "  <use xlink:href=\"#glyph2-15\" x=\"212.898438\" y=\"33.554688\"/>\n",
       "  <use xlink:href=\"#glyph2-12\" x=\"216.898438\" y=\"33.554688\"/>\n",
       "  <use xlink:href=\"#glyph2-17\" x=\"220.898438\" y=\"33.554688\"/>\n",
       "  <use xlink:href=\"#glyph2-18\" x=\"229.898438\" y=\"33.554688\"/>\n",
       "  <use xlink:href=\"#glyph2-19\" x=\"238.898438\" y=\"33.554688\"/>\n",
       "  <use xlink:href=\"#glyph2-13\" x=\"246.898438\" y=\"33.554688\"/>\n",
       "  <use xlink:href=\"#glyph2-9\" x=\"251.898438\" y=\"33.554688\"/>\n",
       "  <use xlink:href=\"#glyph2-6\" x=\"256.898438\" y=\"33.554688\"/>\n",
       "  <use xlink:href=\"#glyph2-20\" x=\"261.898438\" y=\"33.554688\"/>\n",
       "  <use xlink:href=\"#glyph2-4\" x=\"269.898438\" y=\"33.554688\"/>\n",
       "  <use xlink:href=\"#glyph2-3\" x=\"277.898438\" y=\"33.554688\"/>\n",
       "  <use xlink:href=\"#glyph2-21\" x=\"286.898438\" y=\"33.554688\"/>\n",
       "  <use xlink:href=\"#glyph2-22\" x=\"292.898438\" y=\"33.554688\"/>\n",
       "  <use xlink:href=\"#glyph2-22\" x=\"297.898438\" y=\"33.554688\"/>\n",
       "</g>\n",
       "<g style=\"fill:rgb(0%,0%,0%);fill-opacity:1;\">\n",
       "  <use xlink:href=\"#glyph0-5\" x=\"106.898438\" y=\"269.144531\"/>\n",
       "  <use xlink:href=\"#glyph0-6\" x=\"115.898438\" y=\"269.144531\"/>\n",
       "  <use xlink:href=\"#glyph0-7\" x=\"118.898438\" y=\"269.144531\"/>\n",
       "  <use xlink:href=\"#glyph0-6\" x=\"125.898438\" y=\"269.144531\"/>\n",
       "  <use xlink:href=\"#glyph0-8\" x=\"128.898438\" y=\"269.144531\"/>\n",
       "  <use xlink:href=\"#glyph0-2\" x=\"135.898438\" y=\"269.144531\"/>\n",
       "  <use xlink:href=\"#glyph0-4\" x=\"142.898438\" y=\"269.144531\"/>\n",
       "  <use xlink:href=\"#glyph0-9\" x=\"149.898438\" y=\"269.144531\"/>\n",
       "  <use xlink:href=\"#glyph0-4\" x=\"156.898438\" y=\"269.144531\"/>\n",
       "  <use xlink:href=\"#glyph0-6\" x=\"163.898438\" y=\"269.144531\"/>\n",
       "  <use xlink:href=\"#glyph0-6\" x=\"166.898438\" y=\"269.144531\"/>\n",
       "  <use xlink:href=\"#glyph0-6\" x=\"169.898438\" y=\"269.144531\"/>\n",
       "  <use xlink:href=\"#glyph0-10\" x=\"172.898438\" y=\"269.144531\"/>\n",
       "  <use xlink:href=\"#glyph0-11\" x=\"180.898438\" y=\"269.144531\"/>\n",
       "  <use xlink:href=\"#glyph0-12\" x=\"187.898438\" y=\"269.144531\"/>\n",
       "  <use xlink:href=\"#glyph0-13\" x=\"194.898438\" y=\"269.144531\"/>\n",
       "  <use xlink:href=\"#glyph0-14\" x=\"201.898438\" y=\"269.144531\"/>\n",
       "  <use xlink:href=\"#glyph0-15\" x=\"210.898438\" y=\"269.144531\"/>\n",
       "  <use xlink:href=\"#glyph0-13\" x=\"213.898438\" y=\"269.144531\"/>\n",
       "  <use xlink:href=\"#glyph0-16\" x=\"220.898438\" y=\"269.144531\"/>\n",
       "  <use xlink:href=\"#glyph0-17\" x=\"223.898438\" y=\"269.144531\"/>\n",
       "  <use xlink:href=\"#glyph0-6\" x=\"230.898438\" y=\"269.144531\"/>\n",
       "  <use xlink:href=\"#glyph0-7\" x=\"233.898438\" y=\"269.144531\"/>\n",
       "  <use xlink:href=\"#glyph0-6\" x=\"240.898438\" y=\"269.144531\"/>\n",
       "  <use xlink:href=\"#glyph0-3\" x=\"243.898438\" y=\"269.144531\"/>\n",
       "  <use xlink:href=\"#glyph0-18\" x=\"250.898438\" y=\"269.144531\"/>\n",
       "  <use xlink:href=\"#glyph0-8\" x=\"253.898438\" y=\"269.144531\"/>\n",
       "  <use xlink:href=\"#glyph0-3\" x=\"260.898438\" y=\"269.144531\"/>\n",
       "  <use xlink:href=\"#glyph0-3\" x=\"267.898438\" y=\"269.144531\"/>\n",
       "  <use xlink:href=\"#glyph0-19\" x=\"274.898438\" y=\"269.144531\"/>\n",
       "</g>\n",
       "<g style=\"fill:rgb(0%,0%,0%);fill-opacity:1;\">\n",
       "  <use xlink:href=\"#glyph1-5\" x=\"12.824219\" y=\"157.300781\"/>\n",
       "  <use xlink:href=\"#glyph1-6\" x=\"12.824219\" y=\"148.300781\"/>\n",
       "  <use xlink:href=\"#glyph1-7\" x=\"12.824219\" y=\"141.300781\"/>\n",
       "  <use xlink:href=\"#glyph1-8\" x=\"12.824219\" y=\"134.300781\"/>\n",
       "  <use xlink:href=\"#glyph1-9\" x=\"12.824219\" y=\"128.300781\"/>\n",
       "  <use xlink:href=\"#glyph1-10\" x=\"12.824219\" y=\"125.300781\"/>\n",
       "  <use xlink:href=\"#glyph1-11\" x=\"12.824219\" y=\"122.300781\"/>\n",
       "</g>\n",
       "<g clip-path=\"url(#clip1)\" clip-rule=\"nonzero\">\n",
       "<path style=\"fill:none;stroke-width:0.075;stroke-linecap:round;stroke-linejoin:round;stroke:rgb(74.509804%,74.509804%,74.509804%);stroke-opacity:1;stroke-miterlimit:10;\" d=\"M 59.039062 208.800781 L 329.761719 208.800781 \"/>\n",
       "</g>\n",
       "</g>\n",
       "</svg>\n"
      ],
      "text/plain": [
       "Plot with title “density.default(x = log2(ft$snr))”"
      ]
     },
     "metadata": {
      "application/pdf": {
       "height": 240,
       "width": 300
      },
      "image/jpeg": {
       "height": 240,
       "width": 300
      },
      "image/png": {
       "height": 240,
       "width": 300
      },
      "image/svg+xml": {
       "height": 240,
       "isolated": true,
       "width": 300
      }
     },
     "output_type": "display_data"
    }
   ],
   "source": [
    "options(repr.plot.width=5, repr.plot.height=4, res=200)\n",
    "plot(density(log2(ft$snr)))"
   ]
  },
  {
   "cell_type": "code",
   "execution_count": 6,
   "id": "760a00d2-80f0-44a2-83bc-3ad7eed483c9",
   "metadata": {},
   "outputs": [
    {
     "data": {
      "text/html": [
       "<style>\n",
       ".list-inline {list-style: none; margin:0; padding: 0}\n",
       ".list-inline>li {display: inline-block}\n",
       ".list-inline>li:not(:last-child)::after {content: \"\\00b7\"; padding: 0 .5ex}\n",
       "</style>\n",
       "<ol class=list-inline><li>16372</li><li>186</li></ol>\n"
      ],
      "text/latex": [
       "\\begin{enumerate*}\n",
       "\\item 16372\n",
       "\\item 186\n",
       "\\end{enumerate*}\n"
      ],
      "text/markdown": [
       "1. 16372\n",
       "2. 186\n",
       "\n",
       "\n"
      ],
      "text/plain": [
       "[1] 16372   186"
      ]
     },
     "metadata": {},
     "output_type": "display_data"
    }
   ],
   "source": [
    "#remove features with snr > 100\n",
    "ft<-ft%>%filter(snr > 100)\n",
    "dim(ft)"
   ]
  },
  {
   "cell_type": "code",
   "execution_count": 9,
   "id": "e241415a-8a70-4fe1-9922-3feabbde0c19",
   "metadata": {},
   "outputs": [
    {
     "data": {
      "text/html": [
       "<table class=\"dataframe\">\n",
       "<caption>A data.frame: 6 × 6</caption>\n",
       "<thead>\n",
       "\t<tr><th></th><th scope=col>SampleType</th><th scope=col>FileName</th><th scope=col>SampleID</th><th scope=col>batch</th><th scope=col>FileNameEdits</th><th scope=col>SampleType2</th></tr>\n",
       "\t<tr><th></th><th scope=col>&lt;chr&gt;</th><th scope=col>&lt;chr&gt;</th><th scope=col>&lt;chr&gt;</th><th scope=col>&lt;chr&gt;</th><th scope=col>&lt;chr&gt;</th><th scope=col>&lt;chr&gt;</th></tr>\n",
       "</thead>\n",
       "<tbody>\n",
       "\t<tr><th scope=row>1</th><td>Blank</td><td>Blank_20221018_001      </td><td>Blank_20221018_001    </td><td>batch1</td><td>batch1_Blank_20221018_001      </td><td>Blank</td></tr>\n",
       "\t<tr><th scope=row>2</th><td>Blank</td><td>Blank_20221018_003      </td><td>Blank_20221018_003    </td><td>batch1</td><td>batch1_Blank_20221018_003      </td><td>Blank</td></tr>\n",
       "\t<tr><th scope=row>3</th><td>Blank</td><td>Blank_std_20221018_1_001</td><td>Blank_std_20221018_001</td><td>batch1</td><td>batch1_Blank_std_20221018_1_001</td><td>Blank</td></tr>\n",
       "\t<tr><th scope=row>4</th><td>QC   </td><td>MT_20221018_001         </td><td>Qstd_20221018_001     </td><td>batch1</td><td>batch1_MT_20221018_001         </td><td>QC   </td></tr>\n",
       "\t<tr><th scope=row>5</th><td>QC   </td><td>MT_20221018_003         </td><td>Qstd_20221018_003     </td><td>batch1</td><td>batch1_MT_20221018_003         </td><td>QC   </td></tr>\n",
       "\t<tr><th scope=row>6</th><td>QC   </td><td>MT_20221018_005         </td><td>Qstd_20221018_005     </td><td>batch1</td><td>batch1_MT_20221018_005         </td><td>QC   </td></tr>\n",
       "</tbody>\n",
       "</table>\n"
      ],
      "text/latex": [
       "A data.frame: 6 × 6\n",
       "\\begin{tabular}{r|llllll}\n",
       "  & SampleType & FileName & SampleID & batch & FileNameEdits & SampleType2\\\\\n",
       "  & <chr> & <chr> & <chr> & <chr> & <chr> & <chr>\\\\\n",
       "\\hline\n",
       "\t1 & Blank & Blank\\_20221018\\_001       & Blank\\_20221018\\_001     & batch1 & batch1\\_Blank\\_20221018\\_001       & Blank\\\\\n",
       "\t2 & Blank & Blank\\_20221018\\_003       & Blank\\_20221018\\_003     & batch1 & batch1\\_Blank\\_20221018\\_003       & Blank\\\\\n",
       "\t3 & Blank & Blank\\_std\\_20221018\\_1\\_001 & Blank\\_std\\_20221018\\_001 & batch1 & batch1\\_Blank\\_std\\_20221018\\_1\\_001 & Blank\\\\\n",
       "\t4 & QC    & MT\\_20221018\\_001          & Qstd\\_20221018\\_001      & batch1 & batch1\\_MT\\_20221018\\_001          & QC   \\\\\n",
       "\t5 & QC    & MT\\_20221018\\_003          & Qstd\\_20221018\\_003      & batch1 & batch1\\_MT\\_20221018\\_003          & QC   \\\\\n",
       "\t6 & QC    & MT\\_20221018\\_005          & Qstd\\_20221018\\_005      & batch1 & batch1\\_MT\\_20221018\\_005          & QC   \\\\\n",
       "\\end{tabular}\n"
      ],
      "text/markdown": [
       "\n",
       "A data.frame: 6 × 6\n",
       "\n",
       "| <!--/--> | SampleType &lt;chr&gt; | FileName &lt;chr&gt; | SampleID &lt;chr&gt; | batch &lt;chr&gt; | FileNameEdits &lt;chr&gt; | SampleType2 &lt;chr&gt; |\n",
       "|---|---|---|---|---|---|---|\n",
       "| 1 | Blank | Blank_20221018_001       | Blank_20221018_001     | batch1 | batch1_Blank_20221018_001       | Blank |\n",
       "| 2 | Blank | Blank_20221018_003       | Blank_20221018_003     | batch1 | batch1_Blank_20221018_003       | Blank |\n",
       "| 3 | Blank | Blank_std_20221018_1_001 | Blank_std_20221018_001 | batch1 | batch1_Blank_std_20221018_1_001 | Blank |\n",
       "| 4 | QC    | MT_20221018_001          | Qstd_20221018_001      | batch1 | batch1_MT_20221018_001          | QC    |\n",
       "| 5 | QC    | MT_20221018_003          | Qstd_20221018_003      | batch1 | batch1_MT_20221018_003          | QC    |\n",
       "| 6 | QC    | MT_20221018_005          | Qstd_20221018_005      | batch1 | batch1_MT_20221018_005          | QC    |\n",
       "\n"
      ],
      "text/plain": [
       "  SampleType FileName                 SampleID               batch \n",
       "1 Blank      Blank_20221018_001       Blank_20221018_001     batch1\n",
       "2 Blank      Blank_20221018_003       Blank_20221018_003     batch1\n",
       "3 Blank      Blank_std_20221018_1_001 Blank_std_20221018_001 batch1\n",
       "4 QC         MT_20221018_001          Qstd_20221018_001      batch1\n",
       "5 QC         MT_20221018_003          Qstd_20221018_003      batch1\n",
       "6 QC         MT_20221018_005          Qstd_20221018_005      batch1\n",
       "  FileNameEdits                   SampleType2\n",
       "1 batch1_Blank_20221018_001       Blank      \n",
       "2 batch1_Blank_20221018_003       Blank      \n",
       "3 batch1_Blank_std_20221018_1_001 Blank      \n",
       "4 batch1_MT_20221018_001          QC         \n",
       "5 batch1_MT_20221018_003          QC         \n",
       "6 batch1_MT_20221018_005          QC         "
      ]
     },
     "metadata": {},
     "output_type": "display_data"
    }
   ],
   "source": [
    "#read metadata \n",
    "metadatafile=\"../TestData/metadata.csv\"\n",
    "metadata_df<-read.table(metadatafile, quote = \"\", sep=\",\", header = TRUE, check.names = FALSE)\n",
    "\n",
    "head(metadata_df)\n",
    "#change the names of the files with sample names \n",
    "#colnames(metadata)"
   ]
  },
  {
   "cell_type": "markdown",
   "id": "6f19c157-a417-4ca9-9b33-dc211ffd2dd1",
   "metadata": {},
   "source": [
    "## Filter features 3x > bg signal \n",
    "- Data is of this format ; Features 2 samples \n",
    "- Contains 0s as returned by asari but functions take care of it when drawing mean by converting them in nas and then taking suym or means"
   ]
  },
  {
   "cell_type": "code",
   "execution_count": 10,
   "id": "c5f14451-3dd0-4fda-8abf-d468b3fbdafe",
   "metadata": {},
   "outputs": [
    {
     "data": {
      "text/html": [
       "<style>\n",
       ".list-inline {list-style: none; margin:0; padding: 0}\n",
       ".list-inline>li {display: inline-block}\n",
       ".list-inline>li:not(:last-child)::after {content: \"\\00b7\"; padding: 0 .5ex}\n",
       "</style>\n",
       "<ol class=list-inline><li>'Blank'</li><li>'QC'</li><li>'NIST'</li><li>'Pooled'</li><li>'Sample'</li></ol>\n"
      ],
      "text/latex": [
       "\\begin{enumerate*}\n",
       "\\item 'Blank'\n",
       "\\item 'QC'\n",
       "\\item 'NIST'\n",
       "\\item 'Pooled'\n",
       "\\item 'Sample'\n",
       "\\end{enumerate*}\n"
      ],
      "text/markdown": [
       "1. 'Blank'\n",
       "2. 'QC'\n",
       "3. 'NIST'\n",
       "4. 'Pooled'\n",
       "5. 'Sample'\n",
       "\n",
       "\n"
      ],
      "text/plain": [
       "[1] \"Blank\"  \"QC\"     \"NIST\"   \"Pooled\" \"Sample\""
      ]
     },
     "metadata": {},
     "output_type": "display_data"
    }
   ],
   "source": [
    "unique(metadata_df$SampleType)"
   ]
  },
  {
   "cell_type": "code",
   "execution_count": 11,
   "id": "2e4fcdf5-7faa-4c4b-b330-1de1b74c0ba4",
   "metadata": {},
   "outputs": [
    {
     "data": {
      "text/html": [
       "<table class=\"dataframe\">\n",
       "<caption>A data.frame: 6 × 8</caption>\n",
       "<thead>\n",
       "\t<tr><th></th><th scope=col>batch1_Blank_20221018_001</th><th scope=col>batch1_Blank_20221018_003</th><th scope=col>batch1_Blank_20221018_005</th><th scope=col>batch1_Blank_std_20221018_1_001</th><th scope=col>batch2_Blank_20221019_001</th><th scope=col>batch2_Blank_20221019_003</th><th scope=col>batch2_Blank_20221019_005</th><th scope=col>batch2_Blank_std_20221019_1_001</th></tr>\n",
       "\t<tr><th></th><th scope=col>&lt;int&gt;</th><th scope=col>&lt;dbl&gt;</th><th scope=col>&lt;int&gt;</th><th scope=col>&lt;dbl&gt;</th><th scope=col>&lt;int&gt;</th><th scope=col>&lt;int&gt;</th><th scope=col>&lt;dbl&gt;</th><th scope=col>&lt;dbl&gt;</th></tr>\n",
       "</thead>\n",
       "<tbody>\n",
       "\t<tr><th scope=row>F7</th><td>     0</td><td>     0</td><td>     0</td><td>    0</td><td>    0</td><td>     0</td><td>     0</td><td>    0</td></tr>\n",
       "\t<tr><th scope=row>F11</th><td>     0</td><td>     0</td><td>     0</td><td>    0</td><td>    0</td><td>329866</td><td>     0</td><td>    0</td></tr>\n",
       "\t<tr><th scope=row>F15</th><td>116514</td><td>170992</td><td> 93020</td><td>61463</td><td>76082</td><td>  7741</td><td> 65736</td><td>19573</td></tr>\n",
       "\t<tr><th scope=row>F20</th><td>     0</td><td>     0</td><td>     0</td><td>    0</td><td>    0</td><td>     0</td><td>     0</td><td>    0</td></tr>\n",
       "\t<tr><th scope=row>F21</th><td>     0</td><td>     0</td><td>335441</td><td>    0</td><td>    0</td><td>     0</td><td>329703</td><td>    0</td></tr>\n",
       "\t<tr><th scope=row>F24</th><td>     0</td><td>     0</td><td>     0</td><td>    0</td><td>    0</td><td>     0</td><td>     0</td><td> 5529</td></tr>\n",
       "</tbody>\n",
       "</table>\n"
      ],
      "text/latex": [
       "A data.frame: 6 × 8\n",
       "\\begin{tabular}{r|llllllll}\n",
       "  & batch1\\_Blank\\_20221018\\_001 & batch1\\_Blank\\_20221018\\_003 & batch1\\_Blank\\_20221018\\_005 & batch1\\_Blank\\_std\\_20221018\\_1\\_001 & batch2\\_Blank\\_20221019\\_001 & batch2\\_Blank\\_20221019\\_003 & batch2\\_Blank\\_20221019\\_005 & batch2\\_Blank\\_std\\_20221019\\_1\\_001\\\\\n",
       "  & <int> & <dbl> & <int> & <dbl> & <int> & <int> & <dbl> & <dbl>\\\\\n",
       "\\hline\n",
       "\tF7 &      0 &      0 &      0 &     0 &     0 &      0 &      0 &     0\\\\\n",
       "\tF11 &      0 &      0 &      0 &     0 &     0 & 329866 &      0 &     0\\\\\n",
       "\tF15 & 116514 & 170992 &  93020 & 61463 & 76082 &   7741 &  65736 & 19573\\\\\n",
       "\tF20 &      0 &      0 &      0 &     0 &     0 &      0 &      0 &     0\\\\\n",
       "\tF21 &      0 &      0 & 335441 &     0 &     0 &      0 & 329703 &     0\\\\\n",
       "\tF24 &      0 &      0 &      0 &     0 &     0 &      0 &      0 &  5529\\\\\n",
       "\\end{tabular}\n"
      ],
      "text/markdown": [
       "\n",
       "A data.frame: 6 × 8\n",
       "\n",
       "| <!--/--> | batch1_Blank_20221018_001 &lt;int&gt; | batch1_Blank_20221018_003 &lt;dbl&gt; | batch1_Blank_20221018_005 &lt;int&gt; | batch1_Blank_std_20221018_1_001 &lt;dbl&gt; | batch2_Blank_20221019_001 &lt;int&gt; | batch2_Blank_20221019_003 &lt;int&gt; | batch2_Blank_20221019_005 &lt;dbl&gt; | batch2_Blank_std_20221019_1_001 &lt;dbl&gt; |\n",
       "|---|---|---|---|---|---|---|---|---|\n",
       "| F7 |      0 |      0 |      0 |     0 |     0 |      0 |      0 |     0 |\n",
       "| F11 |      0 |      0 |      0 |     0 |     0 | 329866 |      0 |     0 |\n",
       "| F15 | 116514 | 170992 |  93020 | 61463 | 76082 |   7741 |  65736 | 19573 |\n",
       "| F20 |      0 |      0 |      0 |     0 |     0 |      0 |      0 |     0 |\n",
       "| F21 |      0 |      0 | 335441 |     0 |     0 |      0 | 329703 |     0 |\n",
       "| F24 |      0 |      0 |      0 |     0 |     0 |      0 |      0 |  5529 |\n",
       "\n"
      ],
      "text/plain": [
       "    batch1_Blank_20221018_001 batch1_Blank_20221018_003\n",
       "F7       0                         0                   \n",
       "F11      0                         0                   \n",
       "F15 116514                    170992                   \n",
       "F20      0                         0                   \n",
       "F21      0                         0                   \n",
       "F24      0                         0                   \n",
       "    batch1_Blank_20221018_005 batch1_Blank_std_20221018_1_001\n",
       "F7       0                        0                          \n",
       "F11      0                        0                          \n",
       "F15  93020                    61463                          \n",
       "F20      0                        0                          \n",
       "F21 335441                        0                          \n",
       "F24      0                        0                          \n",
       "    batch2_Blank_20221019_001 batch2_Blank_20221019_003\n",
       "F7      0                          0                   \n",
       "F11     0                     329866                   \n",
       "F15 76082                       7741                   \n",
       "F20     0                          0                   \n",
       "F21     0                          0                   \n",
       "F24     0                          0                   \n",
       "    batch2_Blank_20221019_005 batch2_Blank_std_20221019_1_001\n",
       "F7       0                        0                          \n",
       "F11      0                        0                          \n",
       "F15  65736                    19573                          \n",
       "F20      0                        0                          \n",
       "F21 329703                        0                          \n",
       "F24      0                     5529                          "
      ]
     },
     "metadata": {},
     "output_type": "display_data"
    },
    {
     "data": {
      "text/html": [
       "<table class=\"dataframe\">\n",
       "<caption>A data.frame: 6 × 166</caption>\n",
       "<thead>\n",
       "\t<tr><th></th><th scope=col>batch1_MT_20221018_147</th><th scope=col>batch1_MT_20221018_001</th><th scope=col>batch1_MT_20221018_003</th><th scope=col>batch1_MT_20221018_005</th><th scope=col>batch1_MT_20221018_007</th><th scope=col>batch1_MT_20221018_009</th><th scope=col>batch1_MT_20221018_011</th><th scope=col>batch1_MT_20221018_013</th><th scope=col>batch1_MT_20221018_015</th><th scope=col>batch1_MT_20221018_017</th><th scope=col>⋯</th><th scope=col>batch2_MT_20221019_151</th><th scope=col>batch2_MT_20221019_153</th><th scope=col>batch2_MT_20221019_155</th><th scope=col>batch2_MT_20221019_157</th><th scope=col>batch2_MT_20221019_159</th><th scope=col>batch2_MT_20221019_161</th><th scope=col>batch2_MT_20221019_163</th><th scope=col>batch2_MT_20221019_165</th><th scope=col>batch2_MT_20221019_167</th><th scope=col>batch2_MT_20221019_169</th></tr>\n",
       "\t<tr><th></th><th scope=col>&lt;dbl&gt;</th><th scope=col>&lt;dbl&gt;</th><th scope=col>&lt;dbl&gt;</th><th scope=col>&lt;dbl&gt;</th><th scope=col>&lt;dbl&gt;</th><th scope=col>&lt;dbl&gt;</th><th scope=col>&lt;dbl&gt;</th><th scope=col>&lt;dbl&gt;</th><th scope=col>&lt;dbl&gt;</th><th scope=col>&lt;dbl&gt;</th><th scope=col>⋯</th><th scope=col>&lt;dbl&gt;</th><th scope=col>&lt;dbl&gt;</th><th scope=col>&lt;dbl&gt;</th><th scope=col>&lt;dbl&gt;</th><th scope=col>&lt;dbl&gt;</th><th scope=col>&lt;dbl&gt;</th><th scope=col>&lt;dbl&gt;</th><th scope=col>&lt;dbl&gt;</th><th scope=col>&lt;dbl&gt;</th><th scope=col>&lt;dbl&gt;</th></tr>\n",
       "</thead>\n",
       "<tbody>\n",
       "\t<tr><th scope=row>F7</th><td>       0</td><td>       0</td><td>       0</td><td>       0</td><td>       0</td><td>       0</td><td>       0</td><td>      0</td><td>      0</td><td>       0</td><td>⋯</td><td>      0</td><td>      0</td><td>13252984</td><td>      0</td><td>      0</td><td>      0</td><td>      0</td><td>13173610</td><td>      0</td><td>       0</td></tr>\n",
       "\t<tr><th scope=row>F11</th><td>       0</td><td>       0</td><td>       0</td><td>       0</td><td>       0</td><td>       0</td><td>       0</td><td>      0</td><td>      0</td><td>       0</td><td>⋯</td><td> 328122</td><td> 157086</td><td>       0</td><td>      0</td><td>      0</td><td>      0</td><td> 113512</td><td>       0</td><td>      0</td><td>       0</td></tr>\n",
       "\t<tr><th scope=row>F15</th><td>11929721</td><td>28310539</td><td>29182687</td><td>28671044</td><td>27361167</td><td>14061539</td><td>15638423</td><td>7708689</td><td>9858212</td><td> 9006167</td><td>⋯</td><td>9416806</td><td>8274997</td><td> 5993130</td><td>6957273</td><td>5869877</td><td>6839305</td><td>3860720</td><td> 5193095</td><td>6759427</td><td>14715891</td></tr>\n",
       "\t<tr><th scope=row>F20</th><td>       0</td><td>       0</td><td>       0</td><td>       0</td><td>       0</td><td>       0</td><td>       0</td><td>      0</td><td>      0</td><td>       0</td><td>⋯</td><td>      0</td><td>      0</td><td>       0</td><td>      0</td><td>      0</td><td>      0</td><td>      0</td><td>       0</td><td>      0</td><td>       0</td></tr>\n",
       "\t<tr><th scope=row>F21</th><td>12434917</td><td>41720312</td><td>41207863</td><td>40622031</td><td>  118428</td><td>12604356</td><td>15438745</td><td>7020187</td><td>7857462</td><td>11432828</td><td>⋯</td><td>8760786</td><td>7461085</td><td> 6478146</td><td>9019885</td><td>8553835</td><td>7157259</td><td>7020425</td><td> 7841902</td><td>9906436</td><td>29523380</td></tr>\n",
       "\t<tr><th scope=row>F24</th><td>       0</td><td>  338631</td><td>  383801</td><td>  441660</td><td>       0</td><td>  466973</td><td>  573463</td><td> 225125</td><td>      0</td><td>  165418</td><td>⋯</td><td>      0</td><td>      0</td><td>   87039</td><td> 146614</td><td>  83072</td><td> 165239</td><td>      0</td><td>  188325</td><td>      0</td><td>       0</td></tr>\n",
       "</tbody>\n",
       "</table>\n"
      ],
      "text/latex": [
       "A data.frame: 6 × 166\n",
       "\\begin{tabular}{r|lllllllllllllllllllll}\n",
       "  & batch1\\_MT\\_20221018\\_147 & batch1\\_MT\\_20221018\\_001 & batch1\\_MT\\_20221018\\_003 & batch1\\_MT\\_20221018\\_005 & batch1\\_MT\\_20221018\\_007 & batch1\\_MT\\_20221018\\_009 & batch1\\_MT\\_20221018\\_011 & batch1\\_MT\\_20221018\\_013 & batch1\\_MT\\_20221018\\_015 & batch1\\_MT\\_20221018\\_017 & ⋯ & batch2\\_MT\\_20221019\\_151 & batch2\\_MT\\_20221019\\_153 & batch2\\_MT\\_20221019\\_155 & batch2\\_MT\\_20221019\\_157 & batch2\\_MT\\_20221019\\_159 & batch2\\_MT\\_20221019\\_161 & batch2\\_MT\\_20221019\\_163 & batch2\\_MT\\_20221019\\_165 & batch2\\_MT\\_20221019\\_167 & batch2\\_MT\\_20221019\\_169\\\\\n",
       "  & <dbl> & <dbl> & <dbl> & <dbl> & <dbl> & <dbl> & <dbl> & <dbl> & <dbl> & <dbl> & ⋯ & <dbl> & <dbl> & <dbl> & <dbl> & <dbl> & <dbl> & <dbl> & <dbl> & <dbl> & <dbl>\\\\\n",
       "\\hline\n",
       "\tF7 &        0 &        0 &        0 &        0 &        0 &        0 &        0 &       0 &       0 &        0 & ⋯ &       0 &       0 & 13252984 &       0 &       0 &       0 &       0 & 13173610 &       0 &        0\\\\\n",
       "\tF11 &        0 &        0 &        0 &        0 &        0 &        0 &        0 &       0 &       0 &        0 & ⋯ &  328122 &  157086 &        0 &       0 &       0 &       0 &  113512 &        0 &       0 &        0\\\\\n",
       "\tF15 & 11929721 & 28310539 & 29182687 & 28671044 & 27361167 & 14061539 & 15638423 & 7708689 & 9858212 &  9006167 & ⋯ & 9416806 & 8274997 &  5993130 & 6957273 & 5869877 & 6839305 & 3860720 &  5193095 & 6759427 & 14715891\\\\\n",
       "\tF20 &        0 &        0 &        0 &        0 &        0 &        0 &        0 &       0 &       0 &        0 & ⋯ &       0 &       0 &        0 &       0 &       0 &       0 &       0 &        0 &       0 &        0\\\\\n",
       "\tF21 & 12434917 & 41720312 & 41207863 & 40622031 &   118428 & 12604356 & 15438745 & 7020187 & 7857462 & 11432828 & ⋯ & 8760786 & 7461085 &  6478146 & 9019885 & 8553835 & 7157259 & 7020425 &  7841902 & 9906436 & 29523380\\\\\n",
       "\tF24 &        0 &   338631 &   383801 &   441660 &        0 &   466973 &   573463 &  225125 &       0 &   165418 & ⋯ &       0 &       0 &    87039 &  146614 &   83072 &  165239 &       0 &   188325 &       0 &        0\\\\\n",
       "\\end{tabular}\n"
      ],
      "text/markdown": [
       "\n",
       "A data.frame: 6 × 166\n",
       "\n",
       "| <!--/--> | batch1_MT_20221018_147 &lt;dbl&gt; | batch1_MT_20221018_001 &lt;dbl&gt; | batch1_MT_20221018_003 &lt;dbl&gt; | batch1_MT_20221018_005 &lt;dbl&gt; | batch1_MT_20221018_007 &lt;dbl&gt; | batch1_MT_20221018_009 &lt;dbl&gt; | batch1_MT_20221018_011 &lt;dbl&gt; | batch1_MT_20221018_013 &lt;dbl&gt; | batch1_MT_20221018_015 &lt;dbl&gt; | batch1_MT_20221018_017 &lt;dbl&gt; | ⋯ ⋯ | batch2_MT_20221019_151 &lt;dbl&gt; | batch2_MT_20221019_153 &lt;dbl&gt; | batch2_MT_20221019_155 &lt;dbl&gt; | batch2_MT_20221019_157 &lt;dbl&gt; | batch2_MT_20221019_159 &lt;dbl&gt; | batch2_MT_20221019_161 &lt;dbl&gt; | batch2_MT_20221019_163 &lt;dbl&gt; | batch2_MT_20221019_165 &lt;dbl&gt; | batch2_MT_20221019_167 &lt;dbl&gt; | batch2_MT_20221019_169 &lt;dbl&gt; |\n",
       "|---|---|---|---|---|---|---|---|---|---|---|---|---|---|---|---|---|---|---|---|---|---|\n",
       "| F7 |        0 |        0 |        0 |        0 |        0 |        0 |        0 |       0 |       0 |        0 | ⋯ |       0 |       0 | 13252984 |       0 |       0 |       0 |       0 | 13173610 |       0 |        0 |\n",
       "| F11 |        0 |        0 |        0 |        0 |        0 |        0 |        0 |       0 |       0 |        0 | ⋯ |  328122 |  157086 |        0 |       0 |       0 |       0 |  113512 |        0 |       0 |        0 |\n",
       "| F15 | 11929721 | 28310539 | 29182687 | 28671044 | 27361167 | 14061539 | 15638423 | 7708689 | 9858212 |  9006167 | ⋯ | 9416806 | 8274997 |  5993130 | 6957273 | 5869877 | 6839305 | 3860720 |  5193095 | 6759427 | 14715891 |\n",
       "| F20 |        0 |        0 |        0 |        0 |        0 |        0 |        0 |       0 |       0 |        0 | ⋯ |       0 |       0 |        0 |       0 |       0 |       0 |       0 |        0 |       0 |        0 |\n",
       "| F21 | 12434917 | 41720312 | 41207863 | 40622031 |   118428 | 12604356 | 15438745 | 7020187 | 7857462 | 11432828 | ⋯ | 8760786 | 7461085 |  6478146 | 9019885 | 8553835 | 7157259 | 7020425 |  7841902 | 9906436 | 29523380 |\n",
       "| F24 |        0 |   338631 |   383801 |   441660 |        0 |   466973 |   573463 |  225125 |       0 |   165418 | ⋯ |       0 |       0 |    87039 |  146614 |   83072 |  165239 |       0 |   188325 |       0 |        0 |\n",
       "\n"
      ],
      "text/plain": [
       "    batch1_MT_20221018_147 batch1_MT_20221018_001 batch1_MT_20221018_003\n",
       "F7         0                      0                      0              \n",
       "F11        0                      0                      0              \n",
       "F15 11929721               28310539               29182687              \n",
       "F20        0                      0                      0              \n",
       "F21 12434917               41720312               41207863              \n",
       "F24        0                 338631                 383801              \n",
       "    batch1_MT_20221018_005 batch1_MT_20221018_007 batch1_MT_20221018_009\n",
       "F7         0                      0                      0              \n",
       "F11        0                      0                      0              \n",
       "F15 28671044               27361167               14061539              \n",
       "F20        0                      0                      0              \n",
       "F21 40622031                 118428               12604356              \n",
       "F24   441660                      0                 466973              \n",
       "    batch1_MT_20221018_011 batch1_MT_20221018_013 batch1_MT_20221018_015\n",
       "F7         0                     0                      0               \n",
       "F11        0                     0                      0               \n",
       "F15 15638423               7708689                9858212               \n",
       "F20        0                     0                      0               \n",
       "F21 15438745               7020187                7857462               \n",
       "F24   573463                225125                      0               \n",
       "    batch1_MT_20221018_017 ⋯ batch2_MT_20221019_151 batch2_MT_20221019_153\n",
       "F7         0               ⋯       0                      0               \n",
       "F11        0               ⋯  328122                 157086               \n",
       "F15  9006167               ⋯ 9416806                8274997               \n",
       "F20        0               ⋯       0                      0               \n",
       "F21 11432828               ⋯ 8760786                7461085               \n",
       "F24   165418               ⋯       0                      0               \n",
       "    batch2_MT_20221019_155 batch2_MT_20221019_157 batch2_MT_20221019_159\n",
       "F7  13252984                     0                      0               \n",
       "F11        0                     0                      0               \n",
       "F15  5993130               6957273                5869877               \n",
       "F20        0                     0                      0               \n",
       "F21  6478146               9019885                8553835               \n",
       "F24    87039                146614                  83072               \n",
       "    batch2_MT_20221019_161 batch2_MT_20221019_163 batch2_MT_20221019_165\n",
       "F7        0                      0                13173610              \n",
       "F11       0                 113512                       0              \n",
       "F15 6839305                3860720                 5193095              \n",
       "F20       0                      0                       0              \n",
       "F21 7157259                7020425                 7841902              \n",
       "F24  165239                      0                  188325              \n",
       "    batch2_MT_20221019_167 batch2_MT_20221019_169\n",
       "F7        0                       0              \n",
       "F11       0                       0              \n",
       "F15 6759427                14715891              \n",
       "F20       0                       0              \n",
       "F21 9906436                29523380              \n",
       "F24       0                       0              "
      ]
     },
     "metadata": {},
     "output_type": "display_data"
    }
   ],
   "source": [
    "# Remove 3x bckground signals fetures -------------------------------------\n",
    "bkgfiles=metadata_df%>%filter(SampleType==\"Blank\")\n",
    "#choose blank samples \n",
    "bkg=ft%>%select_if(names(.) %in% bkgfiles$FileNameEdits)\n",
    "\n",
    "head(bkg)\n",
    "\n",
    "\n",
    "# all samples including Qstd , Pooled and biosamples are included in signal files \n",
    "signalfiles=metadata_df%>%filter(!SampleType==\"Blank\")\n",
    "signal=ft%>%select_if(names(.) %in%signalfiles$FileNameEdits)\n",
    "\n",
    "head(signal)\n"
   ]
  },
  {
   "cell_type": "code",
   "execution_count": 12,
   "id": "15738d37-8cf1-4e95-9f2c-53fef65e5550",
   "metadata": {},
   "outputs": [
    {
     "data": {
      "text/html": [
       "<style>\n",
       ".list-inline {list-style: none; margin:0; padding: 0}\n",
       ".list-inline>li {display: inline-block}\n",
       ".list-inline>li:not(:last-child)::after {content: \"\\00b7\"; padding: 0 .5ex}\n",
       "</style>\n",
       "<ol class=list-inline><li>2637</li><li>4</li></ol>\n"
      ],
      "text/latex": [
       "\\begin{enumerate*}\n",
       "\\item 2637\n",
       "\\item 4\n",
       "\\end{enumerate*}\n"
      ],
      "text/markdown": [
       "1. 2637\n",
       "2. 4\n",
       "\n",
       "\n"
      ],
      "text/plain": [
       "[1] 2637    4"
      ]
     },
     "metadata": {},
     "output_type": "display_data"
    }
   ],
   "source": [
    "taggedfeatures<-tagfeaturestoremoveBG(bkg,signal)\n",
    "dim(taggedfeatures)"
   ]
  },
  {
   "cell_type": "code",
   "execution_count": 13,
   "id": "d0ab7388-c937-4ebc-a518-ba034ef616f0",
   "metadata": {},
   "outputs": [
    {
     "data": {
      "text/html": [
       "<style>\n",
       ".list-inline {list-style: none; margin:0; padding: 0}\n",
       ".list-inline>li {display: inline-block}\n",
       ".list-inline>li:not(:last-child)::after {content: \"\\00b7\"; padding: 0 .5ex}\n",
       "</style>\n",
       "<ol class=list-inline><li>13735</li><li>186</li></ol>\n"
      ],
      "text/latex": [
       "\\begin{enumerate*}\n",
       "\\item 13735\n",
       "\\item 186\n",
       "\\end{enumerate*}\n"
      ],
      "text/markdown": [
       "1. 13735\n",
       "2. 186\n",
       "\n",
       "\n"
      ],
      "text/plain": [
       "[1] 13735   186"
      ]
     },
     "metadata": {},
     "output_type": "display_data"
    }
   ],
   "source": [
    "#remove the features with 0 values in combined data \n",
    "ft<-ft%>%filter( !(row.names(ft) %in% taggedfeatures$Fid))\n",
    "dim(ft)"
   ]
  },
  {
   "cell_type": "code",
   "execution_count": 14,
   "id": "da619dc7-9728-4ae3-a4fa-a1ba1bc57d2f",
   "metadata": {},
   "outputs": [
    {
     "data": {
      "text/html": [
       "<table class=\"dataframe\">\n",
       "<caption>A data.frame: 6 × 186</caption>\n",
       "<thead>\n",
       "\t<tr><th></th><th scope=col>id_number</th><th scope=col>mz</th><th scope=col>rtime</th><th scope=col>rtime_left_base</th><th scope=col>rtime_right_base</th><th scope=col>parent_masstrack_id</th><th scope=col>peak_area</th><th scope=col>cSelectivity</th><th scope=col>goodness_fitting</th><th scope=col>snr</th><th scope=col>⋯</th><th scope=col>batch2_MT_20221019_151</th><th scope=col>batch2_MT_20221019_153</th><th scope=col>batch2_MT_20221019_155</th><th scope=col>batch2_MT_20221019_157</th><th scope=col>batch2_MT_20221019_159</th><th scope=col>batch2_MT_20221019_161</th><th scope=col>batch2_MT_20221019_163</th><th scope=col>batch2_MT_20221019_165</th><th scope=col>batch2_MT_20221019_167</th><th scope=col>batch2_MT_20221019_169</th></tr>\n",
       "\t<tr><th></th><th scope=col>&lt;chr&gt;</th><th scope=col>&lt;dbl&gt;</th><th scope=col>&lt;dbl&gt;</th><th scope=col>&lt;dbl&gt;</th><th scope=col>&lt;dbl&gt;</th><th scope=col>&lt;int&gt;</th><th scope=col>&lt;dbl&gt;</th><th scope=col>&lt;dbl&gt;</th><th scope=col>&lt;dbl&gt;</th><th scope=col>&lt;int&gt;</th><th scope=col>⋯</th><th scope=col>&lt;dbl&gt;</th><th scope=col>&lt;dbl&gt;</th><th scope=col>&lt;dbl&gt;</th><th scope=col>&lt;dbl&gt;</th><th scope=col>&lt;dbl&gt;</th><th scope=col>&lt;dbl&gt;</th><th scope=col>&lt;dbl&gt;</th><th scope=col>&lt;dbl&gt;</th><th scope=col>&lt;dbl&gt;</th><th scope=col>&lt;dbl&gt;</th></tr>\n",
       "</thead>\n",
       "<tbody>\n",
       "\t<tr><th scope=row>F7</th><td>F7 </td><td> 67.2507</td><td>141.60</td><td>138.74</td><td>144.29</td><td>   8</td><td> 789870563</td><td>1</td><td>0.93</td><td>6970</td><td>⋯</td><td>      0</td><td>      0</td><td>13252984</td><td>      0</td><td>      0</td><td>      0</td><td>      0</td><td>13173610</td><td>      0</td><td>       0</td></tr>\n",
       "\t<tr><th scope=row>F15</th><td>F15</td><td> 69.0704</td><td>123.49</td><td>114.87</td><td>132.63</td><td>  17</td><td>1431589624</td><td>1</td><td>0.98</td><td> 710</td><td>⋯</td><td>9416806</td><td>8274997</td><td> 5993130</td><td>6957273</td><td>5869877</td><td>6839305</td><td>3860720</td><td> 5193095</td><td>6759427</td><td>14715891</td></tr>\n",
       "\t<tr><th scope=row>F20</th><td>F20</td><td>131.0338</td><td>171.66</td><td>171.13</td><td>176.14</td><td>2066</td><td>  10815818</td><td>1</td><td>0.83</td><td> 191</td><td>⋯</td><td>      0</td><td>      0</td><td>       0</td><td>      0</td><td>      0</td><td>      0</td><td>      0</td><td>       0</td><td>      0</td><td>       0</td></tr>\n",
       "\t<tr><th scope=row>F21</th><td>F21</td><td>131.0338</td><td>192.81</td><td>186.32</td><td>215.17</td><td>2066</td><td>1774784772</td><td>1</td><td>0.93</td><td>9546</td><td>⋯</td><td>8760786</td><td>7461085</td><td> 6478146</td><td>9019885</td><td>8553835</td><td>7157259</td><td>7020425</td><td> 7841902</td><td>9906436</td><td>29523380</td></tr>\n",
       "\t<tr><th scope=row>F24</th><td>F24</td><td>131.0451</td><td>187.76</td><td>183.30</td><td>189.35</td><td>2068</td><td>  20487210</td><td>1</td><td>0.98</td><td> 282</td><td>⋯</td><td>      0</td><td>      0</td><td>   87039</td><td> 146614</td><td>  83072</td><td> 165239</td><td>      0</td><td>  188325</td><td>      0</td><td>       0</td></tr>\n",
       "\t<tr><th scope=row>F26</th><td>F26</td><td>131.0470</td><td>170.05</td><td>165.66</td><td>186.32</td><td>2069</td><td>1331590687</td><td>1</td><td>0.82</td><td>5339</td><td>⋯</td><td>5979284</td><td>5692525</td><td> 3800534</td><td>4439133</td><td>3864755</td><td>5459333</td><td>2365371</td><td> 2907067</td><td>3609852</td><td> 5195421</td></tr>\n",
       "</tbody>\n",
       "</table>\n"
      ],
      "text/latex": [
       "A data.frame: 6 × 186\n",
       "\\begin{tabular}{r|lllllllllllllllllllll}\n",
       "  & id\\_number & mz & rtime & rtime\\_left\\_base & rtime\\_right\\_base & parent\\_masstrack\\_id & peak\\_area & cSelectivity & goodness\\_fitting & snr & ⋯ & batch2\\_MT\\_20221019\\_151 & batch2\\_MT\\_20221019\\_153 & batch2\\_MT\\_20221019\\_155 & batch2\\_MT\\_20221019\\_157 & batch2\\_MT\\_20221019\\_159 & batch2\\_MT\\_20221019\\_161 & batch2\\_MT\\_20221019\\_163 & batch2\\_MT\\_20221019\\_165 & batch2\\_MT\\_20221019\\_167 & batch2\\_MT\\_20221019\\_169\\\\\n",
       "  & <chr> & <dbl> & <dbl> & <dbl> & <dbl> & <int> & <dbl> & <dbl> & <dbl> & <int> & ⋯ & <dbl> & <dbl> & <dbl> & <dbl> & <dbl> & <dbl> & <dbl> & <dbl> & <dbl> & <dbl>\\\\\n",
       "\\hline\n",
       "\tF7 & F7  &  67.2507 & 141.60 & 138.74 & 144.29 &    8 &  789870563 & 1 & 0.93 & 6970 & ⋯ &       0 &       0 & 13252984 &       0 &       0 &       0 &       0 & 13173610 &       0 &        0\\\\\n",
       "\tF15 & F15 &  69.0704 & 123.49 & 114.87 & 132.63 &   17 & 1431589624 & 1 & 0.98 &  710 & ⋯ & 9416806 & 8274997 &  5993130 & 6957273 & 5869877 & 6839305 & 3860720 &  5193095 & 6759427 & 14715891\\\\\n",
       "\tF20 & F20 & 131.0338 & 171.66 & 171.13 & 176.14 & 2066 &   10815818 & 1 & 0.83 &  191 & ⋯ &       0 &       0 &        0 &       0 &       0 &       0 &       0 &        0 &       0 &        0\\\\\n",
       "\tF21 & F21 & 131.0338 & 192.81 & 186.32 & 215.17 & 2066 & 1774784772 & 1 & 0.93 & 9546 & ⋯ & 8760786 & 7461085 &  6478146 & 9019885 & 8553835 & 7157259 & 7020425 &  7841902 & 9906436 & 29523380\\\\\n",
       "\tF24 & F24 & 131.0451 & 187.76 & 183.30 & 189.35 & 2068 &   20487210 & 1 & 0.98 &  282 & ⋯ &       0 &       0 &    87039 &  146614 &   83072 &  165239 &       0 &   188325 &       0 &        0\\\\\n",
       "\tF26 & F26 & 131.0470 & 170.05 & 165.66 & 186.32 & 2069 & 1331590687 & 1 & 0.82 & 5339 & ⋯ & 5979284 & 5692525 &  3800534 & 4439133 & 3864755 & 5459333 & 2365371 &  2907067 & 3609852 &  5195421\\\\\n",
       "\\end{tabular}\n"
      ],
      "text/markdown": [
       "\n",
       "A data.frame: 6 × 186\n",
       "\n",
       "| <!--/--> | id_number &lt;chr&gt; | mz &lt;dbl&gt; | rtime &lt;dbl&gt; | rtime_left_base &lt;dbl&gt; | rtime_right_base &lt;dbl&gt; | parent_masstrack_id &lt;int&gt; | peak_area &lt;dbl&gt; | cSelectivity &lt;dbl&gt; | goodness_fitting &lt;dbl&gt; | snr &lt;int&gt; | ⋯ ⋯ | batch2_MT_20221019_151 &lt;dbl&gt; | batch2_MT_20221019_153 &lt;dbl&gt; | batch2_MT_20221019_155 &lt;dbl&gt; | batch2_MT_20221019_157 &lt;dbl&gt; | batch2_MT_20221019_159 &lt;dbl&gt; | batch2_MT_20221019_161 &lt;dbl&gt; | batch2_MT_20221019_163 &lt;dbl&gt; | batch2_MT_20221019_165 &lt;dbl&gt; | batch2_MT_20221019_167 &lt;dbl&gt; | batch2_MT_20221019_169 &lt;dbl&gt; |\n",
       "|---|---|---|---|---|---|---|---|---|---|---|---|---|---|---|---|---|---|---|---|---|---|\n",
       "| F7 | F7  |  67.2507 | 141.60 | 138.74 | 144.29 |    8 |  789870563 | 1 | 0.93 | 6970 | ⋯ |       0 |       0 | 13252984 |       0 |       0 |       0 |       0 | 13173610 |       0 |        0 |\n",
       "| F15 | F15 |  69.0704 | 123.49 | 114.87 | 132.63 |   17 | 1431589624 | 1 | 0.98 |  710 | ⋯ | 9416806 | 8274997 |  5993130 | 6957273 | 5869877 | 6839305 | 3860720 |  5193095 | 6759427 | 14715891 |\n",
       "| F20 | F20 | 131.0338 | 171.66 | 171.13 | 176.14 | 2066 |   10815818 | 1 | 0.83 |  191 | ⋯ |       0 |       0 |        0 |       0 |       0 |       0 |       0 |        0 |       0 |        0 |\n",
       "| F21 | F21 | 131.0338 | 192.81 | 186.32 | 215.17 | 2066 | 1774784772 | 1 | 0.93 | 9546 | ⋯ | 8760786 | 7461085 |  6478146 | 9019885 | 8553835 | 7157259 | 7020425 |  7841902 | 9906436 | 29523380 |\n",
       "| F24 | F24 | 131.0451 | 187.76 | 183.30 | 189.35 | 2068 |   20487210 | 1 | 0.98 |  282 | ⋯ |       0 |       0 |    87039 |  146614 |   83072 |  165239 |       0 |   188325 |       0 |        0 |\n",
       "| F26 | F26 | 131.0470 | 170.05 | 165.66 | 186.32 | 2069 | 1331590687 | 1 | 0.82 | 5339 | ⋯ | 5979284 | 5692525 |  3800534 | 4439133 | 3864755 | 5459333 | 2365371 |  2907067 | 3609852 |  5195421 |\n",
       "\n"
      ],
      "text/plain": [
       "    id_number mz       rtime  rtime_left_base rtime_right_base\n",
       "F7  F7         67.2507 141.60 138.74          144.29          \n",
       "F15 F15        69.0704 123.49 114.87          132.63          \n",
       "F20 F20       131.0338 171.66 171.13          176.14          \n",
       "F21 F21       131.0338 192.81 186.32          215.17          \n",
       "F24 F24       131.0451 187.76 183.30          189.35          \n",
       "F26 F26       131.0470 170.05 165.66          186.32          \n",
       "    parent_masstrack_id peak_area  cSelectivity goodness_fitting snr  ⋯\n",
       "F7     8                 789870563 1            0.93             6970 ⋯\n",
       "F15   17                1431589624 1            0.98              710 ⋯\n",
       "F20 2066                  10815818 1            0.83              191 ⋯\n",
       "F21 2066                1774784772 1            0.93             9546 ⋯\n",
       "F24 2068                  20487210 1            0.98              282 ⋯\n",
       "F26 2069                1331590687 1            0.82             5339 ⋯\n",
       "    batch2_MT_20221019_151 batch2_MT_20221019_153 batch2_MT_20221019_155\n",
       "F7        0                      0                13252984              \n",
       "F15 9416806                8274997                 5993130              \n",
       "F20       0                      0                       0              \n",
       "F21 8760786                7461085                 6478146              \n",
       "F24       0                      0                   87039              \n",
       "F26 5979284                5692525                 3800534              \n",
       "    batch2_MT_20221019_157 batch2_MT_20221019_159 batch2_MT_20221019_161\n",
       "F7        0                      0                      0               \n",
       "F15 6957273                5869877                6839305               \n",
       "F20       0                      0                      0               \n",
       "F21 9019885                8553835                7157259               \n",
       "F24  146614                  83072                 165239               \n",
       "F26 4439133                3864755                5459333               \n",
       "    batch2_MT_20221019_163 batch2_MT_20221019_165 batch2_MT_20221019_167\n",
       "F7        0                13173610                     0               \n",
       "F15 3860720                 5193095               6759427               \n",
       "F20       0                       0                     0               \n",
       "F21 7020425                 7841902               9906436               \n",
       "F24       0                  188325                     0               \n",
       "F26 2365371                 2907067               3609852               \n",
       "    batch2_MT_20221019_169\n",
       "F7         0              \n",
       "F15 14715891              \n",
       "F20        0              \n",
       "F21 29523380              \n",
       "F24        0              \n",
       "F26  5195421              "
      ]
     },
     "metadata": {},
     "output_type": "display_data"
    }
   ],
   "source": [
    "head(ft)"
   ]
  },
  {
   "cell_type": "code",
   "execution_count": 15,
   "id": "34f4041e-8389-4bc5-a5a6-c63bbfd4c83f",
   "metadata": {},
   "outputs": [
    {
     "data": {
      "text/html": [
       "<style>\n",
       ".list-inline {list-style: none; margin:0; padding: 0}\n",
       ".list-inline>li {display: inline-block}\n",
       ".list-inline>li:not(:last-child)::after {content: \"\\00b7\"; padding: 0 .5ex}\n",
       "</style>\n",
       "<ol class=list-inline><li>'id_number'</li><li>'mz'</li><li>'rtime'</li><li>'rtime_left_base'</li><li>'rtime_right_base'</li><li>'parent_masstrack_id'</li><li>'peak_area'</li><li>'cSelectivity'</li><li>'goodness_fitting'</li><li>'snr'</li><li>'detection_counts'</li><li>'batch1_MT_20221018_147'</li><li>'MT_20221019_109_20221019204757'</li><li>'batch1_Blank_20221018_001'</li><li>'batch1_Blank_20221018_003'</li><li>'batch1_Blank_20221018_005'</li><li>'batch1_Blank_std_20221018_1_001'</li><li>'batch1_MT_20221018_001'</li><li>'batch1_MT_20221018_003'</li><li>'batch1_MT_20221018_005'</li></ol>\n"
      ],
      "text/latex": [
       "\\begin{enumerate*}\n",
       "\\item 'id\\_number'\n",
       "\\item 'mz'\n",
       "\\item 'rtime'\n",
       "\\item 'rtime\\_left\\_base'\n",
       "\\item 'rtime\\_right\\_base'\n",
       "\\item 'parent\\_masstrack\\_id'\n",
       "\\item 'peak\\_area'\n",
       "\\item 'cSelectivity'\n",
       "\\item 'goodness\\_fitting'\n",
       "\\item 'snr'\n",
       "\\item 'detection\\_counts'\n",
       "\\item 'batch1\\_MT\\_20221018\\_147'\n",
       "\\item 'MT\\_20221019\\_109\\_20221019204757'\n",
       "\\item 'batch1\\_Blank\\_20221018\\_001'\n",
       "\\item 'batch1\\_Blank\\_20221018\\_003'\n",
       "\\item 'batch1\\_Blank\\_20221018\\_005'\n",
       "\\item 'batch1\\_Blank\\_std\\_20221018\\_1\\_001'\n",
       "\\item 'batch1\\_MT\\_20221018\\_001'\n",
       "\\item 'batch1\\_MT\\_20221018\\_003'\n",
       "\\item 'batch1\\_MT\\_20221018\\_005'\n",
       "\\end{enumerate*}\n"
      ],
      "text/markdown": [
       "1. 'id_number'\n",
       "2. 'mz'\n",
       "3. 'rtime'\n",
       "4. 'rtime_left_base'\n",
       "5. 'rtime_right_base'\n",
       "6. 'parent_masstrack_id'\n",
       "7. 'peak_area'\n",
       "8. 'cSelectivity'\n",
       "9. 'goodness_fitting'\n",
       "10. 'snr'\n",
       "11. 'detection_counts'\n",
       "12. 'batch1_MT_20221018_147'\n",
       "13. 'MT_20221019_109_20221019204757'\n",
       "14. 'batch1_Blank_20221018_001'\n",
       "15. 'batch1_Blank_20221018_003'\n",
       "16. 'batch1_Blank_20221018_005'\n",
       "17. 'batch1_Blank_std_20221018_1_001'\n",
       "18. 'batch1_MT_20221018_001'\n",
       "19. 'batch1_MT_20221018_003'\n",
       "20. 'batch1_MT_20221018_005'\n",
       "\n",
       "\n"
      ],
      "text/plain": [
       " [1] \"id_number\"                       \"mz\"                             \n",
       " [3] \"rtime\"                           \"rtime_left_base\"                \n",
       " [5] \"rtime_right_base\"                \"parent_masstrack_id\"            \n",
       " [7] \"peak_area\"                       \"cSelectivity\"                   \n",
       " [9] \"goodness_fitting\"                \"snr\"                            \n",
       "[11] \"detection_counts\"                \"batch1_MT_20221018_147\"         \n",
       "[13] \"MT_20221019_109_20221019204757\"  \"batch1_Blank_20221018_001\"      \n",
       "[15] \"batch1_Blank_20221018_003\"       \"batch1_Blank_20221018_005\"      \n",
       "[17] \"batch1_Blank_std_20221018_1_001\" \"batch1_MT_20221018_001\"         \n",
       "[19] \"batch1_MT_20221018_003\"          \"batch1_MT_20221018_005\"         "
      ]
     },
     "metadata": {},
     "output_type": "display_data"
    }
   ],
   "source": [
    "colnames(ft)[1:20]"
   ]
  },
  {
   "cell_type": "code",
   "execution_count": 16,
   "id": "a86e0339-afa3-415a-8a11-95e58b414efd",
   "metadata": {},
   "outputs": [
    {
     "data": {
      "text/html": [
       "<table class=\"dataframe\">\n",
       "<caption>A data.frame: 6 × 6</caption>\n",
       "<thead>\n",
       "\t<tr><th></th><th scope=col>SampleType</th><th scope=col>FileName</th><th scope=col>SampleID</th><th scope=col>batch</th><th scope=col>FileNameEdits</th><th scope=col>SampleType2</th></tr>\n",
       "\t<tr><th></th><th scope=col>&lt;chr&gt;</th><th scope=col>&lt;chr&gt;</th><th scope=col>&lt;chr&gt;</th><th scope=col>&lt;chr&gt;</th><th scope=col>&lt;chr&gt;</th><th scope=col>&lt;chr&gt;</th></tr>\n",
       "</thead>\n",
       "<tbody>\n",
       "\t<tr><th scope=row>1</th><td>Sample</td><td>MT_20221018_011</td><td>Leu_M_02_01  </td><td>batch1</td><td>batch1_MT_20221018_011</td><td>Leu_M  </td></tr>\n",
       "\t<tr><th scope=row>2</th><td>Sample</td><td>MT_20221018_013</td><td>DHEAS_L_03_01</td><td>batch1</td><td>batch1_MT_20221018_013</td><td>DHEAS_L</td></tr>\n",
       "\t<tr><th scope=row>3</th><td>Sample</td><td>MT_20221018_015</td><td>Phe_H_01_01  </td><td>batch1</td><td>batch1_MT_20221018_015</td><td>Phe_H  </td></tr>\n",
       "\t<tr><th scope=row>4</th><td>Sample</td><td>MT_20221018_017</td><td>Phe_L_02_01  </td><td>batch1</td><td>batch1_MT_20221018_017</td><td>Phe_L  </td></tr>\n",
       "\t<tr><th scope=row>5</th><td>Sample</td><td>MT_20221018_019</td><td>Arg_M_01_01  </td><td>batch1</td><td>batch1_MT_20221018_019</td><td>Arg_M  </td></tr>\n",
       "\t<tr><th scope=row>6</th><td>Sample</td><td>MT_20221018_021</td><td>DHEAS_M_01_01</td><td>batch1</td><td>batch1_MT_20221018_021</td><td>DHEAS_M</td></tr>\n",
       "</tbody>\n",
       "</table>\n"
      ],
      "text/latex": [
       "A data.frame: 6 × 6\n",
       "\\begin{tabular}{r|llllll}\n",
       "  & SampleType & FileName & SampleID & batch & FileNameEdits & SampleType2\\\\\n",
       "  & <chr> & <chr> & <chr> & <chr> & <chr> & <chr>\\\\\n",
       "\\hline\n",
       "\t1 & Sample & MT\\_20221018\\_011 & Leu\\_M\\_02\\_01   & batch1 & batch1\\_MT\\_20221018\\_011 & Leu\\_M  \\\\\n",
       "\t2 & Sample & MT\\_20221018\\_013 & DHEAS\\_L\\_03\\_01 & batch1 & batch1\\_MT\\_20221018\\_013 & DHEAS\\_L\\\\\n",
       "\t3 & Sample & MT\\_20221018\\_015 & Phe\\_H\\_01\\_01   & batch1 & batch1\\_MT\\_20221018\\_015 & Phe\\_H  \\\\\n",
       "\t4 & Sample & MT\\_20221018\\_017 & Phe\\_L\\_02\\_01   & batch1 & batch1\\_MT\\_20221018\\_017 & Phe\\_L  \\\\\n",
       "\t5 & Sample & MT\\_20221018\\_019 & Arg\\_M\\_01\\_01   & batch1 & batch1\\_MT\\_20221018\\_019 & Arg\\_M  \\\\\n",
       "\t6 & Sample & MT\\_20221018\\_021 & DHEAS\\_M\\_01\\_01 & batch1 & batch1\\_MT\\_20221018\\_021 & DHEAS\\_M\\\\\n",
       "\\end{tabular}\n"
      ],
      "text/markdown": [
       "\n",
       "A data.frame: 6 × 6\n",
       "\n",
       "| <!--/--> | SampleType &lt;chr&gt; | FileName &lt;chr&gt; | SampleID &lt;chr&gt; | batch &lt;chr&gt; | FileNameEdits &lt;chr&gt; | SampleType2 &lt;chr&gt; |\n",
       "|---|---|---|---|---|---|---|\n",
       "| 1 | Sample | MT_20221018_011 | Leu_M_02_01   | batch1 | batch1_MT_20221018_011 | Leu_M   |\n",
       "| 2 | Sample | MT_20221018_013 | DHEAS_L_03_01 | batch1 | batch1_MT_20221018_013 | DHEAS_L |\n",
       "| 3 | Sample | MT_20221018_015 | Phe_H_01_01   | batch1 | batch1_MT_20221018_015 | Phe_H   |\n",
       "| 4 | Sample | MT_20221018_017 | Phe_L_02_01   | batch1 | batch1_MT_20221018_017 | Phe_L   |\n",
       "| 5 | Sample | MT_20221018_019 | Arg_M_01_01   | batch1 | batch1_MT_20221018_019 | Arg_M   |\n",
       "| 6 | Sample | MT_20221018_021 | DHEAS_M_01_01 | batch1 | batch1_MT_20221018_021 | DHEAS_M |\n",
       "\n"
      ],
      "text/plain": [
       "  SampleType FileName        SampleID      batch  FileNameEdits         \n",
       "1 Sample     MT_20221018_011 Leu_M_02_01   batch1 batch1_MT_20221018_011\n",
       "2 Sample     MT_20221018_013 DHEAS_L_03_01 batch1 batch1_MT_20221018_013\n",
       "3 Sample     MT_20221018_015 Phe_H_01_01   batch1 batch1_MT_20221018_015\n",
       "4 Sample     MT_20221018_017 Phe_L_02_01   batch1 batch1_MT_20221018_017\n",
       "5 Sample     MT_20221018_019 Arg_M_01_01   batch1 batch1_MT_20221018_019\n",
       "6 Sample     MT_20221018_021 DHEAS_M_01_01 batch1 batch1_MT_20221018_021\n",
       "  SampleType2\n",
       "1 Leu_M      \n",
       "2 DHEAS_L    \n",
       "3 Phe_H      \n",
       "4 Phe_L      \n",
       "5 Arg_M      \n",
       "6 DHEAS_M    "
      ]
     },
     "metadata": {},
     "output_type": "display_data"
    }
   ],
   "source": [
    "metadata_df<-metadata_df%>%filter(SampleType==\"Sample\")\n",
    "head(metadata_df)"
   ]
  },
  {
   "cell_type": "code",
   "execution_count": 17,
   "id": "49a442dd-ac8d-4e5c-bbc9-cc062a58538d",
   "metadata": {},
   "outputs": [
    {
     "name": "stdout",
     "output_type": "stream",
     "text": [
      "[1] 13735   140\n"
     ]
    },
    {
     "data": {
      "text/html": [
       "<table class=\"dataframe\">\n",
       "<caption>A data.frame: 6 × 140</caption>\n",
       "<thead>\n",
       "\t<tr><th></th><th scope=col>batch1_MT_20221018_147</th><th scope=col>batch1_MT_20221018_011</th><th scope=col>batch1_MT_20221018_013</th><th scope=col>batch1_MT_20221018_015</th><th scope=col>batch1_MT_20221018_017</th><th scope=col>batch1_MT_20221018_019</th><th scope=col>batch1_MT_20221018_021</th><th scope=col>batch1_MT_20221018_023</th><th scope=col>batch1_MT_20221018_025</th><th scope=col>batch1_MT_20221018_027</th><th scope=col>⋯</th><th scope=col>batch2_MT_20221019_147</th><th scope=col>batch2_MT_20221019_149</th><th scope=col>batch2_MT_20221019_151</th><th scope=col>batch2_MT_20221019_153</th><th scope=col>batch2_MT_20221019_155</th><th scope=col>batch2_MT_20221019_157</th><th scope=col>batch2_MT_20221019_159</th><th scope=col>batch2_MT_20221019_161</th><th scope=col>batch2_MT_20221019_163</th><th scope=col>batch2_MT_20221019_165</th></tr>\n",
       "\t<tr><th></th><th scope=col>&lt;dbl&gt;</th><th scope=col>&lt;dbl&gt;</th><th scope=col>&lt;dbl&gt;</th><th scope=col>&lt;dbl&gt;</th><th scope=col>&lt;dbl&gt;</th><th scope=col>&lt;dbl&gt;</th><th scope=col>&lt;dbl&gt;</th><th scope=col>&lt;dbl&gt;</th><th scope=col>&lt;dbl&gt;</th><th scope=col>&lt;dbl&gt;</th><th scope=col>⋯</th><th scope=col>&lt;dbl&gt;</th><th scope=col>&lt;dbl&gt;</th><th scope=col>&lt;dbl&gt;</th><th scope=col>&lt;dbl&gt;</th><th scope=col>&lt;dbl&gt;</th><th scope=col>&lt;dbl&gt;</th><th scope=col>&lt;dbl&gt;</th><th scope=col>&lt;dbl&gt;</th><th scope=col>&lt;dbl&gt;</th><th scope=col>&lt;dbl&gt;</th></tr>\n",
       "</thead>\n",
       "<tbody>\n",
       "\t<tr><th scope=row>F7</th><td>       0</td><td>       0</td><td>      0</td><td>      0</td><td>       0</td><td>       0</td><td>      0</td><td>       0</td><td>23391967</td><td>       0</td><td>⋯</td><td>      0</td><td>      0</td><td>      0</td><td>      0</td><td>13252984</td><td>      0</td><td>      0</td><td>      0</td><td>      0</td><td>13173610</td></tr>\n",
       "\t<tr><th scope=row>F15</th><td>11929721</td><td>15638423</td><td>7708689</td><td>9858212</td><td> 9006167</td><td> 9511865</td><td>7804080</td><td>11285070</td><td> 9847075</td><td>13799424</td><td>⋯</td><td>7918144</td><td>5705248</td><td>9416806</td><td>8274997</td><td> 5993130</td><td>6957273</td><td>5869877</td><td>6839305</td><td>3860720</td><td> 5193095</td></tr>\n",
       "\t<tr><th scope=row>F20</th><td>       0</td><td>       0</td><td>      0</td><td>      0</td><td>       0</td><td>       0</td><td>      0</td><td>       0</td><td>       0</td><td>       0</td><td>⋯</td><td>      0</td><td>      0</td><td>      0</td><td>      0</td><td>       0</td><td>      0</td><td>      0</td><td>      0</td><td>      0</td><td>       0</td></tr>\n",
       "\t<tr><th scope=row>F21</th><td>12434917</td><td>15438745</td><td>7020187</td><td>7857462</td><td>11432828</td><td>10189678</td><td>6099497</td><td>15349339</td><td>12157851</td><td>10841047</td><td>⋯</td><td>9722508</td><td>5822892</td><td>8760786</td><td>7461085</td><td> 6478146</td><td>9019885</td><td>8553835</td><td>7157259</td><td>7020425</td><td> 7841902</td></tr>\n",
       "\t<tr><th scope=row>F24</th><td>       0</td><td>  573463</td><td> 225125</td><td>      0</td><td>  165418</td><td>  199520</td><td>      0</td><td>  211380</td><td>  264121</td><td>       0</td><td>⋯</td><td> 189212</td><td> 177520</td><td>      0</td><td>      0</td><td>   87039</td><td> 146614</td><td>  83072</td><td> 165239</td><td>      0</td><td>  188325</td></tr>\n",
       "\t<tr><th scope=row>F26</th><td> 9562750</td><td> 9711141</td><td>4153599</td><td>5564472</td><td> 4994774</td><td> 4245783</td><td>2990832</td><td> 4885046</td><td> 5589240</td><td> 7828907</td><td>⋯</td><td>5325017</td><td>4576722</td><td>5979284</td><td>5692525</td><td> 3800534</td><td>4439133</td><td>3864755</td><td>5459333</td><td>2365371</td><td> 2907067</td></tr>\n",
       "</tbody>\n",
       "</table>\n"
      ],
      "text/latex": [
       "A data.frame: 6 × 140\n",
       "\\begin{tabular}{r|lllllllllllllllllllll}\n",
       "  & batch1\\_MT\\_20221018\\_147 & batch1\\_MT\\_20221018\\_011 & batch1\\_MT\\_20221018\\_013 & batch1\\_MT\\_20221018\\_015 & batch1\\_MT\\_20221018\\_017 & batch1\\_MT\\_20221018\\_019 & batch1\\_MT\\_20221018\\_021 & batch1\\_MT\\_20221018\\_023 & batch1\\_MT\\_20221018\\_025 & batch1\\_MT\\_20221018\\_027 & ⋯ & batch2\\_MT\\_20221019\\_147 & batch2\\_MT\\_20221019\\_149 & batch2\\_MT\\_20221019\\_151 & batch2\\_MT\\_20221019\\_153 & batch2\\_MT\\_20221019\\_155 & batch2\\_MT\\_20221019\\_157 & batch2\\_MT\\_20221019\\_159 & batch2\\_MT\\_20221019\\_161 & batch2\\_MT\\_20221019\\_163 & batch2\\_MT\\_20221019\\_165\\\\\n",
       "  & <dbl> & <dbl> & <dbl> & <dbl> & <dbl> & <dbl> & <dbl> & <dbl> & <dbl> & <dbl> & ⋯ & <dbl> & <dbl> & <dbl> & <dbl> & <dbl> & <dbl> & <dbl> & <dbl> & <dbl> & <dbl>\\\\\n",
       "\\hline\n",
       "\tF7 &        0 &        0 &       0 &       0 &        0 &        0 &       0 &        0 & 23391967 &        0 & ⋯ &       0 &       0 &       0 &       0 & 13252984 &       0 &       0 &       0 &       0 & 13173610\\\\\n",
       "\tF15 & 11929721 & 15638423 & 7708689 & 9858212 &  9006167 &  9511865 & 7804080 & 11285070 &  9847075 & 13799424 & ⋯ & 7918144 & 5705248 & 9416806 & 8274997 &  5993130 & 6957273 & 5869877 & 6839305 & 3860720 &  5193095\\\\\n",
       "\tF20 &        0 &        0 &       0 &       0 &        0 &        0 &       0 &        0 &        0 &        0 & ⋯ &       0 &       0 &       0 &       0 &        0 &       0 &       0 &       0 &       0 &        0\\\\\n",
       "\tF21 & 12434917 & 15438745 & 7020187 & 7857462 & 11432828 & 10189678 & 6099497 & 15349339 & 12157851 & 10841047 & ⋯ & 9722508 & 5822892 & 8760786 & 7461085 &  6478146 & 9019885 & 8553835 & 7157259 & 7020425 &  7841902\\\\\n",
       "\tF24 &        0 &   573463 &  225125 &       0 &   165418 &   199520 &       0 &   211380 &   264121 &        0 & ⋯ &  189212 &  177520 &       0 &       0 &    87039 &  146614 &   83072 &  165239 &       0 &   188325\\\\\n",
       "\tF26 &  9562750 &  9711141 & 4153599 & 5564472 &  4994774 &  4245783 & 2990832 &  4885046 &  5589240 &  7828907 & ⋯ & 5325017 & 4576722 & 5979284 & 5692525 &  3800534 & 4439133 & 3864755 & 5459333 & 2365371 &  2907067\\\\\n",
       "\\end{tabular}\n"
      ],
      "text/markdown": [
       "\n",
       "A data.frame: 6 × 140\n",
       "\n",
       "| <!--/--> | batch1_MT_20221018_147 &lt;dbl&gt; | batch1_MT_20221018_011 &lt;dbl&gt; | batch1_MT_20221018_013 &lt;dbl&gt; | batch1_MT_20221018_015 &lt;dbl&gt; | batch1_MT_20221018_017 &lt;dbl&gt; | batch1_MT_20221018_019 &lt;dbl&gt; | batch1_MT_20221018_021 &lt;dbl&gt; | batch1_MT_20221018_023 &lt;dbl&gt; | batch1_MT_20221018_025 &lt;dbl&gt; | batch1_MT_20221018_027 &lt;dbl&gt; | ⋯ ⋯ | batch2_MT_20221019_147 &lt;dbl&gt; | batch2_MT_20221019_149 &lt;dbl&gt; | batch2_MT_20221019_151 &lt;dbl&gt; | batch2_MT_20221019_153 &lt;dbl&gt; | batch2_MT_20221019_155 &lt;dbl&gt; | batch2_MT_20221019_157 &lt;dbl&gt; | batch2_MT_20221019_159 &lt;dbl&gt; | batch2_MT_20221019_161 &lt;dbl&gt; | batch2_MT_20221019_163 &lt;dbl&gt; | batch2_MT_20221019_165 &lt;dbl&gt; |\n",
       "|---|---|---|---|---|---|---|---|---|---|---|---|---|---|---|---|---|---|---|---|---|---|\n",
       "| F7 |        0 |        0 |       0 |       0 |        0 |        0 |       0 |        0 | 23391967 |        0 | ⋯ |       0 |       0 |       0 |       0 | 13252984 |       0 |       0 |       0 |       0 | 13173610 |\n",
       "| F15 | 11929721 | 15638423 | 7708689 | 9858212 |  9006167 |  9511865 | 7804080 | 11285070 |  9847075 | 13799424 | ⋯ | 7918144 | 5705248 | 9416806 | 8274997 |  5993130 | 6957273 | 5869877 | 6839305 | 3860720 |  5193095 |\n",
       "| F20 |        0 |        0 |       0 |       0 |        0 |        0 |       0 |        0 |        0 |        0 | ⋯ |       0 |       0 |       0 |       0 |        0 |       0 |       0 |       0 |       0 |        0 |\n",
       "| F21 | 12434917 | 15438745 | 7020187 | 7857462 | 11432828 | 10189678 | 6099497 | 15349339 | 12157851 | 10841047 | ⋯ | 9722508 | 5822892 | 8760786 | 7461085 |  6478146 | 9019885 | 8553835 | 7157259 | 7020425 |  7841902 |\n",
       "| F24 |        0 |   573463 |  225125 |       0 |   165418 |   199520 |       0 |   211380 |   264121 |        0 | ⋯ |  189212 |  177520 |       0 |       0 |    87039 |  146614 |   83072 |  165239 |       0 |   188325 |\n",
       "| F26 |  9562750 |  9711141 | 4153599 | 5564472 |  4994774 |  4245783 | 2990832 |  4885046 |  5589240 |  7828907 | ⋯ | 5325017 | 4576722 | 5979284 | 5692525 |  3800534 | 4439133 | 3864755 | 5459333 | 2365371 |  2907067 |\n",
       "\n"
      ],
      "text/plain": [
       "    batch1_MT_20221018_147 batch1_MT_20221018_011 batch1_MT_20221018_013\n",
       "F7         0                      0                     0               \n",
       "F15 11929721               15638423               7708689               \n",
       "F20        0                      0                     0               \n",
       "F21 12434917               15438745               7020187               \n",
       "F24        0                 573463                225125               \n",
       "F26  9562750                9711141               4153599               \n",
       "    batch1_MT_20221018_015 batch1_MT_20221018_017 batch1_MT_20221018_019\n",
       "F7        0                       0                      0              \n",
       "F15 9858212                 9006167                9511865              \n",
       "F20       0                       0                      0              \n",
       "F21 7857462                11432828               10189678              \n",
       "F24       0                  165418                 199520              \n",
       "F26 5564472                 4994774                4245783              \n",
       "    batch1_MT_20221018_021 batch1_MT_20221018_023 batch1_MT_20221018_025\n",
       "F7        0                       0               23391967              \n",
       "F15 7804080                11285070                9847075              \n",
       "F20       0                       0                      0              \n",
       "F21 6099497                15349339               12157851              \n",
       "F24       0                  211380                 264121              \n",
       "F26 2990832                 4885046                5589240              \n",
       "    batch1_MT_20221018_027 ⋯ batch2_MT_20221019_147 batch2_MT_20221019_149\n",
       "F7         0               ⋯       0                      0               \n",
       "F15 13799424               ⋯ 7918144                5705248               \n",
       "F20        0               ⋯       0                      0               \n",
       "F21 10841047               ⋯ 9722508                5822892               \n",
       "F24        0               ⋯  189212                 177520               \n",
       "F26  7828907               ⋯ 5325017                4576722               \n",
       "    batch2_MT_20221019_151 batch2_MT_20221019_153 batch2_MT_20221019_155\n",
       "F7        0                      0                13252984              \n",
       "F15 9416806                8274997                 5993130              \n",
       "F20       0                      0                       0              \n",
       "F21 8760786                7461085                 6478146              \n",
       "F24       0                      0                   87039              \n",
       "F26 5979284                5692525                 3800534              \n",
       "    batch2_MT_20221019_157 batch2_MT_20221019_159 batch2_MT_20221019_161\n",
       "F7        0                      0                      0               \n",
       "F15 6957273                5869877                6839305               \n",
       "F20       0                      0                      0               \n",
       "F21 9019885                8553835                7157259               \n",
       "F24  146614                  83072                 165239               \n",
       "F26 4439133                3864755                5459333               \n",
       "    batch2_MT_20221019_163 batch2_MT_20221019_165\n",
       "F7        0                13173610              \n",
       "F15 3860720                 5193095              \n",
       "F20       0                       0              \n",
       "F21 7020425                 7841902              \n",
       "F24       0                  188325              \n",
       "F26 2365371                 2907067              "
      ]
     },
     "metadata": {},
     "output_type": "display_data"
    }
   ],
   "source": [
    "\n",
    "#choose the biosamples only  ; no doing on all samples ; \n",
    "ft<-ft%>% select_if((names(.) %in% metadata_df$FileNameEdits))\n",
    "#colnames(ft)\n",
    "print(dim(ft))\n",
    "\n",
    "head(ft)"
   ]
  },
  {
   "cell_type": "markdown",
   "id": "44059e70-e459-4265-8109-8cb391e048ab",
   "metadata": {},
   "source": [
    "# Groupwise Filtering "
   ]
  },
  {
   "cell_type": "code",
   "execution_count": 18,
   "id": "5c7ebf84-a8ed-4fad-b68a-a693630850fb",
   "metadata": {},
   "outputs": [
    {
     "data": {
      "text/html": [
       "<table class=\"dataframe\">\n",
       "<caption>A data.frame: 6 × 1</caption>\n",
       "<thead>\n",
       "\t<tr><th></th><th scope=col>Fid</th></tr>\n",
       "\t<tr><th></th><th scope=col>&lt;chr&gt;</th></tr>\n",
       "</thead>\n",
       "<tbody>\n",
       "\t<tr><th scope=row>1</th><td>F15</td></tr>\n",
       "\t<tr><th scope=row>2</th><td>F21</td></tr>\n",
       "\t<tr><th scope=row>3</th><td>F26</td></tr>\n",
       "\t<tr><th scope=row>4</th><td>F27</td></tr>\n",
       "\t<tr><th scope=row>5</th><td>F30</td></tr>\n",
       "\t<tr><th scope=row>6</th><td>F35</td></tr>\n",
       "</tbody>\n",
       "</table>\n"
      ],
      "text/latex": [
       "A data.frame: 6 × 1\n",
       "\\begin{tabular}{r|l}\n",
       "  & Fid\\\\\n",
       "  & <chr>\\\\\n",
       "\\hline\n",
       "\t1 & F15\\\\\n",
       "\t2 & F21\\\\\n",
       "\t3 & F26\\\\\n",
       "\t4 & F27\\\\\n",
       "\t5 & F30\\\\\n",
       "\t6 & F35\\\\\n",
       "\\end{tabular}\n"
      ],
      "text/markdown": [
       "\n",
       "A data.frame: 6 × 1\n",
       "\n",
       "| <!--/--> | Fid &lt;chr&gt; |\n",
       "|---|---|\n",
       "| 1 | F15 |\n",
       "| 2 | F21 |\n",
       "| 3 | F26 |\n",
       "| 4 | F27 |\n",
       "| 5 | F30 |\n",
       "| 6 | F35 |\n",
       "\n"
      ],
      "text/plain": [
       "  Fid\n",
       "1 F15\n",
       "2 F21\n",
       "3 F26\n",
       "4 F27\n",
       "5 F30\n",
       "6 F35"
      ]
     },
     "metadata": {},
     "output_type": "display_data"
    }
   ],
   "source": [
    " #groupwise filtering \n",
    "  percentage=0.8\n",
    "  listoffetaturestokeep=tagfeaturestokeepGroupwise(metadata, ft, percentage, \"SampleType2\", \"FileNameEdits\")\n",
    "  \n",
    "head( listoffetaturestokeep)"
   ]
  },
  {
   "cell_type": "code",
   "execution_count": 19,
   "id": "a026055e-ea91-4a22-af94-7d890290d2db",
   "metadata": {},
   "outputs": [
    {
     "data": {
      "text/html": [
       "<style>\n",
       ".list-inline {list-style: none; margin:0; padding: 0}\n",
       ".list-inline>li {display: inline-block}\n",
       ".list-inline>li:not(:last-child)::after {content: \"\\00b7\"; padding: 0 .5ex}\n",
       "</style>\n",
       "<ol class=list-inline><li>7489</li><li>140</li></ol>\n"
      ],
      "text/latex": [
       "\\begin{enumerate*}\n",
       "\\item 7489\n",
       "\\item 140\n",
       "\\end{enumerate*}\n"
      ],
      "text/markdown": [
       "1. 7489\n",
       "2. 140\n",
       "\n",
       "\n"
      ],
      "text/plain": [
       "[1] 7489  140"
      ]
     },
     "metadata": {},
     "output_type": "display_data"
    }
   ],
   "source": [
    "#Keep the filtered features by presence \n",
    "ft<-ft%>%filter( (row.names(ft) %in% listoffetaturestokeep$Fid))\n",
    "dim(ft)"
   ]
  },
  {
   "cell_type": "code",
   "execution_count": 20,
   "id": "d318de8b-9c24-44eb-bb21-f5e03c4e50d9",
   "metadata": {},
   "outputs": [
    {
     "data": {
      "text/html": [
       "<table class=\"dataframe\">\n",
       "<caption>A data.frame: 6 × 140</caption>\n",
       "<thead>\n",
       "\t<tr><th></th><th scope=col>batch1_MT_20221018_147</th><th scope=col>batch1_MT_20221018_011</th><th scope=col>batch1_MT_20221018_013</th><th scope=col>batch1_MT_20221018_015</th><th scope=col>batch1_MT_20221018_017</th><th scope=col>batch1_MT_20221018_019</th><th scope=col>batch1_MT_20221018_021</th><th scope=col>batch1_MT_20221018_023</th><th scope=col>batch1_MT_20221018_025</th><th scope=col>batch1_MT_20221018_027</th><th scope=col>⋯</th><th scope=col>batch2_MT_20221019_147</th><th scope=col>batch2_MT_20221019_149</th><th scope=col>batch2_MT_20221019_151</th><th scope=col>batch2_MT_20221019_153</th><th scope=col>batch2_MT_20221019_155</th><th scope=col>batch2_MT_20221019_157</th><th scope=col>batch2_MT_20221019_159</th><th scope=col>batch2_MT_20221019_161</th><th scope=col>batch2_MT_20221019_163</th><th scope=col>batch2_MT_20221019_165</th></tr>\n",
       "\t<tr><th></th><th scope=col>&lt;dbl&gt;</th><th scope=col>&lt;dbl&gt;</th><th scope=col>&lt;dbl&gt;</th><th scope=col>&lt;dbl&gt;</th><th scope=col>&lt;dbl&gt;</th><th scope=col>&lt;dbl&gt;</th><th scope=col>&lt;dbl&gt;</th><th scope=col>&lt;dbl&gt;</th><th scope=col>&lt;dbl&gt;</th><th scope=col>&lt;dbl&gt;</th><th scope=col>⋯</th><th scope=col>&lt;dbl&gt;</th><th scope=col>&lt;dbl&gt;</th><th scope=col>&lt;dbl&gt;</th><th scope=col>&lt;dbl&gt;</th><th scope=col>&lt;dbl&gt;</th><th scope=col>&lt;dbl&gt;</th><th scope=col>&lt;dbl&gt;</th><th scope=col>&lt;dbl&gt;</th><th scope=col>&lt;dbl&gt;</th><th scope=col>&lt;dbl&gt;</th></tr>\n",
       "</thead>\n",
       "<tbody>\n",
       "\t<tr><th scope=row>F15</th><td>11929721</td><td>15638423</td><td> 7708689</td><td> 9858212</td><td> 9006167</td><td> 9511865</td><td> 7804080</td><td>11285070</td><td> 9847075</td><td>13799424</td><td>⋯</td><td> 7918144</td><td> 5705248</td><td> 9416806</td><td> 8274997</td><td> 5993130</td><td> 6957273</td><td> 5869877</td><td> 6839305</td><td> 3860720</td><td> 5193095</td></tr>\n",
       "\t<tr><th scope=row>F21</th><td>12434917</td><td>15438745</td><td> 7020187</td><td> 7857462</td><td>11432828</td><td>10189678</td><td> 6099497</td><td>15349339</td><td>12157851</td><td>10841047</td><td>⋯</td><td> 9722508</td><td> 5822892</td><td> 8760786</td><td> 7461085</td><td> 6478146</td><td> 9019885</td><td> 8553835</td><td> 7157259</td><td> 7020425</td><td> 7841902</td></tr>\n",
       "\t<tr><th scope=row>F26</th><td> 9562750</td><td> 9711141</td><td> 4153599</td><td> 5564472</td><td> 4994774</td><td> 4245783</td><td> 2990832</td><td> 4885046</td><td> 5589240</td><td> 7828907</td><td>⋯</td><td> 5325017</td><td> 4576722</td><td> 5979284</td><td> 5692525</td><td> 3800534</td><td> 4439133</td><td> 3864755</td><td> 5459333</td><td> 2365371</td><td> 2907067</td></tr>\n",
       "\t<tr><th scope=row>F27</th><td> 3457018</td><td> 3604002</td><td> 1340719</td><td> 2158727</td><td> 2947011</td><td> 2109060</td><td> 1609750</td><td> 3287503</td><td> 2569678</td><td> 3017570</td><td>⋯</td><td> 2274690</td><td> 1176394</td><td> 2028549</td><td> 1818083</td><td> 1277728</td><td> 1993387</td><td> 2168307</td><td> 1605067</td><td> 1926829</td><td> 1548306</td></tr>\n",
       "\t<tr><th scope=row>F30</th><td> 6198690</td><td> 8725693</td><td> 3020166</td><td> 3450506</td><td> 3354633</td><td> 3357627</td><td> 2087471</td><td> 4104265</td><td> 3832823</td><td> 6535859</td><td>⋯</td><td> 3644792</td><td> 3131712</td><td> 4439506</td><td> 3907212</td><td> 2618649</td><td> 3225038</td><td> 2348977</td><td> 3906519</td><td> 1855460</td><td> 2084298</td></tr>\n",
       "\t<tr><th scope=row>F35</th><td>52678913</td><td>51473232</td><td>23386379</td><td>27489933</td><td>24558149</td><td>26409431</td><td>14215777</td><td>30916827</td><td>28377048</td><td>44559373</td><td>⋯</td><td>27915952</td><td>22964256</td><td>35184203</td><td>29054576</td><td>20567480</td><td>23527008</td><td>17948403</td><td>25442403</td><td>14461808</td><td>15972853</td></tr>\n",
       "</tbody>\n",
       "</table>\n"
      ],
      "text/latex": [
       "A data.frame: 6 × 140\n",
       "\\begin{tabular}{r|lllllllllllllllllllll}\n",
       "  & batch1\\_MT\\_20221018\\_147 & batch1\\_MT\\_20221018\\_011 & batch1\\_MT\\_20221018\\_013 & batch1\\_MT\\_20221018\\_015 & batch1\\_MT\\_20221018\\_017 & batch1\\_MT\\_20221018\\_019 & batch1\\_MT\\_20221018\\_021 & batch1\\_MT\\_20221018\\_023 & batch1\\_MT\\_20221018\\_025 & batch1\\_MT\\_20221018\\_027 & ⋯ & batch2\\_MT\\_20221019\\_147 & batch2\\_MT\\_20221019\\_149 & batch2\\_MT\\_20221019\\_151 & batch2\\_MT\\_20221019\\_153 & batch2\\_MT\\_20221019\\_155 & batch2\\_MT\\_20221019\\_157 & batch2\\_MT\\_20221019\\_159 & batch2\\_MT\\_20221019\\_161 & batch2\\_MT\\_20221019\\_163 & batch2\\_MT\\_20221019\\_165\\\\\n",
       "  & <dbl> & <dbl> & <dbl> & <dbl> & <dbl> & <dbl> & <dbl> & <dbl> & <dbl> & <dbl> & ⋯ & <dbl> & <dbl> & <dbl> & <dbl> & <dbl> & <dbl> & <dbl> & <dbl> & <dbl> & <dbl>\\\\\n",
       "\\hline\n",
       "\tF15 & 11929721 & 15638423 &  7708689 &  9858212 &  9006167 &  9511865 &  7804080 & 11285070 &  9847075 & 13799424 & ⋯ &  7918144 &  5705248 &  9416806 &  8274997 &  5993130 &  6957273 &  5869877 &  6839305 &  3860720 &  5193095\\\\\n",
       "\tF21 & 12434917 & 15438745 &  7020187 &  7857462 & 11432828 & 10189678 &  6099497 & 15349339 & 12157851 & 10841047 & ⋯ &  9722508 &  5822892 &  8760786 &  7461085 &  6478146 &  9019885 &  8553835 &  7157259 &  7020425 &  7841902\\\\\n",
       "\tF26 &  9562750 &  9711141 &  4153599 &  5564472 &  4994774 &  4245783 &  2990832 &  4885046 &  5589240 &  7828907 & ⋯ &  5325017 &  4576722 &  5979284 &  5692525 &  3800534 &  4439133 &  3864755 &  5459333 &  2365371 &  2907067\\\\\n",
       "\tF27 &  3457018 &  3604002 &  1340719 &  2158727 &  2947011 &  2109060 &  1609750 &  3287503 &  2569678 &  3017570 & ⋯ &  2274690 &  1176394 &  2028549 &  1818083 &  1277728 &  1993387 &  2168307 &  1605067 &  1926829 &  1548306\\\\\n",
       "\tF30 &  6198690 &  8725693 &  3020166 &  3450506 &  3354633 &  3357627 &  2087471 &  4104265 &  3832823 &  6535859 & ⋯ &  3644792 &  3131712 &  4439506 &  3907212 &  2618649 &  3225038 &  2348977 &  3906519 &  1855460 &  2084298\\\\\n",
       "\tF35 & 52678913 & 51473232 & 23386379 & 27489933 & 24558149 & 26409431 & 14215777 & 30916827 & 28377048 & 44559373 & ⋯ & 27915952 & 22964256 & 35184203 & 29054576 & 20567480 & 23527008 & 17948403 & 25442403 & 14461808 & 15972853\\\\\n",
       "\\end{tabular}\n"
      ],
      "text/markdown": [
       "\n",
       "A data.frame: 6 × 140\n",
       "\n",
       "| <!--/--> | batch1_MT_20221018_147 &lt;dbl&gt; | batch1_MT_20221018_011 &lt;dbl&gt; | batch1_MT_20221018_013 &lt;dbl&gt; | batch1_MT_20221018_015 &lt;dbl&gt; | batch1_MT_20221018_017 &lt;dbl&gt; | batch1_MT_20221018_019 &lt;dbl&gt; | batch1_MT_20221018_021 &lt;dbl&gt; | batch1_MT_20221018_023 &lt;dbl&gt; | batch1_MT_20221018_025 &lt;dbl&gt; | batch1_MT_20221018_027 &lt;dbl&gt; | ⋯ ⋯ | batch2_MT_20221019_147 &lt;dbl&gt; | batch2_MT_20221019_149 &lt;dbl&gt; | batch2_MT_20221019_151 &lt;dbl&gt; | batch2_MT_20221019_153 &lt;dbl&gt; | batch2_MT_20221019_155 &lt;dbl&gt; | batch2_MT_20221019_157 &lt;dbl&gt; | batch2_MT_20221019_159 &lt;dbl&gt; | batch2_MT_20221019_161 &lt;dbl&gt; | batch2_MT_20221019_163 &lt;dbl&gt; | batch2_MT_20221019_165 &lt;dbl&gt; |\n",
       "|---|---|---|---|---|---|---|---|---|---|---|---|---|---|---|---|---|---|---|---|---|---|\n",
       "| F15 | 11929721 | 15638423 |  7708689 |  9858212 |  9006167 |  9511865 |  7804080 | 11285070 |  9847075 | 13799424 | ⋯ |  7918144 |  5705248 |  9416806 |  8274997 |  5993130 |  6957273 |  5869877 |  6839305 |  3860720 |  5193095 |\n",
       "| F21 | 12434917 | 15438745 |  7020187 |  7857462 | 11432828 | 10189678 |  6099497 | 15349339 | 12157851 | 10841047 | ⋯ |  9722508 |  5822892 |  8760786 |  7461085 |  6478146 |  9019885 |  8553835 |  7157259 |  7020425 |  7841902 |\n",
       "| F26 |  9562750 |  9711141 |  4153599 |  5564472 |  4994774 |  4245783 |  2990832 |  4885046 |  5589240 |  7828907 | ⋯ |  5325017 |  4576722 |  5979284 |  5692525 |  3800534 |  4439133 |  3864755 |  5459333 |  2365371 |  2907067 |\n",
       "| F27 |  3457018 |  3604002 |  1340719 |  2158727 |  2947011 |  2109060 |  1609750 |  3287503 |  2569678 |  3017570 | ⋯ |  2274690 |  1176394 |  2028549 |  1818083 |  1277728 |  1993387 |  2168307 |  1605067 |  1926829 |  1548306 |\n",
       "| F30 |  6198690 |  8725693 |  3020166 |  3450506 |  3354633 |  3357627 |  2087471 |  4104265 |  3832823 |  6535859 | ⋯ |  3644792 |  3131712 |  4439506 |  3907212 |  2618649 |  3225038 |  2348977 |  3906519 |  1855460 |  2084298 |\n",
       "| F35 | 52678913 | 51473232 | 23386379 | 27489933 | 24558149 | 26409431 | 14215777 | 30916827 | 28377048 | 44559373 | ⋯ | 27915952 | 22964256 | 35184203 | 29054576 | 20567480 | 23527008 | 17948403 | 25442403 | 14461808 | 15972853 |\n",
       "\n"
      ],
      "text/plain": [
       "    batch1_MT_20221018_147 batch1_MT_20221018_011 batch1_MT_20221018_013\n",
       "F15 11929721               15638423                7708689              \n",
       "F21 12434917               15438745                7020187              \n",
       "F26  9562750                9711141                4153599              \n",
       "F27  3457018                3604002                1340719              \n",
       "F30  6198690                8725693                3020166              \n",
       "F35 52678913               51473232               23386379              \n",
       "    batch1_MT_20221018_015 batch1_MT_20221018_017 batch1_MT_20221018_019\n",
       "F15  9858212                9006167                9511865              \n",
       "F21  7857462               11432828               10189678              \n",
       "F26  5564472                4994774                4245783              \n",
       "F27  2158727                2947011                2109060              \n",
       "F30  3450506                3354633                3357627              \n",
       "F35 27489933               24558149               26409431              \n",
       "    batch1_MT_20221018_021 batch1_MT_20221018_023 batch1_MT_20221018_025\n",
       "F15  7804080               11285070                9847075              \n",
       "F21  6099497               15349339               12157851              \n",
       "F26  2990832                4885046                5589240              \n",
       "F27  1609750                3287503                2569678              \n",
       "F30  2087471                4104265                3832823              \n",
       "F35 14215777               30916827               28377048              \n",
       "    batch1_MT_20221018_027 ⋯ batch2_MT_20221019_147 batch2_MT_20221019_149\n",
       "F15 13799424               ⋯  7918144                5705248              \n",
       "F21 10841047               ⋯  9722508                5822892              \n",
       "F26  7828907               ⋯  5325017                4576722              \n",
       "F27  3017570               ⋯  2274690                1176394              \n",
       "F30  6535859               ⋯  3644792                3131712              \n",
       "F35 44559373               ⋯ 27915952               22964256              \n",
       "    batch2_MT_20221019_151 batch2_MT_20221019_153 batch2_MT_20221019_155\n",
       "F15  9416806                8274997                5993130              \n",
       "F21  8760786                7461085                6478146              \n",
       "F26  5979284                5692525                3800534              \n",
       "F27  2028549                1818083                1277728              \n",
       "F30  4439506                3907212                2618649              \n",
       "F35 35184203               29054576               20567480              \n",
       "    batch2_MT_20221019_157 batch2_MT_20221019_159 batch2_MT_20221019_161\n",
       "F15  6957273                5869877                6839305              \n",
       "F21  9019885                8553835                7157259              \n",
       "F26  4439133                3864755                5459333              \n",
       "F27  1993387                2168307                1605067              \n",
       "F30  3225038                2348977                3906519              \n",
       "F35 23527008               17948403               25442403              \n",
       "    batch2_MT_20221019_163 batch2_MT_20221019_165\n",
       "F15  3860720                5193095              \n",
       "F21  7020425                7841902              \n",
       "F26  2365371                2907067              \n",
       "F27  1926829                1548306              \n",
       "F30  1855460                2084298              \n",
       "F35 14461808               15972853              "
      ]
     },
     "metadata": {},
     "output_type": "display_data"
    }
   ],
   "source": [
    "head(ft)"
   ]
  },
  {
   "cell_type": "code",
   "execution_count": 21,
   "id": "27b98444-5733-4f85-aa5e-baa88313e35b",
   "metadata": {},
   "outputs": [
    {
     "data": {
      "text/html": [
       "<style>\n",
       ".list-inline {list-style: none; margin:0; padding: 0}\n",
       ".list-inline>li {display: inline-block}\n",
       ".list-inline>li:not(:last-child)::after {content: \"\\00b7\"; padding: 0 .5ex}\n",
       "</style>\n",
       "<ol class=list-inline><li>11.2615073092021</li><li>36.0340602955198</li></ol>\n"
      ],
      "text/latex": [
       "\\begin{enumerate*}\n",
       "\\item 11.2615073092021\n",
       "\\item 36.0340602955198\n",
       "\\end{enumerate*}\n"
      ],
      "text/markdown": [
       "1. 11.2615073092021\n",
       "2. 36.0340602955198\n",
       "\n",
       "\n"
      ],
      "text/plain": [
       "[1] 11.26151 36.03406"
      ]
     },
     "metadata": {},
     "output_type": "display_data"
    },
    {
     "data": {
      "text/html": [
       "<table class=\"dataframe\">\n",
       "<caption>A data.frame: 6 × 140</caption>\n",
       "<thead>\n",
       "\t<tr><th></th><th scope=col>batch1_MT_20221018_147</th><th scope=col>batch1_MT_20221018_011</th><th scope=col>batch1_MT_20221018_013</th><th scope=col>batch1_MT_20221018_015</th><th scope=col>batch1_MT_20221018_017</th><th scope=col>batch1_MT_20221018_019</th><th scope=col>batch1_MT_20221018_021</th><th scope=col>batch1_MT_20221018_023</th><th scope=col>batch1_MT_20221018_025</th><th scope=col>batch1_MT_20221018_027</th><th scope=col>⋯</th><th scope=col>batch2_MT_20221019_147</th><th scope=col>batch2_MT_20221019_149</th><th scope=col>batch2_MT_20221019_151</th><th scope=col>batch2_MT_20221019_153</th><th scope=col>batch2_MT_20221019_155</th><th scope=col>batch2_MT_20221019_157</th><th scope=col>batch2_MT_20221019_159</th><th scope=col>batch2_MT_20221019_161</th><th scope=col>batch2_MT_20221019_163</th><th scope=col>batch2_MT_20221019_165</th></tr>\n",
       "\t<tr><th></th><th scope=col>&lt;dbl&gt;</th><th scope=col>&lt;dbl&gt;</th><th scope=col>&lt;dbl&gt;</th><th scope=col>&lt;dbl&gt;</th><th scope=col>&lt;dbl&gt;</th><th scope=col>&lt;dbl&gt;</th><th scope=col>&lt;dbl&gt;</th><th scope=col>&lt;dbl&gt;</th><th scope=col>&lt;dbl&gt;</th><th scope=col>&lt;dbl&gt;</th><th scope=col>⋯</th><th scope=col>&lt;dbl&gt;</th><th scope=col>&lt;dbl&gt;</th><th scope=col>&lt;dbl&gt;</th><th scope=col>&lt;dbl&gt;</th><th scope=col>&lt;dbl&gt;</th><th scope=col>&lt;dbl&gt;</th><th scope=col>&lt;dbl&gt;</th><th scope=col>&lt;dbl&gt;</th><th scope=col>&lt;dbl&gt;</th><th scope=col>&lt;dbl&gt;</th></tr>\n",
       "</thead>\n",
       "<tbody>\n",
       "\t<tr><th scope=row>F15</th><td>23.50806</td><td>23.89859</td><td>22.87805</td><td>23.23289</td><td>23.10248</td><td>23.18130</td><td>22.89580</td><td>23.42791</td><td>23.23126</td><td>23.71810</td><td>⋯</td><td>22.91673</td><td>22.44386</td><td>23.16681</td><td>22.98033</td><td>22.51488</td><td>22.73009</td><td>22.48490</td><td>22.70542</td><td>21.88044</td><td>22.30816</td></tr>\n",
       "\t<tr><th scope=row>F21</th><td>23.56789</td><td>23.88005</td><td>22.74308</td><td>22.90563</td><td>23.44668</td><td>23.28061</td><td>22.54026</td><td>23.87167</td><td>23.53539</td><td>23.37000</td><td>⋯</td><td>23.21290</td><td>22.47330</td><td>23.06263</td><td>22.83095</td><td>22.62715</td><td>23.10468</td><td>23.02814</td><td>22.77098</td><td>22.74313</td><td>22.90277</td></tr>\n",
       "\t<tr><th scope=row>F26</th><td>23.18899</td><td>23.21121</td><td>21.98593</td><td>22.40781</td><td>22.25199</td><td>22.01760</td><td>21.51212</td><td>22.21994</td><td>22.41422</td><td>22.90038</td><td>⋯</td><td>22.34435</td><td>22.12588</td><td>22.51154</td><td>22.44064</td><td>21.85777</td><td>22.08185</td><td>21.88195</td><td>22.38029</td><td>21.17364</td><td>21.47113</td></tr>\n",
       "\t<tr><th scope=row>F27</th><td>21.72110</td><td>21.78117</td><td>20.35458</td><td>21.04175</td><td>21.49082</td><td>21.00817</td><td>20.61841</td><td>21.64856</td><td>21.29316</td><td>21.52496</td><td>⋯</td><td>21.11724</td><td>20.16594</td><td>20.95202</td><td>20.79399</td><td>20.28515</td><td>20.92679</td><td>21.04814</td><td>20.61420</td><td>20.87780</td><td>20.56226</td></tr>\n",
       "\t<tr><th scope=row>F30</th><td>22.56353</td><td>23.05684</td><td>21.52620</td><td>21.71838</td><td>21.67772</td><td>21.67901</td><td>20.99333</td><td>21.96869</td><td>21.86998</td><td>22.63995</td><td>⋯</td><td>21.79741</td><td>21.57852</td><td>22.08197</td><td>21.89771</td><td>21.32039</td><td>21.62089</td><td>21.16360</td><td>21.89745</td><td>20.82335</td><td>20.99113</td></tr>\n",
       "\t<tr><th scope=row>F35</th><td>25.65072</td><td>25.61732</td><td>24.47917</td><td>24.71240</td><td>24.54970</td><td>24.65455</td><td>23.76099</td><td>24.88189</td><td>24.75822</td><td>25.40923</td><td>⋯</td><td>24.73459</td><td>24.45289</td><td>25.06842</td><td>24.79226</td><td>24.29386</td><td>24.48781</td><td>24.09735</td><td>24.60073</td><td>23.78574</td><td>23.92912</td></tr>\n",
       "</tbody>\n",
       "</table>\n"
      ],
      "text/latex": [
       "A data.frame: 6 × 140\n",
       "\\begin{tabular}{r|lllllllllllllllllllll}\n",
       "  & batch1\\_MT\\_20221018\\_147 & batch1\\_MT\\_20221018\\_011 & batch1\\_MT\\_20221018\\_013 & batch1\\_MT\\_20221018\\_015 & batch1\\_MT\\_20221018\\_017 & batch1\\_MT\\_20221018\\_019 & batch1\\_MT\\_20221018\\_021 & batch1\\_MT\\_20221018\\_023 & batch1\\_MT\\_20221018\\_025 & batch1\\_MT\\_20221018\\_027 & ⋯ & batch2\\_MT\\_20221019\\_147 & batch2\\_MT\\_20221019\\_149 & batch2\\_MT\\_20221019\\_151 & batch2\\_MT\\_20221019\\_153 & batch2\\_MT\\_20221019\\_155 & batch2\\_MT\\_20221019\\_157 & batch2\\_MT\\_20221019\\_159 & batch2\\_MT\\_20221019\\_161 & batch2\\_MT\\_20221019\\_163 & batch2\\_MT\\_20221019\\_165\\\\\n",
       "  & <dbl> & <dbl> & <dbl> & <dbl> & <dbl> & <dbl> & <dbl> & <dbl> & <dbl> & <dbl> & ⋯ & <dbl> & <dbl> & <dbl> & <dbl> & <dbl> & <dbl> & <dbl> & <dbl> & <dbl> & <dbl>\\\\\n",
       "\\hline\n",
       "\tF15 & 23.50806 & 23.89859 & 22.87805 & 23.23289 & 23.10248 & 23.18130 & 22.89580 & 23.42791 & 23.23126 & 23.71810 & ⋯ & 22.91673 & 22.44386 & 23.16681 & 22.98033 & 22.51488 & 22.73009 & 22.48490 & 22.70542 & 21.88044 & 22.30816\\\\\n",
       "\tF21 & 23.56789 & 23.88005 & 22.74308 & 22.90563 & 23.44668 & 23.28061 & 22.54026 & 23.87167 & 23.53539 & 23.37000 & ⋯ & 23.21290 & 22.47330 & 23.06263 & 22.83095 & 22.62715 & 23.10468 & 23.02814 & 22.77098 & 22.74313 & 22.90277\\\\\n",
       "\tF26 & 23.18899 & 23.21121 & 21.98593 & 22.40781 & 22.25199 & 22.01760 & 21.51212 & 22.21994 & 22.41422 & 22.90038 & ⋯ & 22.34435 & 22.12588 & 22.51154 & 22.44064 & 21.85777 & 22.08185 & 21.88195 & 22.38029 & 21.17364 & 21.47113\\\\\n",
       "\tF27 & 21.72110 & 21.78117 & 20.35458 & 21.04175 & 21.49082 & 21.00817 & 20.61841 & 21.64856 & 21.29316 & 21.52496 & ⋯ & 21.11724 & 20.16594 & 20.95202 & 20.79399 & 20.28515 & 20.92679 & 21.04814 & 20.61420 & 20.87780 & 20.56226\\\\\n",
       "\tF30 & 22.56353 & 23.05684 & 21.52620 & 21.71838 & 21.67772 & 21.67901 & 20.99333 & 21.96869 & 21.86998 & 22.63995 & ⋯ & 21.79741 & 21.57852 & 22.08197 & 21.89771 & 21.32039 & 21.62089 & 21.16360 & 21.89745 & 20.82335 & 20.99113\\\\\n",
       "\tF35 & 25.65072 & 25.61732 & 24.47917 & 24.71240 & 24.54970 & 24.65455 & 23.76099 & 24.88189 & 24.75822 & 25.40923 & ⋯ & 24.73459 & 24.45289 & 25.06842 & 24.79226 & 24.29386 & 24.48781 & 24.09735 & 24.60073 & 23.78574 & 23.92912\\\\\n",
       "\\end{tabular}\n"
      ],
      "text/markdown": [
       "\n",
       "A data.frame: 6 × 140\n",
       "\n",
       "| <!--/--> | batch1_MT_20221018_147 &lt;dbl&gt; | batch1_MT_20221018_011 &lt;dbl&gt; | batch1_MT_20221018_013 &lt;dbl&gt; | batch1_MT_20221018_015 &lt;dbl&gt; | batch1_MT_20221018_017 &lt;dbl&gt; | batch1_MT_20221018_019 &lt;dbl&gt; | batch1_MT_20221018_021 &lt;dbl&gt; | batch1_MT_20221018_023 &lt;dbl&gt; | batch1_MT_20221018_025 &lt;dbl&gt; | batch1_MT_20221018_027 &lt;dbl&gt; | ⋯ ⋯ | batch2_MT_20221019_147 &lt;dbl&gt; | batch2_MT_20221019_149 &lt;dbl&gt; | batch2_MT_20221019_151 &lt;dbl&gt; | batch2_MT_20221019_153 &lt;dbl&gt; | batch2_MT_20221019_155 &lt;dbl&gt; | batch2_MT_20221019_157 &lt;dbl&gt; | batch2_MT_20221019_159 &lt;dbl&gt; | batch2_MT_20221019_161 &lt;dbl&gt; | batch2_MT_20221019_163 &lt;dbl&gt; | batch2_MT_20221019_165 &lt;dbl&gt; |\n",
       "|---|---|---|---|---|---|---|---|---|---|---|---|---|---|---|---|---|---|---|---|---|---|\n",
       "| F15 | 23.50806 | 23.89859 | 22.87805 | 23.23289 | 23.10248 | 23.18130 | 22.89580 | 23.42791 | 23.23126 | 23.71810 | ⋯ | 22.91673 | 22.44386 | 23.16681 | 22.98033 | 22.51488 | 22.73009 | 22.48490 | 22.70542 | 21.88044 | 22.30816 |\n",
       "| F21 | 23.56789 | 23.88005 | 22.74308 | 22.90563 | 23.44668 | 23.28061 | 22.54026 | 23.87167 | 23.53539 | 23.37000 | ⋯ | 23.21290 | 22.47330 | 23.06263 | 22.83095 | 22.62715 | 23.10468 | 23.02814 | 22.77098 | 22.74313 | 22.90277 |\n",
       "| F26 | 23.18899 | 23.21121 | 21.98593 | 22.40781 | 22.25199 | 22.01760 | 21.51212 | 22.21994 | 22.41422 | 22.90038 | ⋯ | 22.34435 | 22.12588 | 22.51154 | 22.44064 | 21.85777 | 22.08185 | 21.88195 | 22.38029 | 21.17364 | 21.47113 |\n",
       "| F27 | 21.72110 | 21.78117 | 20.35458 | 21.04175 | 21.49082 | 21.00817 | 20.61841 | 21.64856 | 21.29316 | 21.52496 | ⋯ | 21.11724 | 20.16594 | 20.95202 | 20.79399 | 20.28515 | 20.92679 | 21.04814 | 20.61420 | 20.87780 | 20.56226 |\n",
       "| F30 | 22.56353 | 23.05684 | 21.52620 | 21.71838 | 21.67772 | 21.67901 | 20.99333 | 21.96869 | 21.86998 | 22.63995 | ⋯ | 21.79741 | 21.57852 | 22.08197 | 21.89771 | 21.32039 | 21.62089 | 21.16360 | 21.89745 | 20.82335 | 20.99113 |\n",
       "| F35 | 25.65072 | 25.61732 | 24.47917 | 24.71240 | 24.54970 | 24.65455 | 23.76099 | 24.88189 | 24.75822 | 25.40923 | ⋯ | 24.73459 | 24.45289 | 25.06842 | 24.79226 | 24.29386 | 24.48781 | 24.09735 | 24.60073 | 23.78574 | 23.92912 |\n",
       "\n"
      ],
      "text/plain": [
       "    batch1_MT_20221018_147 batch1_MT_20221018_011 batch1_MT_20221018_013\n",
       "F15 23.50806               23.89859               22.87805              \n",
       "F21 23.56789               23.88005               22.74308              \n",
       "F26 23.18899               23.21121               21.98593              \n",
       "F27 21.72110               21.78117               20.35458              \n",
       "F30 22.56353               23.05684               21.52620              \n",
       "F35 25.65072               25.61732               24.47917              \n",
       "    batch1_MT_20221018_015 batch1_MT_20221018_017 batch1_MT_20221018_019\n",
       "F15 23.23289               23.10248               23.18130              \n",
       "F21 22.90563               23.44668               23.28061              \n",
       "F26 22.40781               22.25199               22.01760              \n",
       "F27 21.04175               21.49082               21.00817              \n",
       "F30 21.71838               21.67772               21.67901              \n",
       "F35 24.71240               24.54970               24.65455              \n",
       "    batch1_MT_20221018_021 batch1_MT_20221018_023 batch1_MT_20221018_025\n",
       "F15 22.89580               23.42791               23.23126              \n",
       "F21 22.54026               23.87167               23.53539              \n",
       "F26 21.51212               22.21994               22.41422              \n",
       "F27 20.61841               21.64856               21.29316              \n",
       "F30 20.99333               21.96869               21.86998              \n",
       "F35 23.76099               24.88189               24.75822              \n",
       "    batch1_MT_20221018_027 ⋯ batch2_MT_20221019_147 batch2_MT_20221019_149\n",
       "F15 23.71810               ⋯ 22.91673               22.44386              \n",
       "F21 23.37000               ⋯ 23.21290               22.47330              \n",
       "F26 22.90038               ⋯ 22.34435               22.12588              \n",
       "F27 21.52496               ⋯ 21.11724               20.16594              \n",
       "F30 22.63995               ⋯ 21.79741               21.57852              \n",
       "F35 25.40923               ⋯ 24.73459               24.45289              \n",
       "    batch2_MT_20221019_151 batch2_MT_20221019_153 batch2_MT_20221019_155\n",
       "F15 23.16681               22.98033               22.51488              \n",
       "F21 23.06263               22.83095               22.62715              \n",
       "F26 22.51154               22.44064               21.85777              \n",
       "F27 20.95202               20.79399               20.28515              \n",
       "F30 22.08197               21.89771               21.32039              \n",
       "F35 25.06842               24.79226               24.29386              \n",
       "    batch2_MT_20221019_157 batch2_MT_20221019_159 batch2_MT_20221019_161\n",
       "F15 22.73009               22.48490               22.70542              \n",
       "F21 23.10468               23.02814               22.77098              \n",
       "F26 22.08185               21.88195               22.38029              \n",
       "F27 20.92679               21.04814               20.61420              \n",
       "F30 21.62089               21.16360               21.89745              \n",
       "F35 24.48781               24.09735               24.60073              \n",
       "    batch2_MT_20221019_163 batch2_MT_20221019_165\n",
       "F15 21.88044               22.30816              \n",
       "F21 22.74313               22.90277              \n",
       "F26 21.17364               21.47113              \n",
       "F27 20.87780               20.56226              \n",
       "F30 20.82335               20.99113              \n",
       "F35 23.78574               23.92912              "
      ]
     },
     "metadata": {},
     "output_type": "display_data"
    }
   ],
   "source": [
    "#filter by presence in > 70% samples\n",
    "#ft<-ft%>%filter(detection_counts >= (ncol(ft)-4)*0.70)\n",
    "#print(dim(ft))\n",
    "ft.expr<-ft\n",
    "\n",
    "#imputing 0s with minimim row values > 0 \n",
    "ft.expr<-apply(ft.expr, 1, function(x) \"[<-\"(x, x==0, min(x[x > 0])/2))%>%t()%>%data.frame()\n",
    "#log \n",
    "ft.expr<-log2(ft.expr+1)\n",
    "range(ft.expr)\n",
    "\n",
    "head(ft.expr)"
   ]
  },
  {
   "cell_type": "markdown",
   "id": "bb5f2237-3340-474a-85db-b9dd209769aa",
   "metadata": {},
   "source": [
    "write.table (ft.expr,\n",
    "             \"FT.tsv\", \n",
    "             row.names=TRUE,\n",
    "             sep=\"\\t\")"
   ]
  },
  {
   "cell_type": "code",
   "execution_count": null,
   "id": "4c9ef228-288e-434d-be48-d652842d7d9f",
   "metadata": {},
   "outputs": [],
   "source": []
  }
 ],
 "metadata": {
  "kernelspec": {
   "display_name": "R",
   "language": "R",
   "name": "ir"
  },
  "language_info": {
   "codemirror_mode": "r",
   "file_extension": ".r",
   "mimetype": "text/x-r-source",
   "name": "R",
   "pygments_lexer": "r",
   "version": "4.1.3"
  }
 },
 "nbformat": 4,
 "nbformat_minor": 5
}
